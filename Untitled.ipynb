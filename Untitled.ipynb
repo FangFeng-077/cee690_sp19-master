{
 "cells": [
  {
   "cell_type": "markdown",
   "metadata": {},
   "source": [
    "# HW3 "
   ]
  },
  {
   "cell_type": "markdown",
   "metadata": {},
   "source": [
    "# Set Up"
   ]
  },
  {
   "cell_type": "code",
   "execution_count": 18,
   "metadata": {},
   "outputs": [],
   "source": [
    "# To support both python 2 and python 3\n",
    "from __future__ import division, print_function, unicode_literals\n",
    "\n",
    "# We need to import key libraries that we're going to use.  \n",
    "# For now this is just numpy, which is our linear algebra library\n",
    "import numpy as np\n",
    "\n",
    "import pandas as pd"
   ]
  },
  {
   "cell_type": "code",
   "execution_count": 19,
   "metadata": {},
   "outputs": [],
   "source": [
    "# to make this notebook's output stable across runs, we are going to see the random seed\n",
    "np.random.seed(42)"
   ]
  },
  {
   "cell_type": "code",
   "execution_count": 20,
   "metadata": {},
   "outputs": [],
   "source": [
    "# To plot pretty figures\n",
    "import matplotlib.pyplot as plt\n",
    "%matplotlib inline \n",
    "# This command figures show up in the notebook.  It's a \"magic\" command...\n",
    "# Typically, this now happens by default so it is often an unnecessary command, but is good for standardization.\n",
    "plt.rcParams['axes.labelsize'] = 14\n",
    "plt.rcParams['xtick.labelsize'] = 12\n",
    "plt.rcParams['ytick.labelsize'] = 12"
   ]
  },
  {
   "cell_type": "code",
   "execution_count": 21,
   "metadata": {},
   "outputs": [],
   "source": [
    "# Where to save the figures\n",
    "PROJECT_ROOT_DIR = \".\"\n",
    "PROJECT_SAVE_DIR = \"hw3\""
   ]
  },
  {
   "cell_type": "code",
   "execution_count": 22,
   "metadata": {},
   "outputs": [
    {
     "name": "stdout",
     "output_type": "stream",
     "text": [
      "Figure directory exists.\n"
     ]
    }
   ],
   "source": [
    "# makes the directory if it doesn't exist.\n",
    "import os\n",
    "if not (os.path.isdir(PROJECT_ROOT_DIR+'/'+PROJECT_SAVE_DIR)):\n",
    "    print('Figure directory didn\\'t exist, creating now.')\n",
    "    os.mkdir(PROJECT_ROOT_DIR+'/'+PROJECT_SAVE_DIR)\n",
    "else:\n",
    "    print('Figure directory exists.') "
   ]
  },
  {
   "cell_type": "code",
   "execution_count": 23,
   "metadata": {},
   "outputs": [],
   "source": [
    " #a simple defined helper function.\n",
    "def savepdf(fig,name):\n",
    "    fig.savefig(PROJECT_ROOT_DIR+'/'+PROJECT_SAVE_DIR+'/'+name+'.pdf')"
   ]
  },
  {
   "cell_type": "markdown",
   "metadata": {},
   "source": [
    "# P 2"
   ]
  },
  {
   "cell_type": "code",
   "execution_count": 188,
   "metadata": {},
   "outputs": [
    {
     "name": "stdout",
     "output_type": "stream",
     "text": [
      "[ 1.17155755  0.3200264  -3.63249813  2.80132312 -0.03278291  0.26844134\n",
      " -1.99872843 -1.45079839  1.2004741   0.71794692  1.64923857 -1.67039533\n",
      "  0.12599072 -0.30042517  2.26822609 -1.06737676 -1.9932436   0.588105\n",
      " -0.06499651  0.70166146  1.83867049  1.12949067  0.47364405 -3.49537258\n",
      " -1.67451767  3.28910919 -1.36325048 -0.29870539 -0.39788303  0.49554377\n",
      "  0.91530936  1.53520328  0.55095592  0.42500646 -3.18862805  0.52730994\n",
      " -0.00795183  0.07774044  0.7435962  -0.39504501  0.58107546  1.47372284\n",
      " -2.07019006 -0.95262771  1.09023038 -1.21290956  0.85924812 -2.55237629\n",
      "  2.2827092   0.07707144]\n"
     ]
    }
   ],
   "source": [
    "ydf=pd.read_csv('hw2/hw2_problem_4_y_blind.csv')\n",
    "y_blind=np.array(ydf.values[:,1],dtype=np.float64)\n",
    "print(y_blind)"
   ]
  },
  {
   "cell_type": "code",
   "execution_count": 189,
   "metadata": {},
   "outputs": [
    {
     "name": "stdout",
     "output_type": "stream",
     "text": [
      "1.084704542525555\n"
     ]
    }
   ],
   "source": [
    "ydf2=pd.read_csv('answers/hw2_problem_4_y_blind_predicted.csv')\n",
    "y_predict=np.array(ydf2.values[:,1],dtype=np.float64)\n",
    "mse=mean_squared_error(y_true=y_blind,y_pred=y_predict)\n",
    "\n",
    "print(mse)"
   ]
  },
  {
   "cell_type": "code",
   "execution_count": 195,
   "metadata": {},
   "outputs": [],
   "source": [
    "y_blind_df=pd.read_csv('hw2/hw2_problem_5_y_blind.csv')\n",
    "y_blind=np.array(y_blind_df.values[:,1],dtype=np.float64)"
   ]
  },
  {
   "cell_type": "code",
   "execution_count": 197,
   "metadata": {},
   "outputs": [
    {
     "name": "stdout",
     "output_type": "stream",
     "text": [
      "0.6536590280976509\n"
     ]
    }
   ],
   "source": [
    "ydf2=pd.read_csv('answers/hw2_problem_5_y_blind_predicted.csv')\n",
    "y_predict2=np.array(ydf2.values[:,1],dtype=np.float64)\n",
    "\n",
    "fpr, tpr, _ = metrics.roc_curve(y_blind, y_predict2)\n",
    "roc_auc = metrics.auc(fpr, tpr)\n",
    "print(roc_auc)"
   ]
  },
  {
   "cell_type": "markdown",
   "metadata": {},
   "source": [
    "# P3"
   ]
  },
  {
   "cell_type": "code",
   "execution_count": 26,
   "metadata": {},
   "outputs": [],
   "source": [
    "from sklearn import datasets, model_selection, linear_model, cluster\n",
    "from sklearn.datasets import load_iris\n",
    "from sklearn.metrics import mean_squared_error\n",
    "from numpy import linalg as LA\n",
    "import math"
   ]
  },
  {
   "cell_type": "code",
   "execution_count": 27,
   "metadata": {},
   "outputs": [],
   "source": [
    "data=load_iris(return_X_y=False)['data']"
   ]
  },
  {
   "cell_type": "code",
   "execution_count": 28,
   "metadata": {},
   "outputs": [],
   "source": [
    "def mse(x, centers):\n",
    "    mins = 0\n",
    "    for xi in x:\n",
    "        min_norm = math.inf\n",
    "        for c in centers:\n",
    "            norm = LA.norm(xi - c)\n",
    "            if norm < min_norm:\n",
    "                min_norm = norm\n",
    "        mins += min_norm\n",
    "    return mins"
   ]
  },
  {
   "cell_type": "code",
   "execution_count": 29,
   "metadata": {},
   "outputs": [],
   "source": [
    "def kmeans(x):\n",
    "    n_kcluster = 20\n",
    "    kcluster = np.array([i for i in range(3, 24)])\n",
    "    mses=np.zeros(kcluster.shape)\n",
    "    for i,k in enumerate(kcluster):\n",
    "        kmeans=cluster.MiniBatchKMeans(n_clusters=k,max_iter=100)\n",
    "        kmeans.fit(x)\n",
    "        centers=kmeans.cluster_centers_\n",
    "        mses[i] = mse(x, centers)\n",
    "    return mses"
   ]
  },
  {
   "cell_type": "code",
   "execution_count": 30,
   "metadata": {},
   "outputs": [],
   "source": [
    "mse_iris = kmeans(data)"
   ]
  },
  {
   "cell_type": "code",
   "execution_count": 32,
   "metadata": {},
   "outputs": [
    {
     "data": {
      "text/plain": [
       "[<matplotlib.lines.Line2D at 0x12063c6a0>]"
      ]
     },
     "execution_count": 32,
     "metadata": {},
     "output_type": "execute_result"
    },
    {
     "data": {
      "image/png": "[encoded data removed]",
      "text/plain": [
       "<Figure size 432x288 with 1 Axes>"
      ]
     },
     "metadata": {
      "needs_background": "light"
     },
     "output_type": "display_data"
    }
   ],
   "source": [
    "plt.plot(mse_iris)\n",
    "plt.title('P3 iris')\n",
    "plt.xlabel(\"number of clusters\")\n",
    "plt.ylabel(\"MSE\")"
   ]
  },
  {
   "cell_type": "code",
   "execution_count": 33,
   "metadata": {},
   "outputs": [
    {
     "name": "stdout",
     "output_type": "stream",
     "text": [
      "(2242, 40)\n"
     ]
    }
   ],
   "source": [
    "Xdf=pd.read_csv('hw3/hw3_physio.csv')\n",
    "X=np.array(Xdf.values[:,1:],dtype=np.float64)\n",
    "print(X.shape)"
   ]
  },
  {
   "cell_type": "code",
   "execution_count": 34,
   "metadata": {},
   "outputs": [],
   "source": [
    "mse_physio = kmeans(X)"
   ]
  },
  {
   "cell_type": "code",
   "execution_count": 36,
   "metadata": {},
   "outputs": [
    {
     "data": {
      "text/plain": [
       "[<matplotlib.lines.Line2D at 0x11f70d1d0>]"
      ]
     },
     "execution_count": 36,
     "metadata": {},
     "output_type": "execute_result"
    },
    {
     "data": {
      "image/png": "[encoded data removed]",
      "text/plain": [
       "<Figure size 432x288 with 1 Axes>"
      ]
     },
     "metadata": {
      "needs_background": "light"
     },
     "output_type": "display_data"
    }
   ],
   "source": [
    "plt.plot(mse_physio)\n",
    "plt.title('P3 physio')\n",
    "plt.xlabel(\"number of clusters\")\n",
    "plt.ylabel(\"MSE\")"
   ]
  },
  {
   "cell_type": "markdown",
   "metadata": {},
   "source": [
    "# P4"
   ]
  },
  {
   "cell_type": "code",
   "execution_count": 120,
   "metadata": {},
   "outputs": [
    {
     "name": "stdout",
     "output_type": "stream",
     "text": [
      "-280.05566349312784 280.4784201423917\n"
     ]
    }
   ],
   "source": [
    "Xdf=pd.read_csv('hw3/hw3_physio.csv')\n",
    "X=np.array(Xdf.values[:,1:],dtype=np.float64)\n",
    "print(X.min(), X.max())\n",
    "X = X/(max(abs(X.min()), abs(X.max())))"
   ]
  },
  {
   "cell_type": "code",
   "execution_count": 121,
   "metadata": {},
   "outputs": [],
   "source": [
    "from sklearn import decomposition, model_selection\n",
    "from mpl_toolkits.axes_grid1 import make_axes_locatable"
   ]
  },
  {
   "cell_type": "code",
   "execution_count": 122,
   "metadata": {},
   "outputs": [
    {
     "data": {
      "text/plain": [
       "PCA(copy=True, iterated_power='auto', n_components=15, random_state=None,\n",
       "  svd_solver='auto', tol=0.0, whiten=False)"
      ]
     },
     "execution_count": 122,
     "metadata": {},
     "output_type": "execute_result"
    }
   ],
   "source": [
    "n_components = 15\n",
    "pca=decomposition.PCA(n_components=n_components)\n",
    "pca.fit(X)"
   ]
  },
  {
   "cell_type": "code",
   "execution_count": 123,
   "metadata": {},
   "outputs": [
    {
     "data": {
      "image/png": "[encoded data removed]",
      "text/plain": [
       "<Figure size 720x432 with 18 Axes>"
      ]
     },
     "metadata": {
      "needs_background": "light"
     },
     "output_type": "display_data"
    }
   ],
   "source": [
    "# visualize components\n",
    "fig=plt.figure(figsize=[10,6])\n",
    "components=pca.components_\n",
    "maxabs=np.max(np.abs(components[:n_components]))\n",
    "for i,component in enumerate(components):\n",
    "    if i>=n_components:\n",
    "        continue\n",
    "    ax=plt.subplot(3,5,i+1)\n",
    "    image = np.reshape(component,[5,8])\n",
    "    im=ax.imshow(image, cmap='bwr',vmin=-maxabs,vmax=maxabs)\n",
    "    plt.xticks([])\n",
    "    plt.yticks([])\n",
    "    if (i%5)==0:\n",
    "        divider = make_axes_locatable(ax)\n",
    "        cax = divider.append_axes(\"left\", size=\"5%\", pad=0.05)\n",
    "        #cb = mpl.colorbar.ColorbarBase(cax,orientation='vertical')\n",
    "        h=plt.colorbar(im,cax=cax,orientation='vertical')\n",
    "        cax.yaxis.set_ticks_position('left')\n",
    "        cax.yaxis.set_label_position('left')\n",
    "plt.show()"
   ]
  },
  {
   "cell_type": "code",
   "execution_count": 129,
   "metadata": {},
   "outputs": [
    {
     "data": {
      "image/png": "[encoded data removed]",
      "text/plain": [
       "<Figure size 864x360 with 6 Axes>"
      ]
     },
     "metadata": {
      "needs_background": "light"
     },
     "output_type": "display_data"
    }
   ],
   "source": [
    "# visualize data after embedding top 2 principle components\n",
    "pca=decomposition.PCA(n_components=2)\n",
    "pca.fit(X)\n",
    "i = 20\n",
    "x = X[i]\n",
    "# Show the original image\n",
    "fig=plt.figure(figsize=[12,5])\n",
    "ax=plt.subplot(1,3,1)\n",
    "image = np.reshape(x,[5,8])\n",
    "im=ax.imshow(image, cmap='Greys')\n",
    "plt.title('Original')\n",
    "plt.xticks([])\n",
    "plt.yticks([])\n",
    "divider = make_axes_locatable(ax)\n",
    "cax = divider.append_axes(\"left\", size=\"5%\", pad=0.05)\n",
    "#cb = mpl.colorbar.ColorbarBase(cax,orientation='vertical')\n",
    "h=plt.colorbar(im,cax=cax,orientation='vertical')\n",
    "cax.yaxis.set_ticks_position('left')\n",
    "cax.yaxis.set_label_position('left')\n",
    "# Project to PCA and back to get the reconstruction\n",
    "ax=plt.subplot(1,3,2)\n",
    "image = np.reshape(pca.inverse_transform(pca.transform(x.reshape(1,-1))),[5,8])\n",
    "im=ax.imshow(image, cmap='Greys')\n",
    "plt.title('Reconstructed')\n",
    "plt.xticks([])\n",
    "plt.yticks([])\n",
    "divider = make_axes_locatable(ax)\n",
    "cax = divider.append_axes(\"right\", size=\"5%\", pad=0.05)\n",
    "h=plt.colorbar(im,cax=cax,orientation='vertical')\n",
    "# Project to PCA and back to get the residual\n",
    "ax=plt.subplot(1,3,3)\n",
    "image = np.reshape(x-pca.inverse_transform(pca.transform(x.reshape(1,-1))),[5,8])\n",
    "im=ax.imshow(image, cmap='bwr', vmin=-1,vmax=1)\n",
    "plt.title('Residual')\n",
    "plt.xticks([])\n",
    "plt.yticks([])\n",
    "divider = make_axes_locatable(ax)\n",
    "cax = divider.append_axes(\"right\", size=\"5%\", pad=0.05)\n",
    "#cb = mpl.colorbar.ColorbarBase(cax,orientation='vertical')\n",
    "h=plt.colorbar(im,cax=cax,orientation='vertical')\n",
    "cax.yaxis.set_ticks_position('right')\n",
    "cax.yaxis.set_label_position('right')"
   ]
  },
  {
   "cell_type": "code",
   "execution_count": 130,
   "metadata": {},
   "outputs": [
    {
     "data": {
      "text/plain": [
       "Text(0, 0.5, 'reconstruction error')"
      ]
     },
     "execution_count": 130,
     "metadata": {},
     "output_type": "execute_result"
    },
    {
     "data": {
      "image/png": "[encoded data removed]",
      "text/plain": [
       "<Figure size 432x288 with 1 Axes>"
      ]
     },
     "metadata": {
      "needs_background": "light"
     },
     "output_type": "display_data"
    }
   ],
   "source": [
    "# error plot\n",
    "n=30\n",
    "errors=np.zeros(n)\n",
    "for k in range(n):\n",
    "    pca=decomposition.PCA(n_components= k+1)\n",
    "    pca.fit(X)\n",
    "    X_projected=pca.inverse_transform(pca.transform(X))\n",
    "    error = ((X - X_projected) ** 2).mean()#????\n",
    "    errors[k]=error\n",
    "plt.plot(errors)\n",
    "plt.title('P4')\n",
    "plt.xlabel(\"components\")\n",
    "plt.ylabel(\"reconstruction error\")"
   ]
  },
  {
   "cell_type": "markdown",
   "metadata": {},
   "source": [
    "# P 5"
   ]
  },
  {
   "cell_type": "code",
   "execution_count": 131,
   "metadata": {},
   "outputs": [],
   "source": [
    "from sklearn import metrics\n",
    "\n",
    "Xdf=pd.read_csv('hw3/hw3_problem_5_X.csv')\n",
    "ydf=pd.read_csv('hw3/hw3_problem_5_y.csv')\n",
    "Xdf_blind=pd.read_csv('hw3/hw3_problem_5_X_blind.csv')\n",
    "X=np.array(Xdf.values[:,1:],dtype=np.float64)\n",
    "y=np.array(ydf.values[:,1],dtype=np.float64)\n",
    "X_blind=np.array(Xdf_blind.values[:,1:],dtype=np.float64)"
   ]
  },
  {
   "cell_type": "code",
   "execution_count": 132,
   "metadata": {},
   "outputs": [],
   "source": [
    "X_train,X_valid,y_train,y_valid=model_selection.train_test_split(X,y,random_state=42)"
   ]
  },
  {
   "cell_type": "code",
   "execution_count": 133,
   "metadata": {},
   "outputs": [],
   "source": [
    "# def visualize_kernels(reg,gamma=100,minval=0,maxval=1):\n",
    "#     def rbf(x,center=0,gamma=20):\n",
    "#         return np.exp(-(x-center)**2*gamma)\n",
    "#     xi=np.linspace(minval,maxval,1001)\n",
    "#     bl=reg.intercept_\n",
    "#     for i in range(len(reg.support_vectors_)):\n",
    "#         w=reg.dual_coef_[0][i]       \n",
    "#         pr=w*rbf(xi,reg.support_vectors_[i],gamma=gamma)\n",
    "#         if w>0:     \n",
    "#             plt.fill(np.concatenate([[0.],xi,[1.]]),bl+\\\n",
    "#                                     np.concatenate([[0.],pr,[0.]]),'r',alpha=.25)\n",
    "#             plt.plot([reg.support_vectors_[i],reg.support_vectors_[i]],[bl,bl+w],'--k',alpha=.5)\n",
    "#         else:\n",
    "#             plt.fill(np.concatenate([[0.],xi,[1.]]),bl+\\\n",
    "#                                     np.concatenate([[0.],pr,[0.]]),'b',alpha=.25)\n",
    "#             plt.plot([reg.support_vectors_[i],reg.support_vectors_[i]],[bl,bl+w],'--k',alpha=.5)\n",
    "#     return None"
   ]
  },
  {
   "cell_type": "code",
   "execution_count": 134,
   "metadata": {},
   "outputs": [],
   "source": [
    "from sklearn import svm, pipeline"
   ]
  },
  {
   "cell_type": "code",
   "execution_count": 175,
   "metadata": {},
   "outputs": [],
   "source": [
    "n_components=np.array([i+1 for i in range(10)])\n",
    "gamma=np.linspace(1, 10, 10)\n",
    "C = np.linspace(0.1, 10, 30)\n",
    "accuracy_scores = []\n",
    "for n in n_components:\n",
    "    for g in gamma:\n",
    "        for c in C:\n",
    "            pca=decomposition.PCA(n_components=n)\n",
    "            cls=svm.SVC(kernel='rbf',gamma=g,C=c)\n",
    "            pipe=pipeline.Pipeline([('pca',pca),('cls',cls)])\n",
    "            pipe.fit(X_train, y_train)\n",
    "            y_pred=pipe.predict(X_valid)\n",
    "            accuracy_scores.append(metrics.accuracy_score(y_valid,y_pred))"
   ]
  },
  {
   "cell_type": "code",
   "execution_count": 176,
   "metadata": {},
   "outputs": [
    {
     "name": "stdout",
     "output_type": "stream",
     "text": [
      "select 1 components\n",
      "select gamma = 1.0\n",
      "select C = 0.4413793103448276\n"
     ]
    }
   ],
   "source": [
    "# select k, gamma and C\n",
    "accuracy_scores = np.array(accuracy_scores).reshape(n_components.shape[0], gamma.shape[0], C.shape[0])\n",
    "index = np.unravel_index(np.argmax(accuracy_scores, axis=None), accuracy_scores.shape)\n",
    "print(\"select {} components\".format(n_components[index[0]]))\n",
    "print(\"select gamma = {}\".format(gamma[index[1]]))\n",
    "print(\"select C = {}\".format(C[index[2]]))"
   ]
  },
  {
   "cell_type": "code",
   "execution_count": 177,
   "metadata": {},
   "outputs": [
    {
     "name": "stdout",
     "output_type": "stream",
     "text": [
      "[[[0.4893617  0.58510638 0.58510638 ... 0.56382979 0.56382979 0.56382979]\n",
      "  [0.46808511 0.58510638 0.57446809 ... 0.54255319 0.54255319 0.54255319]\n",
      "  [0.46808511 0.56382979 0.56382979 ... 0.56382979 0.56382979 0.55319149]\n",
      "  ...\n",
      "  [0.46808511 0.5106383  0.53191489 ... 0.5106383  0.5        0.5       ]\n",
      "  [0.46808511 0.5106383  0.5212766  ... 0.5        0.5        0.5       ]\n",
      "  [0.46808511 0.5106383  0.5106383  ... 0.5        0.5        0.5       ]]\n",
      "\n",
      " [[0.46808511 0.4787234  0.54255319 ... 0.56382979 0.56382979 0.56382979]\n",
      "  [0.46808511 0.46808511 0.5106383  ... 0.56382979 0.56382979 0.56382979]\n",
      "  [0.46808511 0.46808511 0.5        ... 0.53191489 0.53191489 0.53191489]\n",
      "  ...\n",
      "  [0.46808511 0.46808511 0.4893617  ... 0.5106383  0.5106383  0.5106383 ]\n",
      "  [0.46808511 0.46808511 0.4787234  ... 0.5        0.5        0.5       ]\n",
      "  [0.46808511 0.46808511 0.4787234  ... 0.5        0.5        0.5       ]]\n",
      "\n",
      " [[0.46808511 0.46808511 0.46808511 ... 0.4893617  0.4893617  0.4893617 ]\n",
      "  [0.46808511 0.46808511 0.46808511 ... 0.46808511 0.46808511 0.46808511]\n",
      "  [0.46808511 0.46808511 0.46808511 ... 0.46808511 0.46808511 0.46808511]\n",
      "  ...\n",
      "  [0.46808511 0.46808511 0.46808511 ... 0.46808511 0.46808511 0.46808511]\n",
      "  [0.46808511 0.46808511 0.46808511 ... 0.46808511 0.46808511 0.46808511]\n",
      "  [0.46808511 0.46808511 0.46808511 ... 0.46808511 0.46808511 0.46808511]]\n",
      "\n",
      " ...\n",
      "\n",
      " [[0.46808511 0.46808511 0.46808511 ... 0.46808511 0.46808511 0.46808511]\n",
      "  [0.46808511 0.46808511 0.46808511 ... 0.46808511 0.46808511 0.46808511]\n",
      "  [0.46808511 0.46808511 0.46808511 ... 0.46808511 0.46808511 0.46808511]\n",
      "  ...\n",
      "  [0.46808511 0.46808511 0.46808511 ... 0.46808511 0.46808511 0.46808511]\n",
      "  [0.46808511 0.46808511 0.46808511 ... 0.46808511 0.46808511 0.46808511]\n",
      "  [0.46808511 0.46808511 0.46808511 ... 0.46808511 0.46808511 0.46808511]]\n",
      "\n",
      " [[0.46808511 0.46808511 0.46808511 ... 0.46808511 0.46808511 0.46808511]\n",
      "  [0.46808511 0.46808511 0.46808511 ... 0.46808511 0.46808511 0.46808511]\n",
      "  [0.46808511 0.46808511 0.46808511 ... 0.46808511 0.46808511 0.46808511]\n",
      "  ...\n",
      "  [0.46808511 0.46808511 0.46808511 ... 0.46808511 0.46808511 0.46808511]\n",
      "  [0.46808511 0.46808511 0.46808511 ... 0.46808511 0.46808511 0.46808511]\n",
      "  [0.46808511 0.46808511 0.46808511 ... 0.46808511 0.46808511 0.46808511]]\n",
      "\n",
      " [[0.46808511 0.46808511 0.46808511 ... 0.46808511 0.46808511 0.46808511]\n",
      "  [0.46808511 0.46808511 0.46808511 ... 0.46808511 0.46808511 0.46808511]\n",
      "  [0.46808511 0.46808511 0.46808511 ... 0.46808511 0.46808511 0.46808511]\n",
      "  ...\n",
      "  [0.46808511 0.46808511 0.46808511 ... 0.46808511 0.46808511 0.46808511]\n",
      "  [0.46808511 0.46808511 0.46808511 ... 0.46808511 0.46808511 0.46808511]\n",
      "  [0.46808511 0.46808511 0.46808511 ... 0.46808511 0.46808511 0.46808511]]]\n"
     ]
    }
   ],
   "source": [
    "print(accuracy_scores)"
   ]
  },
  {
   "cell_type": "code",
   "execution_count": null,
   "metadata": {},
   "outputs": [],
   "source": []
  }
 ],
 "metadata": {
  "kernelspec": {
   "display_name": "Python 3",
   "language": "python",
   "name": "python3"
  },
  "language_info": {
   "codemirror_mode": {
    "name": "ipython",
    "version": 3
   },
   "file_extension": ".py",
   "mimetype": "text/x-python",
   "name": "python",
   "nbconvert_exporter": "python",
   "pygments_lexer": "ipython3",
   "version": "3.6.5"
  }
 },
 "nbformat": 4,
 "nbformat_minor": 2
}
