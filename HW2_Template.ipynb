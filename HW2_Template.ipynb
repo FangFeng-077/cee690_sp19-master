{
 "cells": [
  {
   "cell_type": "markdown",
   "metadata": {},
   "source": [
    "# HW 2 Template"
   ]
  },
  {
   "cell_type": "markdown",
   "metadata": {},
   "source": [
    "This code may (or may not!) be helpful in your first assignment.  Feel free to use it (or not)."
   ]
  },
  {
   "cell_type": "markdown",
   "metadata": {},
   "source": [
    "## Setup"
   ]
  },
  {
   "cell_type": "markdown",
   "metadata": {},
   "source": [
    "First, let's make sure this notebook works well in both python 2 and 3, import a few common modules, ensure MatplotLib plots figures inline and prepare a function to save the figures:\n",
    "\n",
    "This section provides some initialization commands, which can simply be copied for assignments."
   ]
  },
  {
   "cell_type": "code",
   "execution_count": 1,
   "metadata": {},
   "outputs": [],
   "source": [
    "# To support both python 2 and python 3\n",
    "from __future__ import division, print_function, unicode_literals\n",
    "\n",
    "# We need to import key libraries that we're going to use.  \n",
    "# For now this is just numpy, which is our linear algebra library\n",
    "import numpy as np"
   ]
  },
  {
   "cell_type": "markdown",
   "metadata": {},
   "source": [
    "Setting the random seed for code reproducibility."
   ]
  },
  {
   "cell_type": "code",
   "execution_count": 2,
   "metadata": {},
   "outputs": [],
   "source": [
    "# to make this notebook's output stable across runs, we are going to see the random seed\n",
    "np.random.seed(42)"
   ]
  },
  {
   "cell_type": "markdown",
   "metadata": {},
   "source": [
    "Note that we have to reset the random seed _every_ time we run an algorithm if we want the same results!"
   ]
  },
  {
   "cell_type": "markdown",
   "metadata": {},
   "source": [
    "We also want to set up a plotting environment and make it look pretty.  For those of you familiar with matlab, we will be using matplotlib which is fairly close in syntax and feel.  It's not too far off from R either."
   ]
  },
  {
   "cell_type": "code",
   "execution_count": 3,
   "metadata": {},
   "outputs": [],
   "source": [
    "# To plot pretty figures\n",
    "import matplotlib.pyplot as plt\n",
    "%matplotlib inline \n",
    "# This command figures show up in the notebook.  It's a \"magic\" command...\n",
    "# Typically, this now happens by default so it is often an unnecessary command, but is good for standardization.\n",
    "plt.rcParams['axes.labelsize'] = 14\n",
    "plt.rcParams['xtick.labelsize'] = 12\n",
    "plt.rcParams['ytick.labelsize'] = 12"
   ]
  },
  {
   "cell_type": "markdown",
   "metadata": {},
   "source": [
    "These commands will help us save figures; not going to go through them so much."
   ]
  },
  {
   "cell_type": "code",
   "execution_count": 4,
   "metadata": {},
   "outputs": [],
   "source": [
    "# Where to save the figures\n",
    "PROJECT_ROOT_DIR = \".\"\n",
    "PROJECT_SAVE_DIR = \"hw2\""
   ]
  },
  {
   "cell_type": "code",
   "execution_count": 5,
   "metadata": {},
   "outputs": [
    {
     "name": "stdout",
     "output_type": "stream",
     "text": [
      "Figure directory exists.\n"
     ]
    }
   ],
   "source": [
    "# makes the directory if it doesn't exist.\n",
    "import os\n",
    "if not (os.path.isdir(PROJECT_ROOT_DIR+'/'+PROJECT_SAVE_DIR)):\n",
    "    print('Figure directory didn\\'t exist, creating now.')\n",
    "    os.mkdir(PROJECT_ROOT_DIR+'/'+PROJECT_SAVE_DIR)\n",
    "else:\n",
    "    print('Figure directory exists.') "
   ]
  },
  {
   "cell_type": "code",
   "execution_count": 6,
   "metadata": {},
   "outputs": [],
   "source": [
    "# a simple defined helper function.\n",
    "def savepdf(fig,name):\n",
    "    fig.savefig(PROJECT_ROOT_DIR+'/'+PROJECT_SAVE_DIR+'/'+name+'.pdf')"
   ]
  },
  {
   "cell_type": "markdown",
   "metadata": {},
   "source": [
    "## Problem 3"
   ]
  },
  {
   "cell_type": "markdown",
   "metadata": {},
   "source": [
    "This is a popular dataset on diabetes. Ten baseline variables, age, sex, body mass index, average blood pressure, and six blood serum measurements were obtained for each of n = 442 diabetes patients, as well as the response of interest, a quantitative measure of disease progression one year after baseline."
   ]
  },
  {
   "cell_type": "code",
   "execution_count": 7,
   "metadata": {},
   "outputs": [],
   "source": [
    "from sklearn import datasets, model_selection, linear_model, metrics\n",
    "diabetes=datasets.load_diabetes(return_X_y=False)\n",
    "X_train,X_valid,y_train,y_valid=\\\n",
    "    model_selection.train_test_split(diabetes['data'],diabetes['target'],random_state=42)"
   ]
  },
  {
   "cell_type": "code",
   "execution_count": 8,
   "metadata": {},
   "outputs": [],
   "source": [
    "# Import relevant functions\n",
    "from sklearn.metrics import mean_squared_error"
   ]
  },
  {
   "cell_type": "code",
   "execution_count": 9,
   "metadata": {},
   "outputs": [],
   "source": [
    "# ridge vs lasso\n",
    "\n",
    "n_alphas = 200\n",
    "alphas = np.logspace(-4, 1, n_alphas)\n",
    "\n",
    "# coefs = []\n",
    "mse_ridge_train=[]\n",
    "mse_ridge_valid=[]\n",
    "mse_lasso_train=[]\n",
    "mse_lasso_valid=[]\n",
    "for a in alphas:\n",
    "    ridge=linear_model.Ridge(alpha=a)\n",
    "    lasso=linear_model.Lasso(alpha=a)\n",
    "    ridge.fit(X_train, y_train)\n",
    "    lasso.fit(X_train, y_train)\n",
    "    mse_ridge_train.append(\\\n",
    "            mean_squared_error(y_true=y_train,y_pred=ridge.predict(X_train)))\n",
    "    mse_ridge_valid.append(\\\n",
    "            mean_squared_error(y_true=y_valid,y_pred=ridge.predict(X_valid)))\n",
    "    mse_lasso_train.append(\\\n",
    "            mean_squared_error(y_true=y_train,y_pred=lasso.predict(X_train)))\n",
    "    mse_lasso_valid.append(\\\n",
    "            mean_squared_error(y_true=y_valid,y_pred=lasso.predict(X_valid)))"
   ]
  },
  {
   "cell_type": "code",
   "execution_count": 10,
   "metadata": {},
   "outputs": [
    {
     "data": {
      "image/png": "[encoded data removed]",
      "text/plain": [
       "<Figure size 432x288 with 1 Axes>"
      ]
     },
     "metadata": {
      "needs_background": "light"
     },
     "output_type": "display_data"
    }
   ],
   "source": [
    "fig=plt.figure(figsize=[6,4])\n",
    "ax = plt.gca()\n",
    "plt.plot(alphas,mse_ridge_train, label='ridge_train')\n",
    "plt.plot(alphas,mse_ridge_valid, label='ridge_valid')\n",
    "plt.plot(alphas,mse_lasso_train, label='lasso_train')\n",
    "plt.plot(alphas,mse_lasso_valid, label='lasso_valid')\n",
    "plt.legend()\n",
    "ax.set_xscale('log')\n",
    "ax.set_xlim(ax.get_xlim()[::-1])  # reverse axis\n",
    "plt.xlabel('alpha')\n",
    "plt.ylabel('mse')\n",
    "plt.title('Mean Square Error on Ridge regression and lasso regression')\n",
    "plt.axis('tight')\n",
    "plt.show()"
   ]
  },
  {
   "cell_type": "code",
   "execution_count": 11,
   "metadata": {},
   "outputs": [
    {
     "name": "stdout",
     "output_type": "stream",
     "text": [
      "min mse is 2807.779820524019\n",
      "choose alpah = 0.13826221737646563\n"
     ]
    }
   ],
   "source": [
    "# use ridge regression\n",
    "id = np.argmin(mse_ridge_valid)\n",
    "print(\"min mse is {}\".format(mse_ridge_valid[id]))\n",
    "alpha = alphas[id]\n",
    "print(\"choose alpah = {}\".format(alpha))"
   ]
  },
  {
   "cell_type": "code",
   "execution_count": 12,
   "metadata": {},
   "outputs": [
    {
     "name": "stdout",
     "output_type": "stream",
     "text": [
      "min mse is 2753.8856808552746\n",
      "choose alpah = 0.10353218432956626\n"
     ]
    }
   ],
   "source": [
    "# use lasso regression\n",
    "id = np.argmin(mse_lasso_valid)\n",
    "print(\"min mse is {}\".format(mse_lasso_valid[id]))\n",
    "alpha = alphas[id]\n",
    "print(\"choose alpah = {}\".format(alpha))"
   ]
  },
  {
   "cell_type": "code",
   "execution_count": 13,
   "metadata": {},
   "outputs": [],
   "source": [
    "# elastic net\n",
    "alphas = np.logspace(-4, 1, 200)\n",
    "l1_ratios = np.linspace(0.1, 1, num=10)\n",
    "\n",
    "[i for i in range(3, 23)]\n",
    "        \n",
    "mse_elastic_valid = []\n",
    "for a in alphas:\n",
    "    for l in l1_ratios:\n",
    "        elastic = linear_model.ElasticNet(alpha=a, l1_ratio=l)\n",
    "        elastic.fit(X_train, y_train)\n",
    "        mse_elastic_valid.append(\\\n",
    "            mean_squared_error(y_true=y_valid,y_pred=elastic.predict(X_valid)))\n"
   ]
  },
  {
   "cell_type": "code",
   "execution_count": 14,
   "metadata": {},
   "outputs": [
    {
     "name": "stdout",
     "output_type": "stream",
     "text": [
      "[ 3  4  5  6  7  8  9 10 11 12 13 14 15 16 17 18 19 20 21 22]\n"
     ]
    }
   ],
   "source": [
    "import numpy as np\n",
    "a = np.array([i for i in range(3, 23)])\n",
    "print(a)"
   ]
  },
  {
   "cell_type": "code",
   "execution_count": 15,
   "metadata": {},
   "outputs": [
    {
     "name": "stdout",
     "output_type": "stream",
     "text": [
      "120 9\n",
      "choose alpha = 0.10353218432956626\n",
      "choose l1_ratios = 1.0\n",
      "when MSE reaches minimum (2754.0)\n"
     ]
    },
    {
     "data": {
      "image/png": "[encoded data removed]",
      "text/plain": [
       "<Figure size 432x288 with 1 Axes>"
      ]
     },
     "metadata": {
      "needs_background": "light"
     },
     "output_type": "display_data"
    }
   ],
   "source": [
    "fig=plt.figure(figsize=[6,4])\n",
    "ax = plt.gca()\n",
    "z = np.array(mse_elastic_valid).reshape((len(alphas), len(l1_ratios)))\n",
    "\n",
    "LMSE=np.min(mse_elastic_valid)\n",
    "id_x, id_y = z.argmin()//z.shape[1], z.argmin()%z.shape[1]\n",
    "print(id_x, id_y)\n",
    "print('choose alpha = {}'.format(alphas[id_x]))\n",
    "print('choose l1_ratios = {}'.format(l1_ratios[id_y]))\n",
    "print(f'when MSE reaches minimum ({round(LMSE)})')\n",
    "\n",
    "ax.set_xscale('log')\n",
    "ax.set_xlim(ax.get_xlim()[::-1]) \n",
    "for i in range(1,11):\n",
    "    plt.plot(alphas,z[:,i-1],label=f'l1_ratio = {round(l1_ratios[i-1],1)}')\n",
    "\n",
    "plt.legend()\n",
    "plt.xlabel('alpha')\n",
    "plt.ylabel('MSE')\n",
    "plt.title('Elastic coefficients as a function of the regularization')\n",
    "plt.axis('tight')\n",
    "plt.show()"
   ]
  },
  {
   "cell_type": "markdown",
   "metadata": {},
   "source": [
    "## Problem 4\n",
    "Here we load a synthetic dataset and perform penalized regression on it"
   ]
  },
  {
   "cell_type": "code",
   "execution_count": 16,
   "metadata": {},
   "outputs": [],
   "source": [
    "# import libs\n",
    "import pandas as pd\n",
    "from sklearn import metrics, preprocessing, pipeline"
   ]
  },
  {
   "cell_type": "code",
   "execution_count": 17,
   "metadata": {},
   "outputs": [],
   "source": [
    "Xdf=pd.read_csv('hw2/hw2_problem_4_X.csv')\n",
    "ydf=pd.read_csv('hw2/hw2_problem_4_y.csv')\n",
    "Xdf_blind=pd.read_csv('hw2/hw2_problem_4_X_blind.csv')\n",
    "X=np.array(Xdf.values[:,1:],dtype=np.float64)\n",
    "y=np.array(ydf.values[:,1],dtype=np.float64)\n",
    "X_blind=np.array(Xdf_blind.values[:,1:],dtype=np.float64)\n",
    "\n",
    "X_train,X_valid,y_train,y_valid=\\\n",
    "    model_selection.train_test_split(X,y,random_state=42)"
   ]
  },
  {
   "cell_type": "code",
   "execution_count": 18,
   "metadata": {},
   "outputs": [],
   "source": [
    "# type of scalers\n",
    "std_scaler = preprocessing.StandardScaler()\n",
    "minmax_scaler = preprocessing.MinMaxScaler()\n",
    "maxabs_scaler = preprocessing.MaxAbsScaler()"
   ]
  },
  {
   "cell_type": "code",
   "execution_count": 19,
   "metadata": {},
   "outputs": [],
   "source": [
    "# ridge with scaling\n",
    "n_alphas = 300\n",
    "alphas = np.logspace(-2, 1, n_alphas)\n",
    "model_names=['No Scaling','Std','MinMax','MaxAbs']\n",
    "mse = {'No Scaling':[],'Std':[],'MinMax':[],'MaxAbs':[]}\n",
    "for a in alphas:\n",
    "    ridge=linear_model.Ridge(alpha=a)\n",
    "    pipe=pipeline.Pipeline([('scaler',std_scaler),('ridge',ridge)])\n",
    "    \n",
    "    models_to_compare=[ridge,\\\n",
    "                  pipeline.Pipeline([('scaler',std_scaler),('ridge',ridge)]),\\\n",
    "                  pipeline.Pipeline([('scaler',minmax_scaler),('ridge',ridge)]),\\\n",
    "                  pipeline.Pipeline([('scaler',maxabs_scaler),('ridge',ridge)])]\n",
    "    \n",
    "    for model,name in zip(models_to_compare,model_names):\n",
    "        model.fit(X_train, y_train)\n",
    "        mse[name].append(\\\n",
    "                mean_squared_error(y_true=y_valid,y_pred=model.predict(X_valid)))\n"
   ]
  },
  {
   "cell_type": "code",
   "execution_count": 20,
   "metadata": {},
   "outputs": [
    {
     "data": {
      "image/png": "[encoded data removed]",
      "text/plain": [
       "<Figure size 432x288 with 1 Axes>"
      ]
     },
     "metadata": {
      "needs_background": "light"
     },
     "output_type": "display_data"
    }
   ],
   "source": [
    "fig=plt.figure(figsize=[6,4])\n",
    "ax = plt.gca()\n",
    "for m in mse:\n",
    "    plt.plot(alphas, mse[m], label=m)\n",
    "plt.legend()\n",
    "ax.set_xscale('log')\n",
    "ax.set_xlim(ax.get_xlim()[::-1])  # reverse axis\n",
    "plt.xlabel('alpha')\n",
    "plt.ylabel('mse')\n",
    "plt.title('Different scaling methods for ridge regression')\n",
    "plt.axis('tight')\n",
    "plt.show()\n"
   ]
  },
  {
   "cell_type": "code",
   "execution_count": 21,
   "metadata": {},
   "outputs": [
    {
     "name": "stdout",
     "output_type": "stream",
     "text": [
      "min mse is 3.375302306368465\n",
      "choose alpha 0.01\n"
     ]
    }
   ],
   "source": [
    "# choose MinMax scaling for ridge regression\n",
    "min_id = np.argmin(mse['MinMax'])\n",
    "print(\"min mse is {}\".format(mse['MinMax'][min_id]))\n",
    "q4_ridge_alpha = alphas[min_id]\n",
    "print('choose alpha {}'.format(q4_ridge_alpha))"
   ]
  },
  {
   "cell_type": "code",
   "execution_count": 22,
   "metadata": {},
   "outputs": [
    {
     "ename": "KeyboardInterrupt",
     "evalue": "",
     "output_type": "error",
     "traceback": [
      "\u001b[0;31m---------------------------------------------------------------------------\u001b[0m",
      "\u001b[0;31mKeyboardInterrupt\u001b[0m                         Traceback (most recent call last)",
      "\u001b[0;32m<ipython-input-22-3c0cc8f6616a>\u001b[0m in \u001b[0;36m<module>\u001b[0;34m\u001b[0m\n\u001b[1;32m     15\u001b[0m \u001b[0;34m\u001b[0m\u001b[0m\n\u001b[1;32m     16\u001b[0m     \u001b[0;32mfor\u001b[0m \u001b[0mmodel\u001b[0m\u001b[0;34m,\u001b[0m\u001b[0mname\u001b[0m \u001b[0;32min\u001b[0m \u001b[0mzip\u001b[0m\u001b[0;34m(\u001b[0m\u001b[0mmodels_to_compare\u001b[0m\u001b[0;34m,\u001b[0m \u001b[0mmodel_names\u001b[0m\u001b[0;34m)\u001b[0m\u001b[0;34m:\u001b[0m\u001b[0;34m\u001b[0m\u001b[0m\n\u001b[0;32m---> 17\u001b[0;31m         \u001b[0mmodel\u001b[0m\u001b[0;34m.\u001b[0m\u001b[0mfit\u001b[0m\u001b[0;34m(\u001b[0m\u001b[0mX_train\u001b[0m\u001b[0;34m,\u001b[0m \u001b[0my_train\u001b[0m\u001b[0;34m)\u001b[0m\u001b[0;34m\u001b[0m\u001b[0m\n\u001b[0m\u001b[1;32m     18\u001b[0m         mse[name].append(\\\n\u001b[1;32m     19\u001b[0m                 mean_squared_error(y_true=y_valid, y_pred=model.predict(X_valid)))\n",
      "\u001b[0;32m/usr/local/lib/python3.6/site-packages/sklearn/pipeline.py\u001b[0m in \u001b[0;36mfit\u001b[0;34m(self, X, y, **fit_params)\u001b[0m\n\u001b[1;32m    265\u001b[0m         \u001b[0mXt\u001b[0m\u001b[0;34m,\u001b[0m \u001b[0mfit_params\u001b[0m \u001b[0;34m=\u001b[0m \u001b[0mself\u001b[0m\u001b[0;34m.\u001b[0m\u001b[0m_fit\u001b[0m\u001b[0;34m(\u001b[0m\u001b[0mX\u001b[0m\u001b[0;34m,\u001b[0m \u001b[0my\u001b[0m\u001b[0;34m,\u001b[0m \u001b[0;34m**\u001b[0m\u001b[0mfit_params\u001b[0m\u001b[0;34m)\u001b[0m\u001b[0;34m\u001b[0m\u001b[0m\n\u001b[1;32m    266\u001b[0m         \u001b[0;32mif\u001b[0m \u001b[0mself\u001b[0m\u001b[0;34m.\u001b[0m\u001b[0m_final_estimator\u001b[0m \u001b[0;32mis\u001b[0m \u001b[0;32mnot\u001b[0m \u001b[0;32mNone\u001b[0m\u001b[0;34m:\u001b[0m\u001b[0;34m\u001b[0m\u001b[0m\n\u001b[0;32m--> 267\u001b[0;31m             \u001b[0mself\u001b[0m\u001b[0;34m.\u001b[0m\u001b[0m_final_estimator\u001b[0m\u001b[0;34m.\u001b[0m\u001b[0mfit\u001b[0m\u001b[0;34m(\u001b[0m\u001b[0mXt\u001b[0m\u001b[0;34m,\u001b[0m \u001b[0my\u001b[0m\u001b[0;34m,\u001b[0m \u001b[0;34m**\u001b[0m\u001b[0mfit_params\u001b[0m\u001b[0;34m)\u001b[0m\u001b[0;34m\u001b[0m\u001b[0m\n\u001b[0m\u001b[1;32m    268\u001b[0m         \u001b[0;32mreturn\u001b[0m \u001b[0mself\u001b[0m\u001b[0;34m\u001b[0m\u001b[0m\n\u001b[1;32m    269\u001b[0m \u001b[0;34m\u001b[0m\u001b[0m\n",
      "\u001b[0;32m/usr/local/lib/python3.6/site-packages/sklearn/linear_model/coordinate_descent.py\u001b[0m in \u001b[0;36mfit\u001b[0;34m(self, X, y, check_input)\u001b[0m\n\u001b[1;32m    760\u001b[0m                           \u001b[0mrandom_state\u001b[0m\u001b[0;34m=\u001b[0m\u001b[0mself\u001b[0m\u001b[0;34m.\u001b[0m\u001b[0mrandom_state\u001b[0m\u001b[0;34m,\u001b[0m\u001b[0;34m\u001b[0m\u001b[0m\n\u001b[1;32m    761\u001b[0m                           \u001b[0mselection\u001b[0m\u001b[0;34m=\u001b[0m\u001b[0mself\u001b[0m\u001b[0;34m.\u001b[0m\u001b[0mselection\u001b[0m\u001b[0;34m,\u001b[0m\u001b[0;34m\u001b[0m\u001b[0m\n\u001b[0;32m--> 762\u001b[0;31m                           check_input=False)\n\u001b[0m\u001b[1;32m    763\u001b[0m             \u001b[0mcoef_\u001b[0m\u001b[0;34m[\u001b[0m\u001b[0mk\u001b[0m\u001b[0;34m]\u001b[0m \u001b[0;34m=\u001b[0m \u001b[0mthis_coef\u001b[0m\u001b[0;34m[\u001b[0m\u001b[0;34m:\u001b[0m\u001b[0;34m,\u001b[0m \u001b[0;36m0\u001b[0m\u001b[0;34m]\u001b[0m\u001b[0;34m\u001b[0m\u001b[0m\n\u001b[1;32m    764\u001b[0m             \u001b[0mdual_gaps_\u001b[0m\u001b[0;34m[\u001b[0m\u001b[0mk\u001b[0m\u001b[0;34m]\u001b[0m \u001b[0;34m=\u001b[0m \u001b[0mthis_dual_gap\u001b[0m\u001b[0;34m[\u001b[0m\u001b[0;36m0\u001b[0m\u001b[0;34m]\u001b[0m\u001b[0;34m\u001b[0m\u001b[0m\n",
      "\u001b[0;32m/usr/local/lib/python3.6/site-packages/sklearn/linear_model/coordinate_descent.py\u001b[0m in \u001b[0;36menet_path\u001b[0;34m(X, y, l1_ratio, eps, n_alphas, alphas, precompute, Xy, copy_X, coef_init, verbose, return_n_iter, positive, check_input, **params)\u001b[0m\n\u001b[1;32m    476\u001b[0m             model = cd_fast.enet_coordinate_descent(\n\u001b[1;32m    477\u001b[0m                 \u001b[0mcoef_\u001b[0m\u001b[0;34m,\u001b[0m \u001b[0ml1_reg\u001b[0m\u001b[0;34m,\u001b[0m \u001b[0ml2_reg\u001b[0m\u001b[0;34m,\u001b[0m \u001b[0mX\u001b[0m\u001b[0;34m,\u001b[0m \u001b[0my\u001b[0m\u001b[0;34m,\u001b[0m \u001b[0mmax_iter\u001b[0m\u001b[0;34m,\u001b[0m \u001b[0mtol\u001b[0m\u001b[0;34m,\u001b[0m \u001b[0mrng\u001b[0m\u001b[0;34m,\u001b[0m \u001b[0mrandom\u001b[0m\u001b[0;34m,\u001b[0m\u001b[0;34m\u001b[0m\u001b[0m\n\u001b[0;32m--> 478\u001b[0;31m                 positive)\n\u001b[0m\u001b[1;32m    479\u001b[0m         \u001b[0;32melse\u001b[0m\u001b[0;34m:\u001b[0m\u001b[0;34m\u001b[0m\u001b[0m\n\u001b[1;32m    480\u001b[0m             raise ValueError(\"Precompute should be one of True, False, \"\n",
      "\u001b[0;31mKeyboardInterrupt\u001b[0m: "
     ]
    }
   ],
   "source": [
    "# lasso with scaling\n",
    "n_alphas = 300\n",
    "alphas = np.logspace(-2.5, -1, n_alphas)\n",
    "# alphas = np.arange(0.001, 0.1, 0.0005)\n",
    "model_names=['No Scaling','Std','MinMax','MaxAbs']\n",
    "mse = {'No Scaling':[],'Std':[],'MinMax':[],'MaxAbs':[]}\n",
    "for a in alphas:\n",
    "    lasso=linear_model.Lasso(alpha=a)\n",
    "    pipe=pipeline.Pipeline([('scaler',std_scaler),('cls',lasso)])\n",
    "    \n",
    "    models_to_compare=[lasso,\\\n",
    "                  pipeline.Pipeline([('scaler',std_scaler),('lasso',lasso)]),\\\n",
    "                  pipeline.Pipeline([('scaler',minmax_scaler),('lasso',lasso)]),\\\n",
    "                  pipeline.Pipeline([('scaler',maxabs_scaler),('lasso',lasso)])]\n",
    "    \n",
    "    for model,name in zip(models_to_compare, model_names):\n",
    "        model.fit(X_train, y_train)\n",
    "        mse[name].append(\\\n",
    "                mean_squared_error(y_true=y_valid, y_pred=model.predict(X_valid)))"
   ]
  },
  {
   "cell_type": "code",
   "execution_count": null,
   "metadata": {},
   "outputs": [],
   "source": [
    "\n",
    "fig=plt.figure(figsize=[6,4])\n",
    "ax = plt.gca()\n",
    "for k in mse:\n",
    "    plt.plot(alphas, mse[k], label=k)\n",
    "plt.legend()\n",
    "ax.set_xscale('log')\n",
    "ax.set_xlim(ax.get_xlim()[::-1])  # reverse axis\n",
    "plt.xlabel('alpha')\n",
    "plt.ylabel('mse')\n",
    "plt.title('Different scaling methods for lasso regression')\n",
    "plt.axis('tight')\n",
    "plt.show()"
   ]
  },
  {
   "cell_type": "code",
   "execution_count": null,
   "metadata": {},
   "outputs": [],
   "source": [
    "# choose MinMax scaling for ridge regression\n",
    "min_id = np.argmin(mse['MinMax'])\n",
    "print(\"min mse is {}\".format(mse['MinMax'][min_id]))\n",
    "q4_ridge_alpha = alphas[min_id]\n",
    "print('choose alpha {}'.format(q4_ridge_alpha))"
   ]
  },
  {
   "cell_type": "code",
   "execution_count": null,
   "metadata": {},
   "outputs": [],
   "source": [
    "# let's recompute valid mse to compare best ridge model with lasso model\n",
    "ridge = linear_model.Ridge(alpha=0.01)\n",
    "lasso = linear_model.Lasso(alpha=0.024)\n",
    "ridge_pipe = pipeline.Pipeline([('scaler',minmax_scaler),('ridge',ridge)])\n",
    "lasso_pipe = pipeline.Pipeline([('scaler',minmax_scaler),('lasso',lasso)])\n",
    "ridge_pipe.fit(X_train, y_train)\n",
    "lasso_pipe.fit(X_train, y_train)\n",
    "ridge_valid_mse = mean_squared_error(y_true=y_valid, y_pred=ridge_pipe.predict(X_valid))\n",
    "lasso_valid_mse = mean_squared_error(y_true=y_valid, y_pred=lasso_pipe.predict(X_valid))\n",
    "print(ridge_valid_mse, lasso_valid_mse)"
   ]
  },
  {
   "cell_type": "code",
   "execution_count": null,
   "metadata": {},
   "outputs": [],
   "source": [
    "# so we will use lasso model with MinMax scaler to predict the blind data\n",
    "y_blind_predicted = lasso_pipe.predict(X_blind)"
   ]
  },
  {
   "cell_type": "markdown",
   "metadata": {},
   "source": [
    "When you're ready to make predictions and save them."
   ]
  },
  {
   "cell_type": "code",
   "execution_count": null,
   "metadata": {},
   "outputs": [],
   "source": [
    "Xdf=pd.DataFrame(y_blind_predicted)\n",
    "Xdf.to_csv('./answers/hw2_problem_4_y_blind_predicted.csv')"
   ]
  },
  {
   "cell_type": "markdown",
   "metadata": {},
   "source": [
    "## Problem 5\n",
    "Here we load a synthetic dataset and perform kNN classification on it"
   ]
  },
  {
   "cell_type": "code",
   "execution_count": 23,
   "metadata": {},
   "outputs": [],
   "source": [
    "from sklearn import feature_selection, neighbors\n",
    "\n",
    "Xdf=pd.read_csv('hw2/hw2_problem_5_X.csv')\n",
    "ydf=pd.read_csv('hw2/hw2_problem_5_y.csv')\n",
    "Xdf_blind=pd.read_csv('hw2/hw2_problem_5_X_blind.csv')\n",
    "X=np.array(Xdf.values[:,1:],dtype=np.float64)\n",
    "y=np.array(ydf.values[:,1],dtype=np.float64)\n",
    "X_blind=np.array(Xdf_blind.values[:,1:],dtype=np.float64)\n",
    "\n",
    "X_train,X_valid,y_train,y_valid=\\\n",
    "    model_selection.train_test_split(X,y,random_state=42)"
   ]
  },
  {
   "cell_type": "code",
   "execution_count": 24,
   "metadata": {},
   "outputs": [],
   "source": [
    "\n",
    "n_feature_set = np.arange(1, 30)\n",
    "n_neighbor_set = np.arange(1, 30)\n",
    "acc_uni=[]\n",
    "\n",
    "for k in n_neighbor_set:\n",
    "    for n in n_feature_set:\n",
    "        cls=neighbors.KNeighborsClassifier(n_neighbors=k)\n",
    "        uni=feature_selection.SelectKBest(k=n)\n",
    "        pipe =pipeline.Pipeline([('fs',uni),('cls',cls)])\n",
    "        pipe.fit(X_train,y_train)\n",
    "        acc=metrics.accuracy_score(y_valid,pipe.predict(X_valid))\n",
    "        acc_uni.append(acc)\n",
    "\n",
    "acc_uni_matrix = np.array(acc_uni).reshape((len(n_feature_set), len(n_neighbor_set)))"
   ]
  },
  {
   "cell_type": "code",
   "execution_count": 25,
   "metadata": {},
   "outputs": [
    {
     "data": {
      "image/png": "[encoded data removed]",
      "text/plain": [
       "<Figure size 432x288 with 2 Axes>"
      ]
     },
     "metadata": {
      "needs_background": "light"
     },
     "output_type": "display_data"
    }
   ],
   "source": [
    "\n",
    "fig=plt.figure(figsize=[6,4])\n",
    "ax = plt.gca()\n",
    "c = ax.pcolormesh(n_neighbor_set, n_feature_set, acc_uni_matrix, cmap='RdBu')\n",
    "fig.colorbar(c, ax=ax)\n",
    "plt.xlabel('neighbor')\n",
    "plt.ylabel('feature')\n",
    "plt.title('Accuracy vs num of features & num of neighbors')\n",
    "plt.axis('tight')\n",
    "plt.show()"
   ]
  },
  {
   "cell_type": "code",
   "execution_count": 26,
   "metadata": {},
   "outputs": [
    {
     "name": "stdout",
     "output_type": "stream",
     "text": [
      "(4, 1)\n",
      "0.8262411347517731\n",
      "select 5 features and 2 neighbors\n"
     ]
    }
   ],
   "source": [
    "# get the num of neighbors and features with maximum accuracy \n",
    "ind = np.unravel_index(np.argmax(acc_uni_matrix, axis=None), acc_uni_matrix.shape)\n",
    "print(ind)\n",
    "\n",
    "print(acc_uni_matrix[ind[0]][ind[1]])\n",
    "\n",
    "print(\"select {} features and {} neighbors\".format(n_feature_set[ind[0]], n_neighbor_set[ind[1]]))"
   ]
  },
  {
   "cell_type": "code",
   "execution_count": 27,
   "metadata": {},
   "outputs": [],
   "source": [
    "# predict on blind data\n",
    "q5_model = neighbors.KNeighborsClassifier(n_neighbors=2)\n",
    "q5_uni = feature_selection.SelectKBest(k=5)\n",
    "pipe =pipeline.Pipeline([('fs',uni),('cls',cls)])\n",
    "pipe.fit(X_train,y_train)\n",
    "y_blind_predicted = pipe.predict(X_blind)"
   ]
  },
  {
   "cell_type": "markdown",
   "metadata": {},
   "source": [
    "When you're ready to make predictions and save them."
   ]
  },
  {
   "cell_type": "code",
   "execution_count": 28,
   "metadata": {},
   "outputs": [],
   "source": [
    "Xdf=pd.DataFrame(y_blind_predicted)\n",
    "Xdf.to_csv('./answers/hw2_problem_5_y_blind_predicted.csv')"
   ]
  },
  {
   "cell_type": "code",
   "execution_count": null,
   "metadata": {},
   "outputs": [],
   "source": []
  }
 ],
 "metadata": {
  "kernelspec": {
   "display_name": "Python 3",
   "language": "python",
   "name": "python3"
  },
  "language_info": {
   "codemirror_mode": {
    "name": "ipython",
    "version": 3
   },
   "file_extension": ".py",
   "mimetype": "text/x-python",
   "name": "python",
   "nbconvert_exporter": "python",
   "pygments_lexer": "ipython3",
   "version": "3.6.5"
  }
 },
 "nbformat": 4,
 "nbformat_minor": 2
}
