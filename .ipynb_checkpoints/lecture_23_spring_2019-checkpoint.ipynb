{
 "cells": [
  {
   "cell_type": "markdown",
   "metadata": {},
   "source": [
    "# CEE 690, Lecture 23 Code Examples"
   ]
  },
  {
   "cell_type": "markdown",
   "metadata": {},
   "source": [
    "This course will make use of notebook style coding.  Notebooks are incredibly useful tools both for teaching and for disseminating data anlysis.\n",
    "\n",
    "This is a set of codes to visit time series and frequency decompositions, and time series statistical models"
   ]
  },
  {
   "cell_type": "markdown",
   "metadata": {},
   "source": [
    "## Setup"
   ]
  },
  {
   "cell_type": "markdown",
   "metadata": {},
   "source": [
    "First, let's make sure this notebook works well in both python 2 and 3, import a few common modules, ensure MatplotLib plots figures inline and prepare a function to save the figures:\n",
    "\n",
    "This section provides some initialization commands, which can simply be copied for assignments."
   ]
  },
  {
   "cell_type": "code",
   "execution_count": null,
   "metadata": {},
   "outputs": [],
   "source": [
    "# To support both python 2 and python 3\n",
    "from __future__ import division, print_function, unicode_literals\n",
    "\n",
    "# We need to import key libraries that we're going to use.  \n",
    "# For now this is just numpy, which is our linear algebra library\n",
    "import numpy as np"
   ]
  },
  {
   "cell_type": "markdown",
   "metadata": {},
   "source": [
    "Setting the random seed for code reproducibility."
   ]
  },
  {
   "cell_type": "code",
   "execution_count": null,
   "metadata": {},
   "outputs": [],
   "source": [
    "# to make this notebook's output stable across runs, we are going to see the random seed\n",
    "np.random.seed(42)"
   ]
  },
  {
   "cell_type": "markdown",
   "metadata": {},
   "source": [
    "Note that we have to reset the random seed _every_ time we run an algorithm if we want the same results!"
   ]
  },
  {
   "cell_type": "markdown",
   "metadata": {},
   "source": [
    "We also want to set up a plotting environment and make it look pretty.  For those of you familiar with matlab, we will be using matplotlib which is fairly close in syntax and feel.  It's not too far off from R either."
   ]
  },
  {
   "cell_type": "code",
   "execution_count": null,
   "metadata": {},
   "outputs": [],
   "source": [
    "# To plot pretty figures\n",
    "import matplotlib.pyplot as plt\n",
    "%matplotlib inline \n",
    "# This command figures show up in the notebook.  It's a \"magic\" command...\n",
    "# Typically, this now happens by default so it is often an unnecessary command, but is good for standardization.\n",
    "plt.rcParams['axes.labelsize'] = 14\n",
    "plt.rcParams['xtick.labelsize'] = 12\n",
    "plt.rcParams['ytick.labelsize'] = 12"
   ]
  },
  {
   "cell_type": "markdown",
   "metadata": {},
   "source": [
    "These commands will help us save figures; not going to go through them so much."
   ]
  },
  {
   "cell_type": "code",
   "execution_count": null,
   "metadata": {},
   "outputs": [],
   "source": [
    "# Where to save the figures\n",
    "PROJECT_ROOT_DIR = \".\"\n",
    "PROJECT_SAVE_DIR = \"23\""
   ]
  },
  {
   "cell_type": "code",
   "execution_count": null,
   "metadata": {},
   "outputs": [],
   "source": [
    "# makes the directory if it doesn't exist.\n",
    "import os\n",
    "if not (os.path.isdir(PROJECT_ROOT_DIR+'/'+PROJECT_SAVE_DIR)):\n",
    "    print('Figure directory didn\\'t exist, creating now.')\n",
    "    os.mkdir(PROJECT_ROOT_DIR+'/'+PROJECT_SAVE_DIR)\n",
    "else:\n",
    "    print('Figure directory exists.') "
   ]
  },
  {
   "cell_type": "code",
   "execution_count": null,
   "metadata": {},
   "outputs": [],
   "source": [
    "# a simple defined helper function.\n",
    "def savepdf(fig,name):\n",
    "    fig.savefig(PROJECT_ROOT_DIR+'/'+PROJECT_SAVE_DIR+'/'+name+'.pdf',transparent=True)"
   ]
  },
  {
   "cell_type": "markdown",
   "metadata": {},
   "source": [
    "## Play with CO2 data:\n"
   ]
  },
  {
   "cell_type": "markdown",
   "metadata": {},
   "source": [
    "Let's look at atmospheric CO2 concentrations.  In particular, there is a famous dataset from Mauna Loa: https://www.esrl.noaa.gov/gmd/ccgg/trends/full.html"
   ]
  },
  {
   "cell_type": "code",
   "execution_count": null,
   "metadata": {},
   "outputs": [],
   "source": [
    "import pandas as pd\n",
    "co2_df=pd.read_csv('./data/co2_weekly_mlo.txt',header=48,delim_whitespace=True)\n",
    "co2_df[:5]"
   ]
  },
  {
   "cell_type": "code",
   "execution_count": null,
   "metadata": {},
   "outputs": [],
   "source": [
    "# some quick_data_cleaning\n",
    "# replace missing numbers with NaNs for clarity\n",
    "missing=co2_df['ppm']<0\n",
    "co2_df['ppm'].values[missing]=np.NaN"
   ]
  },
  {
   "cell_type": "code",
   "execution_count": null,
   "metadata": {},
   "outputs": [],
   "source": [
    "times=co2_df['decimal']\n",
    "co2=co2_df['ppm']"
   ]
  },
  {
   "cell_type": "code",
   "execution_count": null,
   "metadata": {},
   "outputs": [],
   "source": [
    "fig=plt.figure()\n",
    "plt.plot(times,co2)\n",
    "plt.xlabel('Year')\n",
    "plt.ylabel('co2, ppm')\n",
    "plt.show()\n",
    "savepdf(fig,'c02')"
   ]
  },
  {
   "cell_type": "markdown",
   "metadata": {},
   "source": [
    "We have some missing data.  We need to fill it in to help this happen, which we will be doing with a spline.  The lectures will come back to this."
   ]
  },
  {
   "cell_type": "code",
   "execution_count": null,
   "metadata": {
    "collapsed": true
   },
   "outputs": [],
   "source": [
    "from scipy.interpolate import interp1d\n",
    "not_observed=np.isnan(co2)\n",
    "interpolator=interp1d(times[~not_observed],co2[~not_observed],kind='cubic')\n",
    "co2_interpolated=interpolator(times)"
   ]
  },
  {
   "cell_type": "markdown",
   "metadata": {},
   "source": [
    "### Removing Periodic Trends"
   ]
  },
  {
   "cell_type": "markdown",
   "metadata": {},
   "source": [
    "As a quick aside, we can try to remove a periodic trend if dates example match.  We'll interpolate to match these exactly."
   ]
  },
  {
   "cell_type": "code",
   "execution_count": null,
   "metadata": {},
   "outputs": [],
   "source": [
    "new_times=np.arange(1975,2018,1/52)\n",
    "x=interpolator(new_times)"
   ]
  },
  {
   "cell_type": "code",
   "execution_count": null,
   "metadata": {},
   "outputs": [],
   "source": [
    "fig=plt.figure()\n",
    "plt.plot(new_times,x)\n",
    "plt.xlabel('Year')\n",
    "plt.ylabel('co2, ppm')\n",
    "plt.show()\n",
    "savepdf(fig,'c02_regridded')"
   ]
  },
  {
   "cell_type": "code",
   "execution_count": null,
   "metadata": {},
   "outputs": [],
   "source": [
    "x_by_year=np.reshape(x,[-1,52])\n",
    "yearly_avg=np.mean(x_by_year,axis=0)\n",
    "fig=plt.figure()\n",
    "plt.plot(np.arange(0,1,1/52),yearly_avg)\n",
    "plt.xlabel('Year')\n",
    "plt.ylabel('co2, ppm')\n",
    "savepdf(fig,'yearly_c02_regridded')"
   ]
  },
  {
   "cell_type": "code",
   "execution_count": null,
   "metadata": {},
   "outputs": [],
   "source": [
    "x_deseasoned=x-np.dot(np.ones([x_by_year.shape[0],1]),yearly_avg.reshape([1,52])).reshape(-1)\n",
    "fig=plt.figure()\n",
    "plt.plot(new_times,x_deseasoned)\n",
    "plt.xlabel('Year')\n",
    "plt.ylabel('$\\Delta$co2, ppm')\n",
    "plt.show()\n",
    "savepdf(fig,'c02_season_regridded')"
   ]
  },
  {
   "cell_type": "markdown",
   "metadata": {},
   "source": [
    "### Frequency Decompositions"
   ]
  },
  {
   "cell_type": "markdown",
   "metadata": {},
   "source": [
    "Let's try a frequency decomposition"
   ]
  },
  {
   "cell_type": "code",
   "execution_count": null,
   "metadata": {},
   "outputs": [],
   "source": [
    "co2_fft=np.fft.fft(co2_interpolated)\n",
    "freqs = np.fft.fftfreq(co2_interpolated.size, times[1]-times[0])"
   ]
  },
  {
   "cell_type": "markdown",
   "metadata": {},
   "source": [
    "Let's try plotting this to see what it gives"
   ]
  },
  {
   "cell_type": "code",
   "execution_count": null,
   "metadata": {},
   "outputs": [],
   "source": [
    "fig=plt.figure()\n",
    "plt.plot(np.real(co2_fft[1:]),np.imag(co2_fft[1:]),'.')\n",
    "plt.xlabel('Real')\n",
    "plt.ylabel('Imaginary')\n",
    "plt.show()\n",
    "savepdf(fig,'c02_fft')"
   ]
  },
  {
   "cell_type": "markdown",
   "metadata": {},
   "source": [
    "It's hard to interpret the real and imaginary space...\n",
    "\n",
    "Let's plot the power spectral density instead."
   ]
  },
  {
   "cell_type": "code",
   "execution_count": null,
   "metadata": {},
   "outputs": [],
   "source": [
    "fig=plt.figure()\n",
    "plt.plot(freqs,np.abs(co2_fft)**2)\n",
    "plt.xlabel('Frequency, inverse years')\n",
    "plt.ylabel('Power, a.u.')\n",
    "plt.show()\n",
    "savepdf(fig,'c02_psd')"
   ]
  },
  {
   "cell_type": "markdown",
   "metadata": {},
   "source": [
    "It can be very hard to observe in the original domain.  Instead, let's look at this on the log scale."
   ]
  },
  {
   "cell_type": "code",
   "execution_count": null,
   "metadata": {},
   "outputs": [],
   "source": [
    "fig=plt.figure()\n",
    "plt.semilogy(freqs,np.abs(co2_fft)**2)\n",
    "plt.xlabel('Frequency, inverse years')\n",
    "plt.ylabel('Power, a.u.')\n",
    "plt.show()\n",
    "savepdf(fig,'c02_psd_log')"
   ]
  },
  {
   "cell_type": "markdown",
   "metadata": {},
   "source": [
    "Let's restrict this to a power region of greated interest"
   ]
  },
  {
   "cell_type": "code",
   "execution_count": null,
   "metadata": {},
   "outputs": [],
   "source": [
    "fig=plt.figure()\n",
    "plt.semilogy(freqs,np.abs(co2_fft)**2,'-')\n",
    "plt.xlabel('Frequency, inverse years')\n",
    "plt.ylabel('Power, a.u.')\n",
    "plt.xlim([-5,5])\n",
    "plt.ylim([1e4,1e8])\n",
    "plt.show()\n",
    "savepdf(fig,'c02_psd_log_limited')"
   ]
  },
  {
   "cell_type": "markdown",
   "metadata": {},
   "source": [
    "Note that there are both one year and two year periodicities in the data.\n",
    "\n",
    "Is there actually a half-year cycle?"
   ]
  },
  {
   "cell_type": "markdown",
   "metadata": {},
   "source": [
    "..."
   ]
  },
  {
   "cell_type": "markdown",
   "metadata": {},
   "source": [
    "Maybe!\n",
    "\n",
    "However, in my opinion it's more likely that this is a _harmonic_.  (Wikipedia's not a great research reference, but... https://en.wikipedia.org/wiki/Harmonic is pretty clear).\n",
    "\n",
    "Nonlinearities (or non-sinusoidal periodicities) cause harmonics to arise in the data."
   ]
  },
  {
   "cell_type": "markdown",
   "metadata": {},
   "source": [
    "As a side note, directly using the fft leads to pretty noisy estimates.  There are methods that address the statistically address the noise and are asymptotically consistent, and are built in to most packages."
   ]
  },
  {
   "cell_type": "code",
   "execution_count": null,
   "metadata": {},
   "outputs": [],
   "source": [
    "from scipy import signal\n",
    "fig=plt.figure()\n",
    "sampling_rate = 1/(times[1]-times[0])\n",
    "freqs_periodogram,co2_periodogram=signal.periodogram(co2_interpolated,fs=sampling_rate)\n",
    "plt.semilogy(freqs_periodogram,np.abs(co2_periodogram),'-')\n",
    "plt.xlabel('Frequency, inverse years')\n",
    "plt.ylabel('Power, a.u.')\n",
    "plt.xlim([0,5])\n",
    "plt.ylim([1e-2,1e6])\n",
    "plt.show()\n",
    "savepdf(fig,'c02_psd_log_limited_clear')"
   ]
  },
  {
   "cell_type": "markdown",
   "metadata": {},
   "source": [
    "## Filtering to clean the data\n",
    "With this data, we are less interested in the periodic trends and more interested in the overall trend in the data.  We can use frequency filters to remove periodicities that we are uninterested in."
   ]
  },
  {
   "cell_type": "code",
   "execution_count": null,
   "metadata": {
    "collapsed": true
   },
   "outputs": [],
   "source": [
    "from scipy import signal"
   ]
  },
  {
   "cell_type": "markdown",
   "metadata": {},
   "source": [
    "First, let's look at a lowpass filter (i.e. only low frequencies can get through."
   ]
  },
  {
   "cell_type": "code",
   "execution_count": null,
   "metadata": {
    "collapsed": true
   },
   "outputs": [],
   "source": [
    "# Filter specifications.\n",
    "order = 4 # Order\n",
    "sampling_rate = 1/(times[1]-times[0]) # in times per years\n",
    "cutoff = .5  # desired cutoff frequency of the filter, inverse years"
   ]
  },
  {
   "cell_type": "code",
   "execution_count": null,
   "metadata": {},
   "outputs": [],
   "source": [
    "print('Our sampling rate is {} times yearly.'.format(sampling_rate))"
   ]
  },
  {
   "cell_type": "markdown",
   "metadata": {},
   "source": [
    "Let's design the filter:"
   ]
  },
  {
   "cell_type": "code",
   "execution_count": null,
   "metadata": {
    "collapsed": true
   },
   "outputs": [],
   "source": [
    "# helper function to put things in more understandable units\n",
    "def butter_lowpass(cutoff, fs, order=5):\n",
    "    nyq = 0.5 * fs\n",
    "    normal_cutoff = cutoff / nyq\n",
    "    b, a = signal.butter(order, normal_cutoff, btype='low', analog=False)\n",
    "    return b, a"
   ]
  },
  {
   "cell_type": "code",
   "execution_count": null,
   "metadata": {},
   "outputs": [],
   "source": [
    "# Get the filter coefficients so we can check its frequency response.\n",
    "b, a = butter_lowpass(cutoff, sampling_rate, order)\n",
    "# Plot the frequency response.\n",
    "w, h = signal.freqz(b, a)\n",
    "fig=plt.figure()\n",
    "plt.plot(0.5*sampling_rate*w/np.pi, np.abs(h), 'b')\n",
    "plt.plot(cutoff, 0.5*np.sqrt(2), 'ko')\n",
    "plt.axvline(cutoff, color='k')\n",
    "plt.xlim(0, 2)\n",
    "plt.title(\"Lowpass Filter Frequency Response\")\n",
    "plt.xlabel('Frequency, Inverse Years')\n",
    "plt.ylabel('Response')\n",
    "plt.grid()\n",
    "plt.show()\n",
    "savepdf(fig,'freq_response')"
   ]
  },
  {
   "cell_type": "code",
   "execution_count": null,
   "metadata": {},
   "outputs": [],
   "source": [
    "def butter_lowpass_filter(data, cutoff, fs, order=5):\n",
    "    b, a = butter_lowpass(cutoff, fs, order=order)\n",
    "    y = signal.filtfilt(b, a, data)\n",
    "    return y\n",
    "\n",
    "co2_filtered = butter_lowpass_filter(co2_interpolated, cutoff, sampling_rate, order)\n",
    "fig=plt.figure()\n",
    "plt.plot(times, co2_interpolated, 'b-', label='data')\n",
    "plt.plot(times, co2_filtered, 'r-', linewidth=3, label='filtered data')\n",
    "plt.xlabel('Years')\n",
    "plt.ylabel('co2, ppm')\n",
    "plt.grid()\n",
    "plt.legend()\n",
    "plt.show()\n",
    "savepdf(fig,'filtered_data')"
   ]
  },
  {
   "cell_type": "code",
   "execution_count": null,
   "metadata": {},
   "outputs": [],
   "source": [
    "fig=plt.figure()\n",
    "plt.plot(times, co2_filtered-co2_interpolated, 'b-', label='residual')\n",
    "plt.xlabel('Years')\n",
    "plt.ylabel('co2, ppm')\n",
    "plt.grid()\n",
    "plt.legend()\n",
    "plt.show()\n",
    "savepdf(fig,'filtered_residual')"
   ]
  },
  {
   "cell_type": "markdown",
   "metadata": {},
   "source": [
    "# Time Frequency Transformations"
   ]
  },
  {
   "cell_type": "markdown",
   "metadata": {},
   "source": [
    "First, we will explore the \"Short-Time Fourier Transform\" and use it to draw a spectrogram."
   ]
  },
  {
   "cell_type": "code",
   "execution_count": null,
   "metadata": {},
   "outputs": [],
   "source": [
    "freqs_stft,times_stft,co2_stft=signal.stft(co2_interpolated, fs=sampling_rate,nperseg=512)\n",
    "plt.contourf(times[0]+times_stft,freqs_stft,np.log(np.abs(co2_stft)))\n",
    "plt.ylim([0,15])\n",
    "plt.show()"
   ]
  },
  {
   "cell_type": "markdown",
   "metadata": {},
   "source": [
    "This dataset isn't so dynamic, so it won't show up well."
   ]
  },
  {
   "cell_type": "markdown",
   "metadata": {},
   "source": [
    "Doing the short-time fourier transform can be improved statistically with some nonparametric techniques that I don't have time to explain, but are implemented in the spectrogram call.  Specifically, this is Welch's method."
   ]
  },
  {
   "cell_type": "code",
   "execution_count": null,
   "metadata": {},
   "outputs": [],
   "source": [
    "freqs_spec,times_spec,co2_spec=signal.spectrogram(co2_interpolated, fs=sampling_rate,nperseg=512)\n",
    "fig=plt.figure()\n",
    "plt.contourf(times[0]+times_spec,freqs_spec,np.log(co2_spec))\n",
    "plt.ylim([0,15])\n",
    "plt.xlabel('Year')\n",
    "plt.ylabel('Frequency, Year^-1')\n",
    "plt.show()\n",
    "savepdf(fig,'spec_512')"
   ]
  },
  {
   "cell_type": "code",
   "execution_count": null,
   "metadata": {},
   "outputs": [],
   "source": [
    "freqs_spec,times_spec,co2_spec=signal.spectrogram(co2_interpolated, fs=sampling_rate,nperseg=128)\n",
    "fig=plt.figure()\n",
    "plt.contourf(times[0]+times_spec,freqs_spec,np.log(co2_spec))\n",
    "plt.ylim([0,15])\n",
    "plt.xlabel('Year')\n",
    "plt.ylabel('Frequency, Year^-1')\n",
    "plt.show()\n",
    "savepdf(fig,'spec_128')"
   ]
  },
  {
   "cell_type": "markdown",
   "metadata": {},
   "source": [
    "## Case study on automatic learning of sleep states"
   ]
  },
  {
   "cell_type": "markdown",
   "metadata": {},
   "source": [
    "There are multiple packages and datasets required to run all of these commands.  These aren't strictly necessary for the class, but are easy to install if desired.\n",
    "\n",
    "The two packages are `pyedflib` which reads in the so-called \"european data format\" and the package `hmmlearn` that learns Hidden Markov Models and was originally split off from sklearn.  These can be installed by:  \n",
    "`pip install pyedflib`  \n",
    "`pip install hmmlearn`  \n",
    "The data is available at: https://physionet.nlm.nih.gov/pn4/sleep-edfx/"
   ]
  },
  {
   "cell_type": "code",
   "execution_count": null,
   "metadata": {},
   "outputs": [],
   "source": [
    "import pandas as pd\n",
    "import pyedflib\n",
    "filename='./data/sleep/SC4001E0-PSG.edf'\n",
    "try: \n",
    "    pyedflib.close_file(filename)\n",
    "except:\n",
    "    0;\n",
    "f = pyedflib.EdfReader(filename)\n",
    "n = f.signals_in_file\n",
    "signal_labels = f.getSignalLabels()\n",
    "sigbufs = [np.zeros((n, f.getNSamples()[0]))]\n",
    "for i in np.arange(n):\n",
    "    sigbufs.append(f.readSignal(i))\n",
    "# We're going to limit outselves to a single channel to start\n",
    "ch=2\n",
    "x=sigbufs[ch]\n",
    "sampling_rate=f.getSampleFrequency(ch)"
   ]
  },
  {
   "cell_type": "code",
   "execution_count": null,
   "metadata": {},
   "outputs": [],
   "source": [
    "fig=plt.figure()\n",
    "plt.plot(np.arange(0,len(sigbufs[ch]))/100.,sigbufs[ch])\n",
    "plt.xlabel('Time, s')\n",
    "plt.ylabel('Voltage')\n",
    "plt.show()\n",
    "savepdf(fig,'full_ts')"
   ]
  },
  {
   "cell_type": "markdown",
   "metadata": {},
   "source": [
    "Hard to look at the signal all at once, let's consider a smaller section of the signal,"
   ]
  },
  {
   "cell_type": "code",
   "execution_count": null,
   "metadata": {},
   "outputs": [],
   "source": [
    "fig=plt.figure()\n",
    "plt.plot(np.arange(0,1000)/100.,sigbufs[ch][0:1000])\n",
    "plt.xlabel('Seconds')\n",
    "plt.ylabel('Voltage')\n",
    "plt.show()\n",
    "savepdf(fig,'partial_ts')"
   ]
  },
  {
   "cell_type": "markdown",
   "metadata": {},
   "source": [
    "### Let's create a spectrogram \n",
    "because it's fun"
   ]
  },
  {
   "cell_type": "code",
   "execution_count": null,
   "metadata": {},
   "outputs": [],
   "source": [
    "from scipy import signal"
   ]
  },
  {
   "cell_type": "code",
   "execution_count": null,
   "metadata": {},
   "outputs": [],
   "source": [
    "def butter_highpass(cutoff, fs, order=5):\n",
    "    nyq = 0.5 * fs\n",
    "    normal_cutoff = cutoff / nyq\n",
    "    b, a = signal.butter(order, normal_cutoff, btype='high', analog=False)\n",
    "    return b, a\n",
    "def butter_highpass_filter(data, cutoff, fs, order=5):\n",
    "    b, a = butter_highpass(cutoff, fs, order=order)\n",
    "    y = signal.filtfilt(b, a, data)\n",
    "    return y\n",
    "\n",
    "x_filtered=butter_highpass_filter(x,cutoff=4,fs=sampling_rate)"
   ]
  },
  {
   "cell_type": "code",
   "execution_count": null,
   "metadata": {},
   "outputs": [],
   "source": [
    "freqs_perio_or,power_perio_or=signal.periodogram(x,fs=sampling_rate,detrend=None)\n",
    "fig=plt.figure()\n",
    "plt.semilogy(freqs_perio_or,np.abs(power_perio_or),'-')\n",
    "plt.xlabel('Frequency, Hz')\n",
    "plt.ylabel('Power, a.u.')\n",
    "plt.ylim([1e-6,1e5])\n",
    "plt.title('Original Power Spectrum')\n",
    "plt.show()\n",
    "savepdf(fig,'psd_orig')"
   ]
  },
  {
   "cell_type": "code",
   "execution_count": null,
   "metadata": {},
   "outputs": [],
   "source": [
    "freqs_perio,power_perio=signal.periodogram(x_filtered,fs=sampling_rate)\n",
    "fig=plt.figure()\n",
    "plt.semilogy(freqs_perio,np.abs(power_perio),'-')\n",
    "plt.xlabel('Frequency, Hz')\n",
    "plt.ylabel('Power, a.u.')\n",
    "plt.title('Filtered Power Spectrum')\n",
    "plt.ylim([1e-12,1e5])\n",
    "plt.show()\n",
    "savepdf(fig,'psd_filt')"
   ]
  },
  {
   "cell_type": "code",
   "execution_count": null,
   "metadata": {},
   "outputs": [],
   "source": [
    "fig=plt.figure()\n",
    "plt.plot(np.arange(0,1000)/100.,x_filtered[0:1000])\n",
    "plt.xlabel('Seconds')\n",
    "plt.ylabel('Voltage')\n",
    "plt.show()\n",
    "savepdf(fig,'filtered_partial_ts')"
   ]
  },
  {
   "cell_type": "code",
   "execution_count": null,
   "metadata": {},
   "outputs": [],
   "source": [
    "# let's calculate over a 15-second window\n",
    "freqs,times,power=signal.spectrogram(x, fs=sampling_rate,nperseg=1500)"
   ]
  },
  {
   "cell_type": "code",
   "execution_count": null,
   "metadata": {},
   "outputs": [],
   "source": [
    "power.shape"
   ]
  },
  {
   "cell_type": "code",
   "execution_count": null,
   "metadata": {},
   "outputs": [],
   "source": [
    "power.size"
   ]
  },
  {
   "cell_type": "markdown",
   "metadata": {},
   "source": [
    "This variable is huge, so we want to reduce the amount we plot.  Frequencies are somewhat redundant for example."
   ]
  },
  {
   "cell_type": "code",
   "execution_count": null,
   "metadata": {},
   "outputs": [],
   "source": [
    "levels = np.linspace(-8, 7, 40)\n",
    "fig=plt.figure()\n",
    "freqs_shown=np.arange(0,power.shape[0],step=5)\n",
    "times_shown=np.arange(0,power.shape[1],step=10)\n",
    "plt.contourf(times[times_shown],freqs[freqs_shown],np.log(np.abs(power[freqs_shown][:,times_shown])),levels=levels)\n",
    "plt.ylim([0,20])\n",
    "plt.colorbar()\n",
    "plt.xlabel('Time')\n",
    "plt.ylabel('Frequency')\n",
    "plt.title('Log-Power')\n",
    "plt.show()\n",
    "savepdf(fig,'raw_spectrogram')"
   ]
  },
  {
   "cell_type": "code",
   "execution_count": null,
   "metadata": {},
   "outputs": [],
   "source": [
    "# let's calculate over a 5-second window on filted data\n",
    "freqs,times,power=signal.spectrogram(x_filtered, fs=sampling_rate,nperseg=500)"
   ]
  },
  {
   "cell_type": "code",
   "execution_count": null,
   "metadata": {},
   "outputs": [],
   "source": [
    "levels = np.linspace(-8, 7, 20)\n",
    "fig=plt.figure()\n",
    "freqs_shown=np.arange(0,power.shape[0],step=5)\n",
    "times_shown=np.arange(0,power.shape[1],step=25)\n",
    "plt.contourf(times[times_shown],freqs[freqs_shown],np.log(np.abs(power[freqs_shown][:,times_shown])),levels=levels)\n",
    "plt.ylim([0,20])\n",
    "plt.colorbar()\n",
    "plt.xlabel('Time')\n",
    "plt.ylabel('Frequency')\n",
    "plt.title('Log-Power')\n",
    "plt.show()\n",
    "savepdf(fig,'filtered_spectrogram')"
   ]
  },
  {
   "cell_type": "markdown",
   "metadata": {},
   "source": [
    "Let's lower the dimensionality to make things more computationally tractable"
   ]
  },
  {
   "cell_type": "code",
   "execution_count": null,
   "metadata": {},
   "outputs": [],
   "source": [
    "from sklearn import decomposition"
   ]
  },
  {
   "cell_type": "code",
   "execution_count": null,
   "metadata": {},
   "outputs": [],
   "source": [
    "fa=decomposition.NMF(n_components=5)\n",
    "S=fa.fit_transform(power.transpose())"
   ]
  },
  {
   "cell_type": "code",
   "execution_count": null,
   "metadata": {},
   "outputs": [],
   "source": [
    "fig=plt.figure()\n",
    "plt.plot(freqs,fa.components_.transpose())\n",
    "plt.xlabel('Frequency')\n",
    "plt.ylabel('P.C.')\n",
    "plt.xlim([0,20])\n",
    "plt.title('Power Spectrum of Learned Features')\n",
    "plt.show()\n",
    "savepdf(fig,'psd_feats')"
   ]
  },
  {
   "cell_type": "code",
   "execution_count": null,
   "metadata": {},
   "outputs": [],
   "source": [
    "fig=plt.figure()\n",
    "plt.plot(times,S)\n",
    "plt.xlabel('Time')\n",
    "plt.ylabel('Feature Weights')\n",
    "plt.title('Features through Time')\n",
    "plt.show()\n",
    "savepdf(fig,'times_feats')"
   ]
  },
  {
   "cell_type": "markdown",
   "metadata": {},
   "source": [
    "Visualization of the feature space:"
   ]
  },
  {
   "cell_type": "code",
   "execution_count": null,
   "metadata": {},
   "outputs": [],
   "source": [
    "fig=plt.figure()\n",
    "plt.scatter(S[:,0],S[:,1])\n",
    "plt.xlabel('Feature 1, a.u.')\n",
    "plt.ylabel('Feature 2, a.u.')\n",
    "plt.show()\n",
    "savepdf(fig,'emb_feats')"
   ]
  },
  {
   "cell_type": "markdown",
   "metadata": {},
   "source": [
    "What happens if we cluster the data?"
   ]
  },
  {
   "cell_type": "code",
   "execution_count": null,
   "metadata": {},
   "outputs": [],
   "source": [
    "from sklearn import cluster, mixture"
   ]
  },
  {
   "cell_type": "code",
   "execution_count": null,
   "metadata": {},
   "outputs": [],
   "source": [
    "gmm=mixture.GaussianMixture(n_components=6)\n",
    "gmm.fit(S)"
   ]
  },
  {
   "cell_type": "markdown",
   "metadata": {},
   "source": [
    "What is the cluster assignment visualization in the time series?"
   ]
  },
  {
   "cell_type": "code",
   "execution_count": null,
   "metadata": {},
   "outputs": [],
   "source": [
    "fig=plt.figure()\n",
    "plt.plot(times,gmm.predict(S),'.')\n",
    "plt.xlabel('Time, s')\n",
    "plt.ylabel('Cluster Assignment')\n",
    "plt.yticks(np.arange(0,gmm.n_components))\n",
    "plt.show()\n",
    "savepdf(fig,'gmm_clusters')"
   ]
  },
  {
   "cell_type": "markdown",
   "metadata": {},
   "source": [
    "Note that there is _only a little_ temporal structure in the clustering assignments."
   ]
  },
  {
   "cell_type": "markdown",
   "metadata": {},
   "source": [
    "What are the frequency spectrums of each state?"
   ]
  },
  {
   "cell_type": "code",
   "execution_count": null,
   "metadata": {},
   "outputs": [],
   "source": [
    "means=gmm.means_\n",
    "freq_power=np.dot(means,fa.components_)\n",
    "fig=plt.figure()\n",
    "for i in range(0,len(freq_power)):\n",
    "    plt.plot(freqs,freq_power[i],label=str(i))\n",
    "plt.legend()\n",
    "plt.xlim(0,20)\n",
    "plt.xlabel('Hertz')\n",
    "plt.ylabel('Power')\n",
    "plt.title('GMM Cluster Mean PSD')\n",
    "plt.show()\n",
    "savepdf(fig,'gmm_feat_psd')"
   ]
  },
  {
   "cell_type": "markdown",
   "metadata": {},
   "source": [
    "#### Hidden Markov Model"
   ]
  },
  {
   "cell_type": "code",
   "execution_count": null,
   "metadata": {
    "collapsed": true
   },
   "outputs": [],
   "source": [
    "from hmmlearn import hmm"
   ]
  },
  {
   "cell_type": "code",
   "execution_count": null,
   "metadata": {},
   "outputs": [],
   "source": [
    "model = hmm.GaussianHMM(n_components=6, covariance_type=\"full\",n_iter=50,tol=.0001)\n",
    "model.fit(S)"
   ]
  },
  {
   "cell_type": "code",
   "execution_count": null,
   "metadata": {},
   "outputs": [],
   "source": [
    "states=model.predict(S)\n",
    "fig=plt.figure()\n",
    "plt.plot(states,'.')\n",
    "plt.xlabel('Time, s')\n",
    "plt.ylabel('Cluster Assignment')\n",
    "plt.yticks(np.arange(0,model.n_components))\n",
    "plt.show()\n",
    "savepdf(fig,'hmm_clusters')"
   ]
  },
  {
   "cell_type": "markdown",
   "metadata": {},
   "source": [
    "All of a sudden there is clear temporal structure in the clustering by allowing the markov transition property to be important!"
   ]
  },
  {
   "cell_type": "code",
   "execution_count": null,
   "metadata": {},
   "outputs": [],
   "source": [
    "means=model.means_\n",
    "freq_power=np.dot(means,fa.components_)\n",
    "fig=plt.figure()\n",
    "for i in range(0,len(freq_power)):\n",
    "    plt.plot(freqs,freq_power[i],label=str(i))\n",
    "plt.legend()\n",
    "plt.xlim(0,20)\n",
    "plt.xlabel('Hertz')\n",
    "plt.ylabel('Power')\n",
    "plt.title('HMM Cluster Mean PSD')\n",
    "plt.show()\n",
    "savepdf(fig,'hmm_feat_psd')"
   ]
  },
  {
   "cell_type": "code",
   "execution_count": null,
   "metadata": {},
   "outputs": [],
   "source": [
    "means=model.means_\n",
    "freq_power=np.dot(means,fa.components_)\n",
    "fig=plt.figure()\n",
    "fig.add_subplot(121)\n",
    "for i in range(0,len(freq_power)):\n",
    "    plt.plot(freqs,freq_power[i],label=str(i))\n",
    "plt.legend()\n",
    "plt.xlim([0,15])\n",
    "plt.xlabel('Hertz')\n",
    "plt.ylabel('Power')\n",
    "plt.title('HMM')\n",
    "means=gmm.means_\n",
    "freq_power=np.dot(means,fa.components_)\n",
    "fig.add_subplot(122)\n",
    "plt.xlim([0,15])\n",
    "for i in range(0,len(freq_power)):\n",
    "    plt.plot(freqs,freq_power[i],label=str(i))\n",
    "plt.legend()\n",
    "plt.title('GMM')\n",
    "plt.xlabel('Hertz')\n",
    "#plt.ylabel('Power')\n",
    "plt.show()\n",
    "savepdf(fig,'psd_comp')"
   ]
  },
  {
   "cell_type": "markdown",
   "metadata": {},
   "source": [
    "What are the transition properties?"
   ]
  },
  {
   "cell_type": "code",
   "execution_count": null,
   "metadata": {},
   "outputs": [],
   "source": [
    "fig=plt.figure()\n",
    "plt.imshow(model.transmat_)\n",
    "plt.title('hmm')\n",
    "plt.xticks(np.arange(0,6))\n",
    "plt.yticks(np.arange(0,6))\n",
    "plt.colorbar()\n",
    "plt.show()\n",
    "savepdf(fig,'hmm_trans')\n",
    "#fig.add_subplot(211)\n",
    "fig=plt.figure()\n",
    "plt.imshow(gmm.weights_.reshape([1,-1]).repeat(6,axis=0))\n",
    "plt.title('gmm')\n",
    "plt.xticks(np.arange(0,6))\n",
    "plt.yticks(np.arange(0,6))\n",
    "plt.colorbar()\n",
    "plt.show()\n",
    "savepdf(fig,'gmm_trans')"
   ]
  },
  {
   "cell_type": "markdown",
   "metadata": {},
   "source": [
    "The hidden markov model states that if we're in the current state, we're more likely to stay there."
   ]
  },
  {
   "cell_type": "code",
   "execution_count": null,
   "metadata": {},
   "outputs": [],
   "source": [
    "print('The probability of self transitions in a hidden markov model are:')\n",
    "for i in range(0,model.n_components):\n",
    "    print('state {} has self-transition probability of {}'.format\\\n",
    "          (i,model.transmat_[i,i]))"
   ]
  },
  {
   "cell_type": "code",
   "execution_count": null,
   "metadata": {},
   "outputs": [],
   "source": [
    "print('The probability of self transitions in a gaussian mixture model are:')\n",
    "for i in range(0,gmm.n_components):\n",
    "    print('state {} has self-transition probability of {}'.format\\\n",
    "          (i,gmm.weights_[i]))"
   ]
  },
  {
   "cell_type": "markdown",
   "metadata": {},
   "source": [
    "#### More complex form of a nested model."
   ]
  },
  {
   "cell_type": "code",
   "execution_count": null,
   "metadata": {},
   "outputs": [],
   "source": [
    "model_complex=hmm.GMMHMM(n_components=6,n_mix=5)\n",
    "model_complex.fit(S)"
   ]
  },
  {
   "cell_type": "code",
   "execution_count": null,
   "metadata": {},
   "outputs": [],
   "source": [
    "states=model_complex.predict(S)\n",
    "plt.plot(states,'.')\n",
    "plt.show()"
   ]
  },
  {
   "cell_type": "code",
   "execution_count": null,
   "metadata": {
    "collapsed": true
   },
   "outputs": [],
   "source": [
    "#print(model.transmat_)\n",
    "#fig=plt.figure(0)\n",
    "fig=plt.figure()\n",
    "#fig.add_subplot(212)\n",
    "plt.imshow(model_complex.transmat_,vmin=0,vmax=1)\n",
    "plt.title('gmm-hmm')\n",
    "plt.xticks(np.arange(0,6))\n",
    "plt.yticks(np.arange(0,6))\n",
    "plt.colorbar()\n",
    "plt.show()\n",
    "savepdf(fig,'gmmhmm_trans')\n",
    "fig=plt.figure()\n",
    "plt.imshow(model.transmat_,vmin=0,vmax=1)\n",
    "plt.title('hmm')\n",
    "plt.xticks(np.arange(0,6))\n",
    "plt.yticks(np.arange(0,6))\n",
    "plt.colorbar()\n",
    "plt.show()\n",
    "savepdf(fig,'hmm_trans')\n",
    "#fig.add_subplot(211)\n",
    "fig=plt.figure()\n",
    "plt.imshow(gmm.weights_.reshape([1,-1]).repeat(6,axis=0),vmin=0,vmax=1)\n",
    "plt.title('gmm')\n",
    "plt.xticks(np.arange(0,6))\n",
    "plt.yticks(np.arange(0,6))\n",
    "plt.colorbar()\n",
    "plt.show()\n",
    "savepdf(fig,'gmm_trans')"
   ]
  },
  {
   "cell_type": "code",
   "execution_count": null,
   "metadata": {},
   "outputs": [],
   "source": []
  }
 ],
 "metadata": {
  "kernelspec": {
   "display_name": "Python 3",
   "language": "python",
   "name": "python3"
  },
  "language_info": {
   "codemirror_mode": {
    "name": "ipython",
    "version": 3
   },
   "file_extension": ".py",
   "mimetype": "text/x-python",
   "name": "python",
   "nbconvert_exporter": "python",
   "pygments_lexer": "ipython3",
   "version": "3.6.5"
  }
 },
 "nbformat": 4,
 "nbformat_minor": 2
}
