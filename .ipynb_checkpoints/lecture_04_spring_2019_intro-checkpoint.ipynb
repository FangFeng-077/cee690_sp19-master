{
 "cells": [
  {
   "cell_type": "markdown",
   "metadata": {},
   "source": [
    "# CEE 690, Lecture 4 Code Examples"
   ]
  },
  {
   "cell_type": "markdown",
   "metadata": {},
   "source": [
    "This course will make use of notebook style coding.  Notebooks are incredibly useful tools both for teaching and for disseminating data anlysis.\n",
    "\n",
    "In Python, Jupyter notebooks are the most common.  You can construct notebooks in most languages, including R-Markdown (which will be introduced) and Mathwork's Matlab notebooks.\n",
    "\n",
    "For the purposes of this course, we will use them heavily to illustrate concepts learned in class, as well as having you demonstrate your own code using this format.\n",
    "\n",
    "One of the biggest advantages of these notebooks is that code can be separated into distinct blocks, with distinct sections.  There are two main types of blocks, code blocks and \"markdown\" blocks.  Markdown is a text format that is increasingly common used for all sorts of applications, including readmes, and are very nice ways of including comments.  Figures and equations can be embedding easily."
   ]
  },
  {
   "cell_type": "markdown",
   "metadata": {},
   "source": [
    "**Note that for the homeworks you can take _anything_ from these notebooks to use.**"
   ]
  },
  {
   "cell_type": "markdown",
   "metadata": {},
   "source": [
    "If you double quick on this block you can see an example of raw format of a markdown block.  It can be very useful to write equations, which can be done in (la)tex format.\n",
    "\n",
    "For example, we can write down the statistical model of simple linear regression by bracketing with $\\$$, the (la)tex command to write math notation:\n",
    "$\n",
    "y=bx+\\epsilon\n",
    "$\n",
    "\n",
    "Or write in \"equation\" format (i.e. separate line, different format) with $\\$\\$$:\n",
    "$$\n",
    "y=bx+\\epsilon\n",
    "$$\n",
    "\n",
    "Or our nearest neighbor estimator:\n",
    "$$\n",
    "\\hat{y_i}=\\frac{1}{N_{neighbors}}\\sum_{j\\in Neighbors_i}(y_j)\n",
    "$$\n",
    "Or so on."
   ]
  },
  {
   "cell_type": "markdown",
   "metadata": {},
   "source": [
    "We will now move on to coding examples."
   ]
  },
  {
   "cell_type": "markdown",
   "metadata": {},
   "source": [
    "## Setup"
   ]
  },
  {
   "cell_type": "markdown",
   "metadata": {},
   "source": [
    "First, let's make sure this notebook works well in both python 2 and 3, import a few common modules, ensure MatplotLib plots figures inline and prepare a function to save the figures:\n",
    "\n",
    "This section provides some initialization commands, which can simply be copied for assignments."
   ]
  },
  {
   "cell_type": "code",
   "execution_count": 1,
   "metadata": {
    "collapsed": true
   },
   "outputs": [],
   "source": [
    "# To support both python 2 and python 3\n",
    "from __future__ import division, print_function, unicode_literals\n",
    "\n",
    "# We need to import key libraries that we're going to use.  \n",
    "# For now this is just numpy, which is our linear algebra library\n",
    "import numpy as np"
   ]
  },
  {
   "cell_type": "markdown",
   "metadata": {},
   "source": [
    "One topic we haven't talked about is the use of \"random seeds.\"  Many of the algorithms we use are slightly random! For example, when we split into a training and validation dataset, this is (pseudo)-random.  However, we want our code to be _reproducible_, meaning that we get the same answer every time.  This can really help with debugging code!\n",
    "\n",
    "This is done be setting a random seed.  Because all random number generators are actually pseudo-random sequences (i.e. they're actually deterministic!), if we set the first random number, all later random numbers will be the same also."
   ]
  },
  {
   "cell_type": "code",
   "execution_count": 2,
   "metadata": {},
   "outputs": [
    {
     "name": "stdout",
     "output_type": "stream",
     "text": [
      "0.3745401188473625\n",
      "0.9507143064099162\n",
      "0.3745401188473625\n",
      "0.9507143064099162\n"
     ]
    }
   ],
   "source": [
    "# to make this notebook's output stable across runs, we are going to see the random seed\n",
    "np.random.seed(42)\n",
    "# let's see the first random number, which we can do by drawing a random uniform number between 0 and 1\n",
    "print(np.random.rand())\n",
    "# let's see the second random number\n",
    "print(np.random.rand())\n",
    "# now let's reset the seed and do it again:\n",
    "np.random.seed(42)\n",
    "print(np.random.rand())\n",
    "print(np.random.rand())\n",
    "# If you don't know which random seed to use, I highly recommend 42.  It is the answer."
   ]
  },
  {
   "cell_type": "markdown",
   "metadata": {},
   "source": [
    "Note that we have to reset the random seed _every_ time we run an algorithm if we want the same results!"
   ]
  },
  {
   "cell_type": "markdown",
   "metadata": {},
   "source": [
    "We also want to set up a plotting environment and make it look pretty.  For those of you familiar with matlab, we will be using matplotlib which is fairly close in syntax and feel.  It's not too far off from R either."
   ]
  },
  {
   "cell_type": "code",
   "execution_count": 3,
   "metadata": {
    "collapsed": true
   },
   "outputs": [],
   "source": [
    "# To plot pretty figures\n",
    "import matplotlib.pyplot as plt\n",
    "%matplotlib inline \n",
    "# This command figures show up in the notebook.  It's a \"magic\" command...\n",
    "# Typically, this now happens by default so it is often an unnecessary command, but is good for standardization.\n",
    "plt.rcParams['axes.labelsize'] = 14\n",
    "plt.rcParams['xtick.labelsize'] = 12\n",
    "plt.rcParams['ytick.labelsize'] = 12"
   ]
  },
  {
   "cell_type": "markdown",
   "metadata": {},
   "source": [
    "These commands will help us save figures; not going to go through them so much."
   ]
  },
  {
   "cell_type": "code",
   "execution_count": 4,
   "metadata": {
    "collapsed": true
   },
   "outputs": [],
   "source": [
    "# Where to save the figures\n",
    "PROJECT_ROOT_DIR = \".\"\n",
    "PROJECT_SAVE_DIR = \"04\""
   ]
  },
  {
   "cell_type": "code",
   "execution_count": 5,
   "metadata": {},
   "outputs": [
    {
     "name": "stdout",
     "output_type": "stream",
     "text": [
      "Figure directory exists.\n"
     ]
    }
   ],
   "source": [
    "# makes the directory if it doesn't exist.\n",
    "import os\n",
    "if not (os.path.isdir(PROJECT_ROOT_DIR+'/'+PROJECT_SAVE_DIR)):\n",
    "    print('Figure directory didn\\'t exist, creating now.')\n",
    "    os.mkdir(PROJECT_ROOT_DIR+'/'+PROJECT_SAVE_DIR)\n",
    "else:\n",
    "    print('Figure directory exists.') "
   ]
  },
  {
   "cell_type": "code",
   "execution_count": 6,
   "metadata": {
    "collapsed": true
   },
   "outputs": [],
   "source": [
    "# a simple defined helper function.\n",
    "def savepdf(fig,name):\n",
    "    fig.savefig(PROJECT_ROOT_DIR+'/'+PROJECT_SAVE_DIR+'/'+name+'.pdf')"
   ]
  },
  {
   "cell_type": "markdown",
   "metadata": {},
   "source": [
    "# Let's start by visualizing some data"
   ]
  },
  {
   "cell_type": "markdown",
   "metadata": {},
   "source": [
    "For now, we're really going to limit ourselves to synthetic datasets that we can generate by function calls.  We will soon start looking at real world datasets.\n",
    "\n",
    "Let's start with a linear function and then go to our test-taking students!"
   ]
  },
  {
   "cell_type": "code",
   "execution_count": 7,
   "metadata": {
    "collapsed": true
   },
   "outputs": [],
   "source": [
    "# Generates noisy data along a line.\n",
    "np.random.seed(42)\n",
    "x = np.random.rand(25, 1)\n",
    "y = 4 + 3 * x + np.random.randn(25,1)"
   ]
  },
  {
   "cell_type": "code",
   "execution_count": 8,
   "metadata": {},
   "outputs": [
    {
     "data": {
      "image/png": "[encoded data removed]",
      "text/plain": [
       "<Figure size 288x288 with 1 Axes>"
      ]
     },
     "metadata": {
      "needs_background": "light"
     },
     "output_type": "display_data"
    }
   ],
   "source": [
    "# This section plots the data.\n",
    "fig=plt.figure(figsize=[4,4])\n",
    "# figsize here is an optional arugment.  Works perfectly fine without it.\n",
    "plt.plot(x, y, \"b.\")\n",
    "plt.xlabel(\"$x$\")\n",
    "plt.ylabel(\"$y$\")\n",
    "plt.axis('tight')\n",
    "plt.show()\n",
    "# this is simply so that we can show you the saved file.\n",
    "# We don't really need this figure saved...\n",
    "savepdf(fig,'noisy_line') "
   ]
  },
  {
   "cell_type": "markdown",
   "metadata": {
    "collapsed": true
   },
   "source": [
    "Suppose that we want to fit a linear regression to this data.  We can go through and write down the linear algebra to solve this if we want to...\n",
    "\n",
    "For the purposes of this course, though, in code we're largely going to be using built-in packages to understand how to interact with these objects.\n",
    "\n",
    "This will be done primarily with the [scikit-learn](https://scikit-learn.org/stable/) package.  If you installed python using anaconda, this should already be in the default install because it is so widely used."
   ]
  },
  {
   "cell_type": "markdown",
   "metadata": {},
   "source": [
    "When we're importing from scikit-learn, we're typically only going to load in a small part of the library, because it is large and it is useful to have a small \"namespace.\""
   ]
  },
  {
   "cell_type": "code",
   "execution_count": 9,
   "metadata": {
    "collapsed": true
   },
   "outputs": [],
   "source": [
    "# this imports the \"linear regression library\"\n",
    "# it's not necessary to use a machine learning library for linear regression,\n",
    "# but it is useful to show the concepts\n",
    "from sklearn.linear_model import LinearRegression"
   ]
  },
  {
   "cell_type": "code",
   "execution_count": 10,
   "metadata": {},
   "outputs": [
    {
     "data": {
      "text/plain": [
       "LinearRegression(copy_X=True, fit_intercept=True, n_jobs=1, normalize=False)"
      ]
     },
     "execution_count": 10,
     "metadata": {},
     "output_type": "execute_result"
    }
   ],
   "source": [
    "# in sklearn, we define a object that is a linear regresssion\n",
    "our_regressor=LinearRegression()\n",
    "our_regressor"
   ]
  },
  {
   "cell_type": "code",
   "execution_count": 11,
   "metadata": {},
   "outputs": [
    {
     "data": {
      "text/plain": [
       "LinearRegression(copy_X=True, fit_intercept=True, n_jobs=1, normalize=False)"
      ]
     },
     "execution_count": 11,
     "metadata": {},
     "output_type": "execute_result"
    }
   ],
   "source": [
    "# we can \"fit\" it to the data or \"learn\" the parameters from the data with a simple command:\n",
    "our_regressor.fit(x,y)"
   ]
  },
  {
   "cell_type": "markdown",
   "metadata": {},
   "source": [
    "We now have a fit linear regression!  So exciting!\n",
    "\n",
    "Let's figure out what we can do with it."
   ]
  },
  {
   "cell_type": "code",
   "execution_count": 12,
   "metadata": {},
   "outputs": [
    {
     "name": "stdout",
     "output_type": "stream",
     "text": [
      "The slope is [[4.01589925]]\n",
      "The intercept is [3.7141677]\n"
     ]
    }
   ],
   "source": [
    "# first, let's look at the learned parameters:\n",
    "print('The slope is ' + str(our_regressor.coef_))\n",
    "print('The intercept is ' + str(our_regressor.intercept_))"
   ]
  },
  {
   "cell_type": "code",
   "execution_count": 13,
   "metadata": {},
   "outputs": [
    {
     "ename": "ValueError",
     "evalue": "Expected 2D array, got 1D array instead:\narray=[1].\nReshape your data either using array.reshape(-1, 1) if your data has a single feature or array.reshape(1, -1) if it contains a single sample.",
     "output_type": "error",
     "traceback": [
      "\u001b[1;31m---------------------------------------------------------------------------\u001b[0m",
      "\u001b[1;31mValueError\u001b[0m                                Traceback (most recent call last)",
      "\u001b[1;32m<ipython-input-13-c080a0e0e30d>\u001b[0m in \u001b[0;36m<module>\u001b[1;34m()\u001b[0m\n\u001b[0;32m      1\u001b[0m \u001b[1;31m# Let's make a prediction on a new data point.\u001b[0m\u001b[1;33m\u001b[0m\u001b[1;33m\u001b[0m\u001b[0m\n\u001b[0;32m      2\u001b[0m \u001b[1;31m# Fist, let's make an illustrative mistake, because this is code and things can be finicky.\u001b[0m\u001b[1;33m\u001b[0m\u001b[1;33m\u001b[0m\u001b[0m\n\u001b[1;32m----> 3\u001b[1;33m \u001b[0mour_regressor\u001b[0m\u001b[1;33m.\u001b[0m\u001b[0mpredict\u001b[0m\u001b[1;33m(\u001b[0m\u001b[1;33m[\u001b[0m\u001b[1;36m1\u001b[0m\u001b[1;33m]\u001b[0m\u001b[1;33m)\u001b[0m\u001b[1;33m\u001b[0m\u001b[0m\n\u001b[0m",
      "\u001b[1;32m~\\AppData\\Local\\Continuum\\anaconda3\\lib\\site-packages\\sklearn\\linear_model\\base.py\u001b[0m in \u001b[0;36mpredict\u001b[1;34m(self, X)\u001b[0m\n\u001b[0;32m    254\u001b[0m             \u001b[0mReturns\u001b[0m \u001b[0mpredicted\u001b[0m \u001b[0mvalues\u001b[0m\u001b[1;33m.\u001b[0m\u001b[1;33m\u001b[0m\u001b[0m\n\u001b[0;32m    255\u001b[0m         \"\"\"\n\u001b[1;32m--> 256\u001b[1;33m         \u001b[1;32mreturn\u001b[0m \u001b[0mself\u001b[0m\u001b[1;33m.\u001b[0m\u001b[0m_decision_function\u001b[0m\u001b[1;33m(\u001b[0m\u001b[0mX\u001b[0m\u001b[1;33m)\u001b[0m\u001b[1;33m\u001b[0m\u001b[0m\n\u001b[0m\u001b[0;32m    257\u001b[0m \u001b[1;33m\u001b[0m\u001b[0m\n\u001b[0;32m    258\u001b[0m     \u001b[0m_preprocess_data\u001b[0m \u001b[1;33m=\u001b[0m \u001b[0mstaticmethod\u001b[0m\u001b[1;33m(\u001b[0m\u001b[0m_preprocess_data\u001b[0m\u001b[1;33m)\u001b[0m\u001b[1;33m\u001b[0m\u001b[0m\n",
      "\u001b[1;32m~\\AppData\\Local\\Continuum\\anaconda3\\lib\\site-packages\\sklearn\\linear_model\\base.py\u001b[0m in \u001b[0;36m_decision_function\u001b[1;34m(self, X)\u001b[0m\n\u001b[0;32m    237\u001b[0m         \u001b[0mcheck_is_fitted\u001b[0m\u001b[1;33m(\u001b[0m\u001b[0mself\u001b[0m\u001b[1;33m,\u001b[0m \u001b[1;34m\"coef_\"\u001b[0m\u001b[1;33m)\u001b[0m\u001b[1;33m\u001b[0m\u001b[0m\n\u001b[0;32m    238\u001b[0m \u001b[1;33m\u001b[0m\u001b[0m\n\u001b[1;32m--> 239\u001b[1;33m         \u001b[0mX\u001b[0m \u001b[1;33m=\u001b[0m \u001b[0mcheck_array\u001b[0m\u001b[1;33m(\u001b[0m\u001b[0mX\u001b[0m\u001b[1;33m,\u001b[0m \u001b[0maccept_sparse\u001b[0m\u001b[1;33m=\u001b[0m\u001b[1;33m[\u001b[0m\u001b[1;34m'csr'\u001b[0m\u001b[1;33m,\u001b[0m \u001b[1;34m'csc'\u001b[0m\u001b[1;33m,\u001b[0m \u001b[1;34m'coo'\u001b[0m\u001b[1;33m]\u001b[0m\u001b[1;33m)\u001b[0m\u001b[1;33m\u001b[0m\u001b[0m\n\u001b[0m\u001b[0;32m    240\u001b[0m         return safe_sparse_dot(X, self.coef_.T,\n\u001b[0;32m    241\u001b[0m                                dense_output=True) + self.intercept_\n",
      "\u001b[1;32m~\\AppData\\Local\\Continuum\\anaconda3\\lib\\site-packages\\sklearn\\utils\\validation.py\u001b[0m in \u001b[0;36mcheck_array\u001b[1;34m(array, accept_sparse, dtype, order, copy, force_all_finite, ensure_2d, allow_nd, ensure_min_samples, ensure_min_features, warn_on_dtype, estimator)\u001b[0m\n\u001b[0;32m    439\u001b[0m                     \u001b[1;34m\"Reshape your data either using array.reshape(-1, 1) if \"\u001b[0m\u001b[1;33m\u001b[0m\u001b[0m\n\u001b[0;32m    440\u001b[0m                     \u001b[1;34m\"your data has a single feature or array.reshape(1, -1) \"\u001b[0m\u001b[1;33m\u001b[0m\u001b[0m\n\u001b[1;32m--> 441\u001b[1;33m                     \"if it contains a single sample.\".format(array))\n\u001b[0m\u001b[0;32m    442\u001b[0m             \u001b[0marray\u001b[0m \u001b[1;33m=\u001b[0m \u001b[0mnp\u001b[0m\u001b[1;33m.\u001b[0m\u001b[0matleast_2d\u001b[0m\u001b[1;33m(\u001b[0m\u001b[0marray\u001b[0m\u001b[1;33m)\u001b[0m\u001b[1;33m\u001b[0m\u001b[0m\n\u001b[0;32m    443\u001b[0m             \u001b[1;31m# To ensure that array flags are maintained\u001b[0m\u001b[1;33m\u001b[0m\u001b[1;33m\u001b[0m\u001b[0m\n",
      "\u001b[1;31mValueError\u001b[0m: Expected 2D array, got 1D array instead:\narray=[1].\nReshape your data either using array.reshape(-1, 1) if your data has a single feature or array.reshape(1, -1) if it contains a single sample."
     ]
    }
   ],
   "source": [
    "# Let's make a prediction on a new data point.\n",
    "# Fist, let's make an illustrative mistake, because this is code and things can be finicky.\n",
    "our_regressor.predict([1])"
   ]
  },
  {
   "cell_type": "code",
   "execution_count": 14,
   "metadata": {},
   "outputs": [
    {
     "ename": "AttributeError",
     "evalue": "'list' object has no attribute 'reshape'",
     "output_type": "error",
     "traceback": [
      "\u001b[1;31m---------------------------------------------------------------------------\u001b[0m",
      "\u001b[1;31mAttributeError\u001b[0m                            Traceback (most recent call last)",
      "\u001b[1;32m<ipython-input-14-8cfabbd3d2da>\u001b[0m in \u001b[0;36m<module>\u001b[1;34m()\u001b[0m\n\u001b[0;32m      1\u001b[0m \u001b[1;31m# Let's do what they suggest\u001b[0m\u001b[1;33m\u001b[0m\u001b[1;33m\u001b[0m\u001b[0m\n\u001b[1;32m----> 2\u001b[1;33m \u001b[0mour_regressor\u001b[0m\u001b[1;33m.\u001b[0m\u001b[0mpredict\u001b[0m\u001b[1;33m(\u001b[0m\u001b[1;33m[\u001b[0m\u001b[1;36m1\u001b[0m\u001b[1;33m]\u001b[0m\u001b[1;33m.\u001b[0m\u001b[0mreshape\u001b[0m\u001b[1;33m(\u001b[0m\u001b[1;33m-\u001b[0m\u001b[1;36m1\u001b[0m\u001b[1;33m,\u001b[0m\u001b[1;36m1\u001b[0m\u001b[1;33m)\u001b[0m\u001b[1;33m)\u001b[0m\u001b[1;33m\u001b[0m\u001b[0m\n\u001b[0m",
      "\u001b[1;31mAttributeError\u001b[0m: 'list' object has no attribute 'reshape'"
     ]
    }
   ],
   "source": [
    "# Let's do what they suggest\n",
    "our_regressor.predict([1].reshape(-1,1))"
   ]
  },
  {
   "cell_type": "code",
   "execution_count": 15,
   "metadata": {
    "collapsed": true
   },
   "outputs": [],
   "source": [
    "# There's a big difference in python between lists and arrays.  \n",
    "# We almost always want to use arrays in data science, but python defaults to lists.\n",
    "x_new=np.array([1])"
   ]
  },
  {
   "cell_type": "code",
   "execution_count": 16,
   "metadata": {},
   "outputs": [
    {
     "name": "stdout",
     "output_type": "stream",
     "text": [
      "[[7.73006695]]\n",
      "[[7.73006695]]\n"
     ]
    }
   ],
   "source": [
    "# We can now do what they suggest:\n",
    "print(our_regressor.predict(x_new.reshape(-1,1)))\n",
    "# instead, we can use\n",
    "print(our_regressor.predict([[1]]))"
   ]
  },
  {
   "cell_type": "markdown",
   "metadata": {},
   "source": [
    "Let's draw out the curve on the plot.\n",
    "\n",
    "Because this is a line, we can just use the endpoints and draw a line between them."
   ]
  },
  {
   "cell_type": "code",
   "execution_count": 17,
   "metadata": {},
   "outputs": [
    {
     "data": {
      "image/png": "[encoded data removed]",
      "text/plain": [
       "<Figure size 432x432 with 1 Axes>"
      ]
     },
     "metadata": {
      "needs_background": "light"
     },
     "output_type": "display_data"
    }
   ],
   "source": [
    "# This section plots the data.\n",
    "fig=plt.figure(figsize=[6,6])\n",
    "# First, let's draw our data points\n",
    "plt.plot(x, y, \"b.\",label='data')\n",
    "# Now, let's draw our linear fit\n",
    "x_ends=np.array([0,1])\n",
    "y_hat=our_regressor.predict(x_ends.reshape(-1,1))\n",
    "plt.plot(x_ends,y_hat,'k--',linewidth=2,label='predictions')\n",
    "plt.xlabel(\"$x$\")\n",
    "plt.ylabel(\"$y$\")\n",
    "plt.legend()\n",
    "plt.axis('tight')\n",
    "plt.show()"
   ]
  },
  {
   "cell_type": "markdown",
   "metadata": {},
   "source": [
    "Can we do the exact same thing with nearest neighbors?"
   ]
  },
  {
   "cell_type": "code",
   "execution_count": 18,
   "metadata": {
    "collapsed": true
   },
   "outputs": [],
   "source": [
    "# this imports a k-Nearest Neighbors regressor (note that regression and classification are separate objects.)\n",
    "from sklearn.neighbors import KNeighborsRegressor"
   ]
  },
  {
   "cell_type": "code",
   "execution_count": 19,
   "metadata": {},
   "outputs": [
    {
     "data": {
      "text/plain": [
       "KNeighborsRegressor(algorithm='auto', leaf_size=30, metric='minkowski',\n",
       "          metric_params=None, n_jobs=1, n_neighbors=1, p=2,\n",
       "          weights='uniform')"
      ]
     },
     "execution_count": 19,
     "metadata": {},
     "output_type": "execute_result"
    }
   ],
   "source": [
    "# in sklearn, we define a object that is a kNN regressor\n",
    "our_regressor=KNeighborsRegressor(n_neighbors=1)\n",
    "our_regressor"
   ]
  },
  {
   "cell_type": "markdown",
   "metadata": {},
   "source": [
    "Scikit-learn commands are _largely_ standardized, making it relatively easy to switch between types of regression or classifiers.  Note the similarity between these commands and what we had in linear regression."
   ]
  },
  {
   "cell_type": "code",
   "execution_count": 20,
   "metadata": {},
   "outputs": [
    {
     "data": {
      "text/plain": [
       "KNeighborsRegressor(algorithm='auto', leaf_size=30, metric='minkowski',\n",
       "          metric_params=None, n_jobs=1, n_neighbors=1, p=2,\n",
       "          weights='uniform')"
      ]
     },
     "execution_count": 20,
     "metadata": {},
     "output_type": "execute_result"
    }
   ],
   "source": [
    "# we can \"fit\" it to the data or \"learn\" the parameters from the data with a simple command:\n",
    "our_regressor.fit(x,y)"
   ]
  },
  {
   "cell_type": "code",
   "execution_count": 21,
   "metadata": {},
   "outputs": [
    {
     "name": "stdout",
     "output_type": "stream",
     "text": [
      "[[6.74797417]]\n"
     ]
    }
   ],
   "source": [
    "# We can now do what they suggest:\n",
    "x_new=np.array([1])\n",
    "print(our_regressor.predict(x_new.reshape(-1,1)))"
   ]
  },
  {
   "cell_type": "markdown",
   "metadata": {},
   "source": [
    "Let's plot our our kNN regression predictions."
   ]
  },
  {
   "cell_type": "code",
   "execution_count": 22,
   "metadata": {},
   "outputs": [
    {
     "data": {
      "text/plain": [
       "array([0.   , 0.001, 0.002, 0.003, 0.004])"
      ]
     },
     "execution_count": 22,
     "metadata": {},
     "output_type": "execute_result"
    }
   ],
   "source": [
    "# unlike linear regression, we can't just interpolate from the endpoints, we must evaluate predictions over the entire interval.\n",
    "x_interpolate=np.linspace(0,1,num=1001)\n",
    "x_interpolate[:5]"
   ]
  },
  {
   "cell_type": "code",
   "execution_count": 23,
   "metadata": {
    "collapsed": true
   },
   "outputs": [],
   "source": [
    "# same prediction as before\n",
    "y_hat=our_regressor.predict(x_interpolate.reshape([-1,1])) "
   ]
  },
  {
   "cell_type": "code",
   "execution_count": 24,
   "metadata": {},
   "outputs": [
    {
     "data": {
      "image/png": "[encoded data removed]",
      "text/plain": [
       "<Figure size 432x432 with 1 Axes>"
      ]
     },
     "metadata": {
      "needs_background": "light"
     },
     "output_type": "display_data"
    }
   ],
   "source": [
    "# This section plots the data.\n",
    "fig=plt.figure(figsize=[6,6])\n",
    "# First, let's draw our data points\n",
    "plt.plot(x, y, \"b.\",label='data')\n",
    "# Now, let's draw our linear fit\n",
    "plt.plot(x_interpolate,y_hat,'k--',linewidth=2,label='predictions')\n",
    "plt.xlabel(\"$x$\")\n",
    "plt.ylabel(\"$y$\")\n",
    "plt.legend()\n",
    "plt.axis('tight')\n",
    "plt.show()"
   ]
  },
  {
   "cell_type": "markdown",
   "metadata": {},
   "source": [
    "Because kNN is so jumpy, I personally don't like to draw connecting lines, which can be done like the following:"
   ]
  },
  {
   "cell_type": "code",
   "execution_count": 25,
   "metadata": {},
   "outputs": [
    {
     "data": {
      "image/png": "[encoded data removed]",
      "text/plain": [
       "<Figure size 432x432 with 1 Axes>"
      ]
     },
     "metadata": {
      "needs_background": "light"
     },
     "output_type": "display_data"
    }
   ],
   "source": [
    "# This section plots the data.\n",
    "fig=plt.figure(figsize=[6,6])\n",
    "# First, let's draw our data points\n",
    "plt.plot(x, y, \"b.\",label='data',markersize=10)\n",
    "# Now, let's draw our linear fit\n",
    "plt.plot(x_interpolate,y_hat,'k.',label='predictions',markersize=2)\n",
    "plt.xlabel(\"$x$\")\n",
    "plt.ylabel(\"$y$\")\n",
    "plt.legend()\n",
    "plt.axis('tight')\n",
    "plt.show()"
   ]
  },
  {
   "cell_type": "markdown",
   "metadata": {},
   "source": [
    "## Validation\n",
    "Using our test-taking students"
   ]
  },
  {
   "cell_type": "code",
   "execution_count": 26,
   "metadata": {
    "collapsed": true
   },
   "outputs": [],
   "source": [
    "# Here is a function that generates data of students taking a test.  It's just like the real thing!\n",
    "def generate_students(n=100):\n",
    "    def sigmoid(x):\n",
    "        return 1./(1.+np.exp(-x))\n",
    "    # Generates noisy data along curved line.\n",
    "    # The curve is non-linear and the noise/variance is heteroskedastic and non-gaussian, so it breaks\n",
    "    # pretty much all classical statistical model assumptions.  It's both pretty fun and kind of \n",
    "    # disturbing how easy it is to do that.\n",
    "    x = 6*np.random.rand(n, 1)\n",
    "    x = np.sort(x,axis=0)\n",
    "    y = 100* sigmoid(x+.4*np.random.randn(n,1))+5*np.random.randn(n,1)\n",
    "    y[y>100]=100\n",
    "    return x,y"
   ]
  },
  {
   "cell_type": "code",
   "execution_count": 27,
   "metadata": {
    "collapsed": true
   },
   "outputs": [],
   "source": [
    "x,y=generate_students(n=200)"
   ]
  },
  {
   "cell_type": "code",
   "execution_count": 28,
   "metadata": {
    "collapsed": true
   },
   "outputs": [],
   "source": [
    "# Let's split the data before we do any analysis!\n",
    "n_train=120\n",
    "n_valid=40\n",
    "n_test=40\n",
    "# One way to split is to just pull out data indices:\n",
    "x_train=x[:n_train]\n",
    "x_valid=x[n_train:n_train+n_valid]\n",
    "x_test=x[n_train+n_valid:n_train+n_valid+n_test]\n",
    "y_train=y[:n_train]\n",
    "y_valid=y[n_train:n_train+n_valid]\n",
    "y_test=y[n_train+n_valid:n_train+n_valid+n_test]"
   ]
  },
  {
   "cell_type": "code",
   "execution_count": 29,
   "metadata": {},
   "outputs": [
    {
     "data": {
      "image/png": "[encoded data removed]",
      "text/plain": [
       "<Figure size 432x288 with 1 Axes>"
      ]
     },
     "metadata": {
      "needs_background": "light"
     },
     "output_type": "display_data"
    }
   ],
   "source": [
    "plt.plot(x_train,y_train,'.',label='train')\n",
    "plt.plot(x_valid,y_valid,'.',label='valid')\n",
    "plt.xlabel(\"Hours Studied\", fontsize=18)\n",
    "plt.ylabel(\"Test Grade\", fontsize=18)\n",
    "plt.legend()\n",
    "plt.axis('tight')\n",
    "plt.show()"
   ]
  },
  {
   "cell_type": "markdown",
   "metadata": {},
   "source": [
    "There's a problem here..."
   ]
  },
  {
   "cell_type": "code",
   "execution_count": 30,
   "metadata": {
    "collapsed": true
   },
   "outputs": [],
   "source": [
    "# Let's split the data before we do any analysis!\n",
    "n_train=120\n",
    "n_valid=40\n",
    "n_test=40\n",
    "# Let's permute the data before we split it too!\n",
    "permutation=np.random.permutation(200)\n",
    "x_permute=x[permutation]\n",
    "y_permute=y[permutation]\n",
    "# One way to split is to just pull out data indices:\n",
    "x_train=x_permute[:n_train]\n",
    "x_valid=x_permute[n_train:n_train+n_valid]\n",
    "x_test=x_permute[n_train+n_valid:n_train+n_valid+n_test]\n",
    "y_train=y_permute[:n_train]\n",
    "y_valid=y_permute[n_train:n_train+n_valid]\n",
    "y_test=y_permute[n_train+n_valid:n_train+n_valid+n_test]"
   ]
  },
  {
   "cell_type": "code",
   "execution_count": 31,
   "metadata": {},
   "outputs": [
    {
     "data": {
      "image/png": "[encoded data removed]",
      "text/plain": [
       "<Figure size 432x288 with 1 Axes>"
      ]
     },
     "metadata": {
      "needs_background": "light"
     },
     "output_type": "display_data"
    }
   ],
   "source": [
    "plt.plot(x_train,y_train,'.',label='train')\n",
    "plt.plot(x_valid,y_valid,'.',label='valid')\n",
    "plt.xlabel(\"Hours Studied\", fontsize=18)\n",
    "plt.ylabel(\"Test Grade\", fontsize=18)\n",
    "plt.legend()\n",
    "plt.axis('tight')\n",
    "plt.show()"
   ]
  },
  {
   "cell_type": "markdown",
   "metadata": {},
   "source": [
    "That is much better!"
   ]
  },
  {
   "cell_type": "markdown",
   "metadata": {},
   "source": [
    "Let's apply our models."
   ]
  },
  {
   "cell_type": "code",
   "execution_count": 32,
   "metadata": {},
   "outputs": [
    {
     "data": {
      "text/plain": [
       "KNeighborsRegressor(algorithm='auto', leaf_size=30, metric='minkowski',\n",
       "          metric_params=None, n_jobs=1, n_neighbors=1, p=2,\n",
       "          weights='uniform')"
      ]
     },
     "execution_count": 32,
     "metadata": {},
     "output_type": "execute_result"
    }
   ],
   "source": [
    "our_linear_model=LinearRegression()\n",
    "our_linear_model.fit(x_train,y_train)\n",
    "our_knn_model=KNeighborsRegressor(n_neighbors=1)\n",
    "our_knn_model.fit(x_train,y_train)"
   ]
  },
  {
   "cell_type": "markdown",
   "metadata": {},
   "source": [
    "How well does this fit?\n",
    "\n",
    "We can make use of nice built-in sklearn functions."
   ]
  },
  {
   "cell_type": "code",
   "execution_count": 33,
   "metadata": {
    "collapsed": true
   },
   "outputs": [],
   "source": [
    "from sklearn.metrics import mean_squared_error"
   ]
  },
  {
   "cell_type": "code",
   "execution_count": 34,
   "metadata": {},
   "outputs": [
    {
     "name": "stdout",
     "output_type": "stream",
     "text": [
      "62.588598380295544, 80.1760528969676\n"
     ]
    }
   ],
   "source": [
    "linear_training_mse=mean_squared_error(y_train,our_linear_model.predict(x_train))\n",
    "linear_valid_mse=mean_squared_error(y_valid,our_linear_model.predict(x_valid))\n",
    "print(str(linear_training_mse)+', '+ str(linear_valid_mse))"
   ]
  },
  {
   "cell_type": "code",
   "execution_count": 35,
   "metadata": {
    "collapsed": true
   },
   "outputs": [],
   "source": [
    "knn_training_mse=mean_squared_error(y_train,our_knn_model.predict(x_train))\n",
    "knn_valid_mse=mean_squared_error(y_valid,our_knn_model.predict(x_valid))"
   ]
  },
  {
   "cell_type": "code",
   "execution_count": 36,
   "metadata": {},
   "outputs": [
    {
     "name": "stdout",
     "output_type": "stream",
     "text": [
      "0.0, 59.7685265095044\n"
     ]
    }
   ],
   "source": [
    "print(str(knn_training_mse)+', '+ str(knn_valid_mse))"
   ]
  },
  {
   "cell_type": "markdown",
   "metadata": {},
   "source": [
    "What can we conclude about these two models?"
   ]
  },
  {
   "cell_type": "code",
   "execution_count": null,
   "metadata": {
    "collapsed": true
   },
   "outputs": [],
   "source": []
  },
  {
   "cell_type": "markdown",
   "metadata": {},
   "source": [
    "Let's sweep over the number of neighbors to determine which is best."
   ]
  },
  {
   "cell_type": "code",
   "execution_count": 37,
   "metadata": {},
   "outputs": [
    {
     "name": "stdout",
     "output_type": "stream",
     "text": [
      "For 1 neighbors the validation MSE is 59.7685265095044\n",
      "For 2 neighbors the validation MSE is 45.877631345377\n",
      "For 3 neighbors the validation MSE is 54.476581638789966\n",
      "For 4 neighbors the validation MSE is 55.74791904006899\n",
      "For 5 neighbors the validation MSE is 52.24635118239477\n",
      "For 6 neighbors the validation MSE is 55.897360210473195\n",
      "For 7 neighbors the validation MSE is 51.39052622634765\n",
      "For 8 neighbors the validation MSE is 49.07392276513649\n",
      "For 9 neighbors the validation MSE is 47.258630969172984\n",
      "For 10 neighbors the validation MSE is 49.8781826852531\n",
      "For 11 neighbors the validation MSE is 50.83478536240844\n",
      "For 12 neighbors the validation MSE is 50.48197559479593\n",
      "For 13 neighbors the validation MSE is 51.949063929230896\n",
      "For 14 neighbors the validation MSE is 53.755253804128415\n",
      "For 15 neighbors the validation MSE is 56.340971688700805\n",
      "For 16 neighbors the validation MSE is 56.308749571288544\n",
      "For 17 neighbors the validation MSE is 56.3553921486844\n",
      "For 18 neighbors the validation MSE is 53.938309936996504\n",
      "For 19 neighbors the validation MSE is 55.06640231019372\n"
     ]
    }
   ],
   "source": [
    "for k in range(1,20):\n",
    "    our_knn_model=KNeighborsRegressor(n_neighbors=k)\n",
    "    our_knn_model.fit(x_train,y_train)\n",
    "    knn_valid_mse=mean_squared_error(y_valid,our_knn_model.predict(x_valid))\n",
    "    print('For {} neighbors the validation MSE is {}'.format(k,knn_valid_mse))"
   ]
  },
  {
   "cell_type": "markdown",
   "metadata": {},
   "source": [
    "What model should we choose?"
   ]
  },
  {
   "cell_type": "code",
   "execution_count": null,
   "metadata": {
    "collapsed": true
   },
   "outputs": [],
   "source": []
  }
 ],
 "metadata": {
  "kernelspec": {
   "display_name": "Python 3",
   "language": "python",
   "name": "python3"
  },
  "language_info": {
   "codemirror_mode": {
    "name": "ipython",
    "version": 3
   },
   "file_extension": ".py",
   "mimetype": "text/x-python",
   "name": "python",
   "nbconvert_exporter": "python",
   "pygments_lexer": "ipython3",
   "version": "3.6.5"
  }
 },
 "nbformat": 4,
 "nbformat_minor": 2
}
