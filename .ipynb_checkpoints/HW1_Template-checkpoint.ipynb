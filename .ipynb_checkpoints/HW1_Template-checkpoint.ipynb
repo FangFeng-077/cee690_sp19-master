{
 "cells": [
  {
   "cell_type": "markdown",
   "metadata": {},
   "source": [
    "# HW 1 Template"
   ]
  },
  {
   "cell_type": "markdown",
   "metadata": {},
   "source": [
    "This code may (or may not!) be helpful in your first assignment.  Feel free to use it"
   ]
  },
  {
   "cell_type": "markdown",
   "metadata": {},
   "source": [
    "## Setup"
   ]
  },
  {
   "cell_type": "code",
   "execution_count": 1,
   "metadata": {},
   "outputs": [],
   "source": [
    "# To support both python 2 and python 3\n",
    "from __future__ import division, print_function, unicode_literals\n",
    "\n",
    "# We need to import key libraries that we're going to use.  \n",
    "# For now this is just numpy, which is our linear algebra library\n",
    "import numpy as np\n",
    "\n",
    "# knn\n",
    "from sklearn.neighbors import KNeighborsClassifier\n",
    "# logistic regression\n",
    "from sklearn.linear_model import LogisticRegression\n",
    "# validation\n",
    "from sklearn.metrics import mean_squared_error\n",
    "# accuracy\n",
    "from sklearn.metrics import accuracy_score\n",
    "\n",
    "# To plot pretty figures\n",
    "import matplotlib.pyplot as plt\n",
    "%matplotlib inline \n",
    "# This command figures show up in the notebook.  It's a \"magic\" command...\n",
    "# Typically, this now happens by default so it is often an unnecessary command, but is good for standardization.\n",
    "plt.rcParams['axes.labelsize'] = 14\n",
    "plt.rcParams['xtick.labelsize'] = 12\n",
    "plt.rcParams['ytick.labelsize'] = 12"
   ]
  },
  {
   "cell_type": "code",
   "execution_count": 2,
   "metadata": {},
   "outputs": [],
   "source": [
    "# to make this notebook's output stable across runs, we are going to see the random seed\n",
    "np.random.seed(42)"
   ]
  },
  {
   "cell_type": "code",
   "execution_count": 3,
   "metadata": {},
   "outputs": [],
   "source": [
    "# To plot pretty figures\n",
    "import matplotlib.pyplot as plt\n",
    "%matplotlib inline \n",
    "# This command figures show up in the notebook.  It's a \"magic\" command...\n",
    "# Typically, this now happens by default so it is often an unnecessary command, but is good for standardization.\n",
    "plt.rcParams['axes.labelsize'] = 14\n",
    "plt.rcParams['xtick.labelsize'] = 12\n",
    "plt.rcParams['ytick.labelsize'] = 12"
   ]
  },
  {
   "cell_type": "code",
   "execution_count": 4,
   "metadata": {},
   "outputs": [],
   "source": [
    "# Where to save the figures\n",
    "PROJECT_ROOT_DIR = \".\"\n",
    "PROJECT_SAVE_DIR = \"hw1\""
   ]
  },
  {
   "cell_type": "code",
   "execution_count": 5,
   "metadata": {},
   "outputs": [
    {
     "name": "stdout",
     "output_type": "stream",
     "text": [
      "Figure directory exists.\n"
     ]
    }
   ],
   "source": [
    "# makes the directory if it doesn't exist.\n",
    "import os\n",
    "if not (os.path.isdir(PROJECT_ROOT_DIR+'/'+PROJECT_SAVE_DIR)):\n",
    "    print('Figure directory didn\\'t exist, creating now.')\n",
    "    os.mkdir(PROJECT_ROOT_DIR+'/'+PROJECT_SAVE_DIR)\n",
    "else:\n",
    "    print('Figure directory exists.') "
   ]
  },
  {
   "cell_type": "code",
   "execution_count": 6,
   "metadata": {},
   "outputs": [],
   "source": [
    "# a simple defined helper function.\n",
    "def savepdf(fig,name):\n",
    "    fig.savefig(PROJECT_ROOT_DIR+'/'+PROJECT_SAVE_DIR+'/'+name+'.pdf')\n",
    "    \n",
    "# a simple defined helper function.\n",
    "def savejpg(fig,name):\n",
    "    fig.savefig(PROJECT_ROOT_DIR+'/'+PROJECT_SAVE_DIR+'/'+name+'.jpg')"
   ]
  },
  {
   "cell_type": "markdown",
   "metadata": {},
   "source": [
    "## Data For Specific Problesm"
   ]
  },
  {
   "cell_type": "code",
   "execution_count": 7,
   "metadata": {},
   "outputs": [],
   "source": [
    "## Code to save to csv, if desired.\n",
    "import pandas as pd"
   ]
  },
  {
   "cell_type": "markdown",
   "metadata": {},
   "source": [
    "**Problem 3(a)**: 1-d test scores for pass/fail"
   ]
  },
  {
   "cell_type": "code",
   "execution_count": 8,
   "metadata": {},
   "outputs": [],
   "source": [
    "# Here is a function that generates data of students taking a test.  It's just like the real thing!\n",
    "def generate_students_pass_fail(n=200,pass_line=70,random_seed=42):\n",
    "    def sigmoid(x):\n",
    "        return 1./(1.+np.exp(-x))\n",
    "    # Generates noisy data along curved line.\n",
    "    # The curve is non-linear and the noise/variance is heteroskedastic and non-gaussian, so it breaks\n",
    "    # pretty much all classical statistical model assumptions.  It's both pretty fun and kind of \n",
    "    # disturbing how easy it is to do that.\n",
    "    np.random.seed(random_seed)\n",
    "    x = 6*np.random.rand(n, 1)\n",
    "    x = np.sort(x,axis=0)\n",
    "    score = 100* sigmoid(-2+x+.4*np.random.randn(n,1))+5*np.random.randn(n,1)\n",
    "    y=score>pass_line\n",
    "    y=y.reshape(-1)\n",
    "    return x,y"
   ]
  },
  {
   "cell_type": "code",
   "execution_count": 9,
   "metadata": {},
   "outputs": [],
   "source": [
    "x,y=generate_students_pass_fail()"
   ]
  },
  {
   "cell_type": "code",
   "execution_count": 10,
   "metadata": {},
   "outputs": [],
   "source": [
    "# Save to csv if desired\n",
    "df=pd.DataFrame(data=np.concatenate((x,y.reshape(-1,1)),axis=1))\n",
    "df.columns=['x','y']\n",
    "df[:5]\n",
    "df.to_csv('hw1/3a')"
   ]
  },
  {
   "cell_type": "code",
   "execution_count": 11,
   "metadata": {},
   "outputs": [
    {
     "data": {
      "image/png": "[encoded data removed]",
      "text/plain": [
       "<Figure size 288x288 with 1 Axes>"
      ]
     },
     "metadata": {
      "needs_background": "light"
     },
     "output_type": "display_data"
    }
   ],
   "source": [
    "# visualize the data\n",
    "fig=plt.figure(figsize=[4,4])\n",
    "plt.plot(x, y, \"b.\")\n",
    "plt.xlabel(\"$x$\")\n",
    "plt.ylabel(\"$y$\")\n",
    "plt.axis('tight')\n",
    "plt.show()\n",
    "savejpg(fig, '3a_data')"
   ]
  },
  {
   "cell_type": "markdown",
   "metadata": {},
   "source": [
    "**Problem 3(a)**: ii) Logistic Regression"
   ]
  },
  {
   "cell_type": "code",
   "execution_count": 12,
   "metadata": {},
   "outputs": [],
   "source": [
    "# split data into a slingle training and validation dataset\n",
    "n_train=150\n",
    "n_valid=50\n",
    "# Let's permute the data before we split it too!\n",
    "permutation=np.random.permutation(200)\n",
    "x_permute=x[permutation]\n",
    "y_permute=y[permutation]\n",
    "\n",
    "x_train=x_permute[:n_train]\n",
    "x_valid=x_permute[n_train:n_train+n_valid]\n",
    "y_train=y_permute[:n_train]\n",
    "y_valid=y_permute[n_train:n_train+n_valid]\n"
   ]
  },
  {
   "cell_type": "code",
   "execution_count": 13,
   "metadata": {},
   "outputs": [
    {
     "data": {
      "image/png": "[encoded data removed]",
      "text/plain": [
       "<Figure size 432x288 with 1 Axes>"
      ]
     },
     "metadata": {
      "needs_background": "light"
     },
     "output_type": "display_data"
    }
   ],
   "source": [
    "plt.plot(x_train,y_train,'.',label='train')\n",
    "plt.plot(x_valid,y_valid,'.',label='valid')\n",
    "plt.xlabel(\"Hours Studied\", fontsize=18)\n",
    "plt.ylabel(\"Test Grade\", fontsize=18)\n",
    "plt.legend()\n",
    "plt.axis('tight')\n",
    "plt.show()"
   ]
  },
  {
   "cell_type": "code",
   "execution_count": 14,
   "metadata": {},
   "outputs": [],
   "source": [
    "# fit logistic regression model\n",
    "logistic_regression = LogisticRegression(random_state=0, solver='lbfgs').fit(x_train, y_train)"
   ]
  },
  {
   "cell_type": "code",
   "execution_count": 15,
   "metadata": {},
   "outputs": [
    {
     "name": "stdout",
     "output_type": "stream",
     "text": [
      "training set accuracy: 0.9466666666666667\n",
      "validate set accuracy: 0.9\n"
     ]
    }
   ],
   "source": [
    "# accuracy\n",
    "train_accuracy = accuracy_score(y_train, logistic_regression.predict(x_train))\n",
    "valid_accuracy = accuracy_score(y_valid, logistic_regression.predict(x_valid))\n",
    "print(\"training set accuracy: \" + str(train_accuracy))\n",
    "print(\"validate set accuracy: \" + str(valid_accuracy))"
   ]
  },
  {
   "cell_type": "markdown",
   "metadata": {},
   "source": [
    "**Problem 3(a)**: iii) KNN"
   ]
  },
  {
   "cell_type": "code",
   "execution_count": 16,
   "metadata": {},
   "outputs": [
    {
     "data": {
      "image/png": "[encoded data removed]",
      "text/plain": [
       "<Figure size 432x288 with 1 Axes>"
      ]
     },
     "metadata": {
      "needs_background": "light"
     },
     "output_type": "display_data"
    }
   ],
   "source": [
    "# k selection\n",
    "knn_train_accuracy=[]\n",
    "knn_valid_accuracy=[]\n",
    "for k in range(1,20):\n",
    "    knn_clf=KNeighborsClassifier(n_neighbors=k)\n",
    "    knn_clf.fit(x_train,y_train)\n",
    "    # accuracy\n",
    "    train_accuracy = accuracy_score(y_train, knn_clf.predict(x_train))\n",
    "    valid_accuracy = accuracy_score(y_valid, knn_clf.predict(x_valid))\n",
    "\n",
    "    knn_train_accuracy.append(train_accuracy)\n",
    "    knn_valid_accuracy.append(valid_accuracy)\n",
    "    \n",
    "plt.plot(range(1,20), knn_train_accuracy, 'r--',label='train')\n",
    "plt.plot(range(1,20), knn_valid_accuracy, 'b--',label='valid')\n",
    "plt.legend()\n",
    "plt.axis('tight')\n",
    "plt.xticks(range(1, 20))\n",
    "plt.show()\n",
    "\n",
    "# choose k = 3"
   ]
  },
  {
   "cell_type": "code",
   "execution_count": 17,
   "metadata": {},
   "outputs": [
    {
     "data": {
      "text/plain": [
       "KNeighborsClassifier(algorithm='auto', leaf_size=30, metric='minkowski',\n",
       "           metric_params=None, n_jobs=None, n_neighbors=3, p=2,\n",
       "           weights='uniform')"
      ]
     },
     "execution_count": 17,
     "metadata": {},
     "output_type": "execute_result"
    }
   ],
   "source": [
    "# use k=3\n",
    "knn_clf=KNeighborsClassifier(n_neighbors=3)\n",
    "knn_clf.fit(x_train,y_train)"
   ]
  },
  {
   "cell_type": "code",
   "execution_count": 18,
   "metadata": {},
   "outputs": [
    {
     "name": "stdout",
     "output_type": "stream",
     "text": [
      "training set accuracy: 0.94\n",
      "validate set accuracy: 0.92\n"
     ]
    }
   ],
   "source": [
    "# accuracy\n",
    "train_accuracy = accuracy_score(y_train, knn_clf.predict(x_train))\n",
    "valid_accuracy = accuracy_score(y_valid, knn_clf.predict(x_valid))\n",
    "print(\"training set accuracy: \" + str(train_accuracy))\n",
    "print(\"validate set accuracy: \" + str(valid_accuracy))"
   ]
  },
  {
   "cell_type": "markdown",
   "metadata": {},
   "source": [
    "**Problem 3(a)**: iv) visualization"
   ]
  },
  {
   "cell_type": "code",
   "execution_count": 19,
   "metadata": {},
   "outputs": [
    {
     "data": {
      "image/png": "[encoded data removed]",
      "text/plain": [
       "<Figure size 432x432 with 1 Axes>"
      ]
     },
     "metadata": {
      "needs_background": "light"
     },
     "output_type": "display_data"
    }
   ],
   "source": [
    "# This section plots the data.\n",
    "fig=plt.figure(figsize=[6,6])\n",
    "# First, let's draw our data points\n",
    "plt.plot(x_train, y_train, \"b.\",label='data')\n",
    "# Now, let's draw our logistic regression fit\n",
    "\n",
    "# simulate a test dataset\n",
    "x_test = np.linspace(0, 7, 20)\n",
    "y_hat=knn_clf.predict(x_test.reshape([-1,1])) \n",
    "def model(x):\n",
    "    return 1 / (1 + np.exp(-x))\n",
    "\n",
    "loss = model(x_test * logistic_regression.coef_ + logistic_regression.intercept_).ravel()\n",
    "\n",
    "plt.plot(x_test,loss,'k--',linewidth=2,label='logistic regression')\n",
    "plt.plot(x_test,y_hat,'g-',linewidth=2,label='knn')\n",
    "plt.xlabel(\"$x$\")\n",
    "plt.ylabel(\"$y$\")\n",
    "plt.legend()\n",
    "plt.axis('tight')\n",
    "plt.show()\n",
    "savejpg(fig, '3a_fit')"
   ]
  },
  {
   "cell_type": "markdown",
   "metadata": {},
   "source": [
    "**Problem 3(b)**: 2-d circles"
   ]
  },
  {
   "cell_type": "code",
   "execution_count": 20,
   "metadata": {},
   "outputs": [],
   "source": [
    "from sklearn.datasets import make_circles\n",
    "x,y=make_circles(n_samples=500,shuffle=False,noise=.10,random_state=42)"
   ]
  },
  {
   "cell_type": "code",
   "execution_count": 21,
   "metadata": {},
   "outputs": [],
   "source": [
    "# Save to csv if desired\n",
    "df=pd.DataFrame(data=np.concatenate((x,y.reshape(-1,1)),axis=1))\n",
    "df.columns=['x1','x2','y']\n",
    "df[:5]\n",
    "df.to_csv('hw1/3b')"
   ]
  },
  {
   "cell_type": "code",
   "execution_count": 22,
   "metadata": {},
   "outputs": [
    {
     "data": {
      "image/png": "[encoded data removed]",
      "text/plain": [
       "<Figure size 288x288 with 1 Axes>"
      ]
     },
     "metadata": {
      "needs_background": "light"
     },
     "output_type": "display_data"
    }
   ],
   "source": [
    "# visualize the data\n",
    "reds = y == 0\n",
    "blues = y == 1\n",
    "fig=plt.figure(figsize=[4,4])\n",
    "plt.scatter(x[reds, 0], x[reds, 1], c=\"red\", s=20)\n",
    "plt.scatter(x[blues, 0], x[blues, 1], c=\"blue\", s=20)\n",
    "plt.xlabel(\"$x1$\")\n",
    "plt.ylabel(\"$x2$\")\n",
    "plt.axis('tight')\n",
    "plt.show()\n",
    "savejpg(fig, 'circle_data')"
   ]
  },
  {
   "cell_type": "markdown",
   "metadata": {},
   "source": [
    "**Problem 3(b)**: ii) logistic regression"
   ]
  },
  {
   "cell_type": "code",
   "execution_count": 23,
   "metadata": {},
   "outputs": [],
   "source": [
    "# split data into a slingle training and validation dataset\n",
    "n_train=400\n",
    "n_valid=100\n",
    "# Let's permute the data before we split it too!\n",
    "permutation=np.random.permutation(500)\n",
    "\n",
    "x_permute=x[permutation]\n",
    "y_permute=y[permutation]\n",
    "\n",
    "x_train=x_permute[:n_train,:]\n",
    "x_valid=x_permute[n_train:n_train+n_valid, :]\n",
    "y_train=y_permute[:n_train]\n",
    "y_valid=y_permute[n_train:n_train+n_valid]"
   ]
  },
  {
   "cell_type": "code",
   "execution_count": 24,
   "metadata": {},
   "outputs": [
    {
     "data": {
      "text/plain": [
       "LogisticRegression(C=1.0, class_weight=None, dual=False, fit_intercept=True,\n",
       "          intercept_scaling=1, max_iter=100, multi_class='warn',\n",
       "          n_jobs=None, penalty='l2', random_state=0, solver='lbfgs',\n",
       "          tol=0.0001, verbose=0, warm_start=False)"
      ]
     },
     "execution_count": 24,
     "metadata": {},
     "output_type": "execute_result"
    }
   ],
   "source": [
    "# fit logistic regression model\n",
    "from sklearn.linear_model import LogisticRegression\n",
    "logistic_regression = LogisticRegression(random_state=0, solver='lbfgs')\n",
    "logistic_regression.fit(x_train, y_train)"
   ]
  },
  {
   "cell_type": "code",
   "execution_count": 25,
   "metadata": {},
   "outputs": [
    {
     "name": "stdout",
     "output_type": "stream",
     "text": [
      "training set accuracy: 0.5075\n",
      "validate set accuracy: 0.47\n"
     ]
    }
   ],
   "source": [
    "# accuracy\n",
    "train_accuracy = accuracy_score(y_train, logistic_regression.predict(x_train))\n",
    "valid_accuracy = accuracy_score(y_valid, logistic_regression.predict(x_valid))\n",
    "print(\"training set accuracy: \" + str(train_accuracy))\n",
    "print(\"validate set accuracy: \" + str(valid_accuracy))"
   ]
  },
  {
   "cell_type": "markdown",
   "metadata": {},
   "source": [
    "**Problem 3(b)**: iii) knn"
   ]
  },
  {
   "cell_type": "code",
   "execution_count": 26,
   "metadata": {},
   "outputs": [
    {
     "data": {
      "image/png": "[encoded data removed]",
      "text/plain": [
       "<Figure size 432x288 with 1 Axes>"
      ]
     },
     "metadata": {
      "needs_background": "light"
     },
     "output_type": "display_data"
    }
   ],
   "source": [
    "# k selection\n",
    "knn_train_accuracy=[]\n",
    "knn_valid_accuracy=[]\n",
    "for k in range(1,20):\n",
    "    knn_clf=KNeighborsClassifier(n_neighbors=k)\n",
    "    knn_clf.fit(x_train,y_train)\n",
    "    # accuracy\n",
    "    train_accuracy = accuracy_score(y_train, knn_clf.predict(x_train))\n",
    "    valid_accuracy = accuracy_score(y_valid, knn_clf.predict(x_valid))\n",
    "\n",
    "    knn_train_accuracy.append(train_accuracy)\n",
    "    knn_valid_accuracy.append(valid_accuracy)\n",
    "    \n",
    "plt.plot(range(1,20), knn_train_accuracy, 'r--', label=\"train\")\n",
    "plt.plot(range(1,20), knn_valid_accuracy, 'b--', label=\"valid\")\n",
    "plt.legend()\n",
    "plt.axis('tight')\n",
    "plt.xticks(range(1, 20))\n",
    "plt.show()\n",
    "# choose k = 6"
   ]
  },
  {
   "cell_type": "code",
   "execution_count": 27,
   "metadata": {},
   "outputs": [
    {
     "data": {
      "text/plain": [
       "KNeighborsClassifier(algorithm='auto', leaf_size=30, metric='minkowski',\n",
       "           metric_params=None, n_jobs=None, n_neighbors=6, p=2,\n",
       "           weights='uniform')"
      ]
     },
     "execution_count": 27,
     "metadata": {},
     "output_type": "execute_result"
    }
   ],
   "source": [
    "# use k=6\n",
    "knn_clf=KNeighborsClassifier(n_neighbors=6)\n",
    "knn_clf.fit(x_train,y_train)"
   ]
  },
  {
   "cell_type": "code",
   "execution_count": 28,
   "metadata": {},
   "outputs": [
    {
     "name": "stdout",
     "output_type": "stream",
     "text": [
      "training set accuracy: 0.8525\n",
      "validate set accuracy: 0.85\n"
     ]
    }
   ],
   "source": [
    "# accuracy\n",
    "train_accuracy = accuracy_score(y_train, knn_clf.predict(x_train))\n",
    "valid_accuracy = accuracy_score(y_valid, knn_clf.predict(x_valid))\n",
    "print(\"training set accuracy: \" + str(train_accuracy))\n",
    "print(\"validate set accuracy: \" + str(valid_accuracy))"
   ]
  },
  {
   "cell_type": "markdown",
   "metadata": {},
   "source": [
    "**Problem 3(c)**: 2-d moons"
   ]
  },
  {
   "cell_type": "code",
   "execution_count": 29,
   "metadata": {},
   "outputs": [],
   "source": [
    "from sklearn.datasets import make_moons\n",
    "x,y=make_moons(n_samples=200,noise=.65,random_state=42)"
   ]
  },
  {
   "cell_type": "code",
   "execution_count": 30,
   "metadata": {},
   "outputs": [],
   "source": [
    "# Save to csv if desired\n",
    "df=pd.DataFrame(data=np.concatenate((x,y.reshape(-1,1)),axis=1))\n",
    "df.columns=['x1','x2','y']\n",
    "df[:5]\n",
    "df.to_csv('hw1/3c')"
   ]
  },
  {
   "cell_type": "code",
   "execution_count": 31,
   "metadata": {},
   "outputs": [
    {
     "data": {
      "image/png": "[encoded data removed]",
      "text/plain": [
       "<Figure size 288x288 with 1 Axes>"
      ]
     },
     "metadata": {
      "needs_background": "light"
     },
     "output_type": "display_data"
    }
   ],
   "source": [
    "# visualize the data\n",
    "reds = y == 0\n",
    "blues = y == 1\n",
    "fig=plt.figure(figsize=[4,4])\n",
    "plt.scatter(x[reds, 0], x[reds, 1], c=\"red\", s=20)\n",
    "plt.scatter(x[blues, 0], x[blues, 1], c=\"blue\", s=20)\n",
    "plt.xlabel(\"$x1$\")\n",
    "plt.ylabel(\"$x2$\")\n",
    "plt.axis('tight')\n",
    "plt.show()\n",
    "savejpg(fig, 'moon_data')"
   ]
  },
  {
   "cell_type": "markdown",
   "metadata": {},
   "source": [
    "**Problem 3(c)**: ii) logistic regression"
   ]
  },
  {
   "cell_type": "code",
   "execution_count": 32,
   "metadata": {},
   "outputs": [],
   "source": [
    "# split data into a slingle training and validation dataset\n",
    "n_train=150\n",
    "n_valid=50\n",
    "# Let's permute the data before we split it too!\n",
    "permutation=np.random.permutation(200)\n",
    "\n",
    "x_permute=x[permutation]\n",
    "y_permute=y[permutation]\n",
    "\n",
    "x_train=x_permute[:n_train,:]\n",
    "x_valid=x_permute[n_train:n_train+n_valid, :]\n",
    "y_train=y_permute[:n_train]\n",
    "y_valid=y_permute[n_train:n_train+n_valid]"
   ]
  },
  {
   "cell_type": "code",
   "execution_count": 33,
   "metadata": {},
   "outputs": [
    {
     "data": {
      "text/plain": [
       "LogisticRegression(C=1.0, class_weight=None, dual=False, fit_intercept=True,\n",
       "          intercept_scaling=1, max_iter=100, multi_class='warn',\n",
       "          n_jobs=None, penalty='l2', random_state=0, solver='lbfgs',\n",
       "          tol=0.0001, verbose=0, warm_start=False)"
      ]
     },
     "execution_count": 33,
     "metadata": {},
     "output_type": "execute_result"
    }
   ],
   "source": [
    "# fit logistic regression model\n",
    "from sklearn.linear_model import LogisticRegression\n",
    "logistic_regression = LogisticRegression(random_state=0, solver='lbfgs')\n",
    "logistic_regression.fit(x_train, y_train)"
   ]
  },
  {
   "cell_type": "code",
   "execution_count": 34,
   "metadata": {},
   "outputs": [
    {
     "name": "stdout",
     "output_type": "stream",
     "text": [
      "training set accuracy: 0.7666666666666667\n",
      "validate set accuracy: 0.7\n"
     ]
    }
   ],
   "source": [
    "# accuracy\n",
    "train_accuracy = accuracy_score(y_train, logistic_regression.predict(x_train))\n",
    "valid_accuracy = accuracy_score(y_valid, logistic_regression.predict(x_valid))\n",
    "print(\"training set accuracy: \" + str(train_accuracy))\n",
    "print(\"validate set accuracy: \" + str(valid_accuracy))"
   ]
  },
  {
   "cell_type": "markdown",
   "metadata": {},
   "source": [
    "**Problem 3(c)**: iii) knn"
   ]
  },
  {
   "cell_type": "code",
   "execution_count": 35,
   "metadata": {},
   "outputs": [
    {
     "data": {
      "image/png": "[encoded data removed]",
      "text/plain": [
       "<Figure size 432x288 with 1 Axes>"
      ]
     },
     "metadata": {
      "needs_background": "light"
     },
     "output_type": "display_data"
    }
   ],
   "source": [
    "# k selection\n",
    "knn_train_accuracy=[]\n",
    "knn_valid_accuracy=[]\n",
    "for k in range(1,20):\n",
    "    knn_clf=KNeighborsClassifier(n_neighbors=k)\n",
    "    knn_clf.fit(x_train,y_train)\n",
    "    # accuracy\n",
    "    train_accuracy = accuracy_score(y_train, knn_clf.predict(x_train))\n",
    "    valid_accuracy = accuracy_score(y_valid, knn_clf.predict(x_valid))\n",
    "\n",
    "    knn_train_accuracy.append(train_accuracy)\n",
    "    knn_valid_accuracy.append(valid_accuracy)\n",
    "    \n",
    "plt.plot(range(1,20), knn_train_accuracy, 'r--', label='train')\n",
    "plt.plot(range(1,20), knn_valid_accuracy, 'b--', label='valid')\n",
    "plt.legend()\n",
    "plt.xticks(range(1, 20))\n",
    "plt.axis('tight')\n",
    "plt.show()\n",
    "\n",
    "# choose k = 3"
   ]
  },
  {
   "cell_type": "code",
   "execution_count": 36,
   "metadata": {},
   "outputs": [
    {
     "data": {
      "text/plain": [
       "KNeighborsClassifier(algorithm='auto', leaf_size=30, metric='minkowski',\n",
       "           metric_params=None, n_jobs=None, n_neighbors=15, p=2,\n",
       "           weights='uniform')"
      ]
     },
     "execution_count": 36,
     "metadata": {},
     "output_type": "execute_result"
    }
   ],
   "source": [
    "# use k=3\n",
    "knn_clf=KNeighborsClassifier(n_neighbors=15)\n",
    "knn_clf.fit(x_train,y_train)"
   ]
  },
  {
   "cell_type": "code",
   "execution_count": 37,
   "metadata": {},
   "outputs": [
    {
     "name": "stdout",
     "output_type": "stream",
     "text": [
      "training set accuracy: 0.7466666666666667\n",
      "validate set accuracy: 0.78\n"
     ]
    }
   ],
   "source": [
    "# accuracy\n",
    "train_accuracy = accuracy_score(y_train, knn_clf.predict(x_train))\n",
    "valid_accuracy = accuracy_score(y_valid, knn_clf.predict(x_valid))\n",
    "print(\"training set accuracy: \" + str(train_accuracy))\n",
    "print(\"validate set accuracy: \" + str(valid_accuracy))"
   ]
  },
  {
   "cell_type": "markdown",
   "metadata": {},
   "source": [
    "**Problem 4**"
   ]
  },
  {
   "cell_type": "code",
   "execution_count": 38,
   "metadata": {},
   "outputs": [],
   "source": [
    "y_prime = np.random.randint(0, 2, df.shape[0])"
   ]
  },
  {
   "cell_type": "code",
   "execution_count": 39,
   "metadata": {},
   "outputs": [],
   "source": [
    "# split data into a slingle training and validation dataset\n",
    "n_train=150\n",
    "n_valid=50\n",
    "# Let's permute the data before we split it too!\n",
    "permutation=np.random.permutation(200)\n",
    "\n",
    "x_permute=x[permutation]\n",
    "y_permute=y_prime[permutation]\n",
    "\n",
    "x_train=x_permute[:n_train,:]\n",
    "x_valid=x_permute[n_train:n_train+n_valid, :]\n",
    "y_train=y_permute[:n_train]\n",
    "y_valid=y_permute[n_train:n_train+n_valid]"
   ]
  },
  {
   "cell_type": "code",
   "execution_count": 40,
   "metadata": {},
   "outputs": [
    {
     "data": {
      "image/png": "[encoded data removed]",
      "text/plain": [
       "<Figure size 432x288 with 1 Axes>"
      ]
     },
     "metadata": {
      "needs_background": "light"
     },
     "output_type": "display_data"
    }
   ],
   "source": [
    "# k selection\n",
    "knn_train_accuracy=[]\n",
    "knn_valid_accuracy=[]\n",
    "for k in range(1,20):\n",
    "    knn_clf=KNeighborsClassifier(n_neighbors=k)\n",
    "    knn_clf.fit(x_train,y_train)\n",
    "    # accuracy\n",
    "    train_accuracy = accuracy_score(y_train, knn_clf.predict(x_train))\n",
    "    valid_accuracy = accuracy_score(y_valid, knn_clf.predict(x_valid))\n",
    "\n",
    "    knn_train_accuracy.append(train_accuracy)\n",
    "    knn_valid_accuracy.append(valid_accuracy)\n",
    "    \n",
    "plt.plot(range(1,20), knn_train_accuracy, 'r--', label='train')\n",
    "plt.plot(range(1,20), knn_valid_accuracy, 'b--', label='valid')\n",
    "plt.legend()\n",
    "plt.xticks(range(1, 20))\n",
    "plt.axis('tight')\n",
    "plt.show()\n",
    "\n",
    "# choose k = 2"
   ]
  },
  {
   "cell_type": "code",
   "execution_count": 41,
   "metadata": {},
   "outputs": [
    {
     "data": {
      "text/plain": [
       "KNeighborsClassifier(algorithm='auto', leaf_size=30, metric='minkowski',\n",
       "           metric_params=None, n_jobs=None, n_neighbors=2, p=2,\n",
       "           weights='uniform')"
      ]
     },
     "execution_count": 41,
     "metadata": {},
     "output_type": "execute_result"
    }
   ],
   "source": [
    "# use k=2\n",
    "knn_clf=KNeighborsClassifier(n_neighbors=2)\n",
    "knn_clf.fit(x_train,y_train)"
   ]
  },
  {
   "cell_type": "code",
   "execution_count": 42,
   "metadata": {},
   "outputs": [
    {
     "name": "stdout",
     "output_type": "stream",
     "text": [
      "training set accuracy: 0.7266666666666667\n",
      "validate set accuracy: 0.66\n"
     ]
    }
   ],
   "source": [
    "# accuracy\n",
    "train_accuracy = accuracy_score(y_train, knn_clf.predict(x_train))\n",
    "valid_accuracy = accuracy_score(y_valid, knn_clf.predict(x_valid))\n",
    "print(\"training set accuracy: \" + str(train_accuracy))\n",
    "print(\"validate set accuracy: \" + str(valid_accuracy))"
   ]
  },
  {
   "cell_type": "code",
   "execution_count": null,
   "metadata": {},
   "outputs": [],
   "source": []
  }
 ],
 "metadata": {
  "kernelspec": {
   "display_name": "Python 3",
   "language": "python",
   "name": "python3"
  },
  "language_info": {
   "codemirror_mode": {
    "name": "ipython",
    "version": 3
   },
   "file_extension": ".py",
   "mimetype": "text/x-python",
   "name": "python",
   "nbconvert_exporter": "python",
   "pygments_lexer": "ipython3",
   "version": "3.6.5"
  }
 },
 "nbformat": 4,
 "nbformat_minor": 2
}
