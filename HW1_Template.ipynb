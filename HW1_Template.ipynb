{
 "cells": [
  {
   "cell_type": "markdown",
   "metadata": {},
   "source": [
    "# HW 1 Template"
   ]
  },
  {
   "cell_type": "markdown",
   "metadata": {},
   "source": [
    "This code may (or may not!) be helpful in your first assignment.  Feel free to use it"
   ]
  },
  {
   "cell_type": "markdown",
   "metadata": {},
   "source": [
    "## Setup"
   ]
  },
  {
   "cell_type": "code",
   "execution_count": 3,
   "metadata": {
    "collapsed": true
   },
   "outputs": [],
   "source": [
    "# To support both python 2 and python 3\n",
    "from __future__ import division, print_function, unicode_literals\n",
    "\n",
    "# We need to import key libraries that we're going to use.  \n",
    "# For now this is just numpy, which is our linear algebra library\n",
    "import numpy as np"
   ]
  },
  {
   "cell_type": "code",
   "execution_count": 4,
   "metadata": {
    "collapsed": true
   },
   "outputs": [],
   "source": [
    "# to make this notebook's output stable across runs, we are going to see the random seed\n",
    "np.random.seed(42)"
   ]
  },
  {
   "cell_type": "code",
   "execution_count": 5,
   "metadata": {
    "collapsed": true
   },
   "outputs": [],
   "source": [
    "# To plot pretty figures\n",
    "import matplotlib.pyplot as plt\n",
    "%matplotlib inline \n",
    "# This command figures show up in the notebook.  It's a \"magic\" command...\n",
    "# Typically, this now happens by default so it is often an unnecessary command, but is good for standardization.\n",
    "plt.rcParams['axes.labelsize'] = 14\n",
    "plt.rcParams['xtick.labelsize'] = 12\n",
    "plt.rcParams['ytick.labelsize'] = 12"
   ]
  },
  {
   "cell_type": "code",
   "execution_count": 6,
   "metadata": {
    "collapsed": true
   },
   "outputs": [],
   "source": [
    "# Where to save the figures\n",
    "PROJECT_ROOT_DIR = \".\"\n",
    "PROJECT_SAVE_DIR = \"hw1\""
   ]
  },
  {
   "cell_type": "code",
   "execution_count": 7,
   "metadata": {},
   "outputs": [
    {
     "name": "stdout",
     "output_type": "stream",
     "text": [
      "Figure directory exists.\n"
     ]
    }
   ],
   "source": [
    "# makes the directory if it doesn't exist.\n",
    "import os\n",
    "if not (os.path.isdir(PROJECT_ROOT_DIR+'/'+PROJECT_SAVE_DIR)):\n",
    "    print('Figure directory didn\\'t exist, creating now.')\n",
    "    os.mkdir(PROJECT_ROOT_DIR+'/'+PROJECT_SAVE_DIR)\n",
    "else:\n",
    "    print('Figure directory exists.') "
   ]
  },
  {
   "cell_type": "code",
   "execution_count": 8,
   "metadata": {
    "collapsed": true
   },
   "outputs": [],
   "source": [
    "# a simple defined helper function.\n",
    "def savepdf(fig,name):\n",
    "    fig.savefig(PROJECT_ROOT_DIR+'/'+PROJECT_SAVE_DIR+'/'+name+'.pdf')"
   ]
  },
  {
   "cell_type": "markdown",
   "metadata": {},
   "source": [
    "## Data For Specific Problesm"
   ]
  },
  {
   "cell_type": "code",
   "execution_count": 9,
   "metadata": {
    "collapsed": true
   },
   "outputs": [],
   "source": [
    "## Code to save to csv, if desired.\n",
    "import pandas as pd"
   ]
  },
  {
   "cell_type": "markdown",
   "metadata": {},
   "source": [
    "**Problem 3(a)**: 1-d test scores for pass/fail"
   ]
  },
  {
   "cell_type": "code",
   "execution_count": 10,
   "metadata": {
    "collapsed": true
   },
   "outputs": [],
   "source": [
    "# Here is a function that generates data of students taking a test.  It's just like the real thing!\n",
    "def generate_students_pass_fail(n=200,pass_line=70,random_seed=42):\n",
    "    def sigmoid(x):\n",
    "        return 1./(1.+np.exp(-x))\n",
    "    # Generates noisy data along curved line.\n",
    "    # The curve is non-linear and the noise/variance is heteroskedastic and non-gaussian, so it breaks\n",
    "    # pretty much all classical statistical model assumptions.  It's both pretty fun and kind of \n",
    "    # disturbing how easy it is to do that.\n",
    "    np.random.seed(random_seed)\n",
    "    x = 6*np.random.rand(n, 1)\n",
    "    x = np.sort(x,axis=0)\n",
    "    score = 100* sigmoid(-2+x+.4*np.random.randn(n,1))+5*np.random.randn(n,1)\n",
    "    y=score>pass_line\n",
    "    y=y.reshape(-1)\n",
    "    return x,y"
   ]
  },
  {
   "cell_type": "code",
   "execution_count": 11,
   "metadata": {},
   "outputs": [],
   "source": [
    "x,y=generate_students_pass_fail()"
   ]
  },
  {
   "cell_type": "code",
   "execution_count": 12,
   "metadata": {
    "collapsed": true
   },
   "outputs": [],
   "source": [
    "# Save to csv if desired\n",
    "df=pd.DataFrame(data=np.concatenate((x,y.reshape(-1,1)),axis=1))\n",
    "df.columns=['x','y']\n",
    "df[:5]\n",
    "df.to_csv('hw1/3a')"
   ]
  },
  {
   "cell_type": "markdown",
   "metadata": {},
   "source": [
    "**Problem 3(b)**: 2-d circles"
   ]
  },
  {
   "cell_type": "code",
   "execution_count": 13,
   "metadata": {
    "collapsed": true
   },
   "outputs": [],
   "source": [
    "from sklearn.datasets import make_circles\n",
    "x,y=make_circles(n_samples=500,shuffle=False,noise=.10,random_state=42)"
   ]
  },
  {
   "cell_type": "code",
   "execution_count": 14,
   "metadata": {
    "collapsed": true
   },
   "outputs": [],
   "source": [
    "# Save to csv if desired\n",
    "df=pd.DataFrame(data=np.concatenate((x,y.reshape(-1,1)),axis=1))\n",
    "df.columns=['x1','x2','y']\n",
    "df[:5]\n",
    "df.to_csv('hw1/3b')"
   ]
  },
  {
   "cell_type": "markdown",
   "metadata": {},
   "source": [
    "**Problem 3(c)**: 2-d moons"
   ]
  },
  {
   "cell_type": "code",
   "execution_count": 15,
   "metadata": {
    "collapsed": true
   },
   "outputs": [],
   "source": [
    "from sklearn.datasets import make_moons\n",
    "x,y=make_moons(n_samples=200,noise=.65,random_state=42)"
   ]
  },
  {
   "cell_type": "code",
   "execution_count": 16,
   "metadata": {
    "collapsed": true
   },
   "outputs": [],
   "source": [
    "# Save to csv if desired\n",
    "df=pd.DataFrame(data=np.concatenate((x,y.reshape(-1,1)),axis=1))\n",
    "df.columns=['x1','x2','y']\n",
    "df[:5]\n",
    "df.to_csv('hw1/3c')"
   ]
  }
 ],
 "metadata": {
  "kernelspec": {
   "display_name": "Python [conda env:tensorflow]",
   "language": "python",
   "name": "conda-env-tensorflow-py"
  },
  "language_info": {
   "codemirror_mode": {
    "name": "ipython",
    "version": 3
   },
   "file_extension": ".py",
   "mimetype": "text/x-python",
   "name": "python",
   "nbconvert_exporter": "python",
   "pygments_lexer": "ipython3",
   "version": "3.6.7"
  }
 },
 "nbformat": 4,
 "nbformat_minor": 2
}
