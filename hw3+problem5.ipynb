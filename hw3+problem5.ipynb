{
 "cells": [
  {
   "cell_type": "code",
   "execution_count": 1,
   "metadata": {},
   "outputs": [],
   "source": [
    "import numpy as np\n",
    "import pandas as pd\n",
    "from sklearn import decomposition\n",
    "import matplotlib.pyplot as plt\n",
    "from sklearn import model_selection\n",
    "from sklearn import datasets, model_selection, linear_model, metrics\n",
    "from sklearn import pipeline\n",
    "from sklearn import svm"
   ]
  },
  {
   "cell_type": "code",
   "execution_count": 2,
   "metadata": {},
   "outputs": [],
   "source": [
    "Xdf=pd.read_csv('./hw3/hw3_problem_5_X.csv')\n",
    "ydf=pd.read_csv('./hw3/hw3_problem_5_y.csv')\n",
    "Xdf_blind=pd.read_csv('./hw3/hw3_problem_5_X_blind.csv')\n",
    "X=np.array(Xdf.values[:,1:],dtype=np.float64)\n",
    "y=np.array(ydf.values[:,1],dtype=np.float64)\n",
    "X_blind=np.array(Xdf_blind.values[:,1:],dtype=np.float64)\n",
    "X_train,X_valid,y_train,y_valid=model_selection.train_test_split(X,y,random_state=42)\n"
   ]
  },
  {
   "cell_type": "code",
   "execution_count": 3,
   "metadata": {},
   "outputs": [
    {
     "data": {
      "text/plain": [
       "Text(0, 0.5, '% Variance Explained')"
      ]
     },
     "execution_count": 3,
     "metadata": {},
     "output_type": "execute_result"
    },
    {
     "data": {
      "image/png": "[encoded data removed]",
      "text/plain": [
       "<Figure size 432x288 with 1 Axes>"
      ]
     },
     "metadata": {
      "needs_background": "light"
     },
     "output_type": "display_data"
    }
   ],
   "source": [
    "pca=decomposition.PCA(n_components=200)\n",
    "X_fit=pca.fit(X_train)\n",
    "fig=plt.figure(figsize=[6,4])\n",
    "plt.plot(np.arange(1,201),pca.explained_variance_ratio_[:201],'k.-',lw=2,ms=8,label='Individual')\n",
    "plt.plot(np.arange(1,201),np.cumsum(pca.explained_variance_ratio_[:201]),'b.--',lw=2,ms=8, label='Cumulative')\n",
    "plt.legend()\n",
    "plt.xlabel('Component #')\n",
    "plt.ylabel('% Variance Explained')\n",
    "\n"
   ]
  },
  {
   "cell_type": "markdown",
   "metadata": {},
   "source": [
    "The number of components I choose is 75 when the variance is 0.8."
   ]
  },
  {
   "cell_type": "code",
   "execution_count": 4,
   "metadata": {},
   "outputs": [
    {
     "data": {
      "text/plain": [
       "dict_keys(['memory', 'steps', 'pca2', 'cls', 'pca2__copy', 'pca2__iterated_power', 'pca2__n_components', 'pca2__random_state', 'pca2__svd_solver', 'pca2__tol', 'pca2__whiten', 'cls__C', 'cls__cache_size', 'cls__class_weight', 'cls__coef0', 'cls__decision_function_shape', 'cls__degree', 'cls__gamma', 'cls__kernel', 'cls__max_iter', 'cls__probability', 'cls__random_state', 'cls__shrinking', 'cls__tol', 'cls__verbose'])"
      ]
     },
     "execution_count": 4,
     "metadata": {},
     "output_type": "execute_result"
    }
   ],
   "source": [
    "pca2=decomposition.PCA(n_components=200)\n",
    "n_comp=np.arange(1,9,1)\n",
    "g=np.logspace(-4,0,50)\n",
    "C=np.logspace(-10,2,50)\n",
    "cls=svm.SVC(kernel='rbf',gamma=0.1,C=0.5)\n",
    "pipe=pipeline.Pipeline([('pca2',pca2),('cls',cls)])\n",
    "\n",
    "pipe.fit(X_train,y_train)\n",
    "\n",
    "pipe.get_params().keys()"
   ]
  },
  {
   "cell_type": "code",
   "execution_count": 5,
   "metadata": {},
   "outputs": [
    {
     "data": {
      "text/plain": [
       "GridSearchCV(cv=3, error_score='raise-deprecating',\n",
       "       estimator=Pipeline(memory=None,\n",
       "     steps=[('pca2', PCA(copy=True, iterated_power='auto', n_components=200, random_state=None,\n",
       "  svd_solver='auto', tol=0.0, whiten=False)), ('cls', SVC(C=0.5, cache_size=200, class_weight=None, coef0=0.0,\n",
       "  decision_function_shape='ovr', degree=3, gamma=0.1, kernel='rbf',\n",
       "  max_iter=-1, probability=False, random_state=None, shrinking=True,\n",
       "  tol=0.001, verbose=False))]),\n",
       "       fit_params=None, iid=False, n_jobs=None,\n",
       "       param_grid={'pca2__n_components': array([1, 2, 3, 4, 5, 6, 7, 8]), 'cls__gamma': array([1.00000e-04, 1.20679e-04, 1.45635e-04, 1.75751e-04, 2.12095e-04,\n",
       "       2.55955e-04, 3.08884e-04, 3.72759e-04, 4.49843e-04, 5.42868e-04,\n",
       "       6.55129e-04, 7.90604e-04, 9.54095e-04, 1.15140e-03, 1.38950e-03,\n",
       "   ... 3.39322e+00, 5.96362e+00,\n",
       "       1.04811e+01, 1.84207e+01, 3.23746e+01, 5.68987e+01, 1.00000e+02])},\n",
       "       pre_dispatch='2*n_jobs', refit=True, return_train_score=False,\n",
       "       scoring='roc_auc', verbose=0)"
      ]
     },
     "execution_count": 5,
     "metadata": {},
     "output_type": "execute_result"
    }
   ],
   "source": [
    "param_grid={'pca2__n_components':n_comp,'cls__gamma':g,'cls__C':C}\n",
    "gscv=model_selection.GridSearchCV(pipe,param_grid,scoring='roc_auc',cv=3,iid=False,return_train_score=False)\n",
    "gscv.fit(X,y)"
   ]
  },
  {
   "cell_type": "code",
   "execution_count": 6,
   "metadata": {},
   "outputs": [
    {
     "name": "stdout",
     "output_type": "stream",
     "text": [
      "{'cls__C': 3.39322177189533, 'cls__gamma': 0.00014563484775012445, 'pca2__n_components': 7} 0.7314203722624185\n"
     ]
    }
   ],
   "source": [
    "print(gscv.best_params_,gscv.best_score_)"
   ]
  },
  {
   "cell_type": "code",
   "execution_count": 7,
   "metadata": {},
   "outputs": [
    {
     "name": "stdout",
     "output_type": "stream",
     "text": [
      "[array([0., 0., 1., 0., 1., 0., 0., 1., 1., 0., 0., 0., 1., 0., 1., 0., 1.,\n",
      "       1., 0., 0., 0., 0., 1., 1., 1., 1., 1., 0., 0., 1., 1., 0., 1., 0.,\n",
      "       0., 0., 1., 1., 1., 1., 0., 1., 1., 1., 1., 1., 0., 0., 1., 0., 0.,\n",
      "       1., 0., 1., 1., 0., 0., 1., 1., 1., 1., 1., 0., 0., 1., 0., 0., 1.,\n",
      "       0., 1., 1., 0., 1., 1., 1., 0., 1., 1., 0., 0., 1., 1., 1., 1., 1.,\n",
      "       1., 0., 1., 1., 1., 0., 0., 0., 1., 0., 1., 0., 1., 0., 1., 1., 0.,\n",
      "       0., 0., 1., 1., 1., 0., 1., 1., 1., 1., 1., 0., 0., 1., 0., 0., 0.,\n",
      "       0., 1., 0., 1., 0., 1.])]\n"
     ]
    },
    {
     "data": {
      "text/plain": [
       "(1, 125)"
      ]
     },
     "execution_count": 7,
     "metadata": {},
     "output_type": "execute_result"
    }
   ],
   "source": [
    "y_blind_predicted=[]\n",
    "pca_pred=decomposition.PCA(n_components=7)\n",
    "cls_pred=svm.SVC(kernel='rbf',gamma=gscv.best_params_['cls__gamma'],C=gscv.best_params_['cls__C'])\n",
    "pipe_pred=pipeline.Pipeline([('pca2',pca_pred),('cls',cls_pred)])\n",
    "pipe_pred.fit(X_train,y_train)\n",
    "y_blind_predicted.append(pipe_pred.predict(X_blind))\n",
    "print(y_blind_predicted)    \n",
    "Xdf=pd.DataFrame(y_blind_predicted)\n",
    "Xdf.to_csv('./hw3_hw3_problem_5_y_blind_predicted5.csv')\n",
    "np.shape(Xdf)"
   ]
  },
  {
   "cell_type": "code",
   "execution_count": null,
   "metadata": {},
   "outputs": [],
   "source": []
  }
 ],
 "metadata": {
  "kernelspec": {
   "display_name": "Python 3",
   "language": "python",
   "name": "python3"
  },
  "language_info": {
   "codemirror_mode": {
    "name": "ipython",
    "version": 3
   },
   "file_extension": ".py",
   "mimetype": "text/x-python",
   "name": "python",
   "nbconvert_exporter": "python",
   "pygments_lexer": "ipython3",
   "version": "3.6.5"
  }
 },
 "nbformat": 4,
 "nbformat_minor": 2
}
