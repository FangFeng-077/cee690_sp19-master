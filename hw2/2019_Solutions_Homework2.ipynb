{
 "cells": [
  {
   "cell_type": "markdown",
   "metadata": {
    "toc": true
   },
   "source": [
    "<h1>Table of Contents<span class=\"tocSkip\"></span></h1>\n",
    "<div class=\"toc\"><ul class=\"toc-item\"><li><span><a href=\"#Problem-1:-Thinking-about-validation\" data-toc-modified-id=\"Problem-1:-Thinking-about-validation-1\"><span class=\"toc-item-num\">1&nbsp;&nbsp;</span>Problem 1: Thinking about validation</a></span><ul class=\"toc-item\"><li><span><a href=\"#What-level-of-K-would-you-choose?\" data-toc-modified-id=\"What-level-of-K-would-you-choose?-1.1\"><span class=\"toc-item-num\">1.1&nbsp;&nbsp;</span>What level of K would you choose?</a></span></li><li><span><a href=\"#When-will-the-error-rate-be-robust-and-give-similar-results-as-AUC?\" data-toc-modified-id=\"When-will-the-error-rate-be-robust-and-give-similar-results-as-AUC?-1.2\"><span class=\"toc-item-num\">1.2&nbsp;&nbsp;</span>When will the error rate be robust and give similar results as AUC?</a></span></li><li><span><a href=\"#Consider-the-following-analysis:\" data-toc-modified-id=\"Consider-the-following-analysis:-1.3\"><span class=\"toc-item-num\">1.3&nbsp;&nbsp;</span>Consider the following analysis:</a></span><ul class=\"toc-item\"><li><span><a href=\"#How-would-you-correct-it?\" data-toc-modified-id=\"How-would-you-correct-it?-1.3.1\"><span class=\"toc-item-num\">1.3.1&nbsp;&nbsp;</span>How would you correct it?</a></span></li></ul></li></ul></li><li><span><a href=\"#Problem-2:-How-does-scaling-affect-penalized-regression?\" data-toc-modified-id=\"Problem-2:-How-does-scaling-affect-penalized-regression?-2\"><span class=\"toc-item-num\">2&nbsp;&nbsp;</span>Problem 2: How does scaling affect penalized regression?</a></span></li><li><span><a href=\"#Problem-3:-Model-selection-in-the-Diabetes-Data-Set\" data-toc-modified-id=\"Problem-3:-Model-selection-in-the-Diabetes-Data-Set-3\"><span class=\"toc-item-num\">3&nbsp;&nbsp;</span>Problem 3: Model selection in the Diabetes Data Set</a></span><ul class=\"toc-item\"><li><span><a href=\"#(a)-Plot-the-training-and-validation-mean-square-error-as-a-function-of-the-strength-of-the-penalty-(ridge-and-lasso)\" data-toc-modified-id=\"(a)-Plot-the-training-and-validation-mean-square-error-as-a-function-of-the-strength-of-the-penalty-(ridge-and-lasso)-3.1\"><span class=\"toc-item-num\">3.1&nbsp;&nbsp;</span>(a) Plot the training and validation mean square error as a function of the strength of the penalty (ridge and lasso)</a></span></li><li><span><a href=\"#(b)-Determine-a-good-setting-of-$\\alpha$\" data-toc-modified-id=\"(b)-Determine-a-good-setting-of-$\\alpha$-3.2\"><span class=\"toc-item-num\">3.2&nbsp;&nbsp;</span>(b) Determine a good setting of $\\alpha$</a></span></li><li><span><a href=\"#(c)-Do-you-prefer-Ridge-or-Lasso-here?\" data-toc-modified-id=\"(c)-Do-you-prefer-Ridge-or-Lasso-here?-3.3\"><span class=\"toc-item-num\">3.3&nbsp;&nbsp;</span>(c) Do you prefer Ridge or Lasso here?</a></span></li><li><span><a href=\"#Next,-consider-using-the-Elastic-Net-here,-which-requires-tuning-over-2-settings-simultaneously-(“alpha”-and-“l1_ratio”).\" data-toc-modified-id=\"Next,-consider-using-the-Elastic-Net-here,-which-requires-tuning-over-2-settings-simultaneously-(“alpha”-and-“l1_ratio”).-3.4\"><span class=\"toc-item-num\">3.4&nbsp;&nbsp;</span>Next, consider using the Elastic Net here, which requires tuning over 2 settings simultaneously (“alpha” and “l1_ratio”).</a></span></li><li><span><a href=\"#(d)-Visualize-the-validation-mean-square-error-as-a-function-of-these-settings\" data-toc-modified-id=\"(d)-Visualize-the-validation-mean-square-error-as-a-function-of-these-settings-3.5\"><span class=\"toc-item-num\">3.5&nbsp;&nbsp;</span>(d) Visualize the validation mean square error as a function of these settings</a></span></li><li><span><a href=\"#(e)-Determine-a-good-setting-for-the-parameters-and-defend-your-choice.\" data-toc-modified-id=\"(e)-Determine-a-good-setting-for-the-parameters-and-defend-your-choice.-3.6\"><span class=\"toc-item-num\">3.6&nbsp;&nbsp;</span>(e) Determine a good setting for the parameters and defend your choice.</a></span></li></ul></li><li><span><a href=\"#Problem-4:-Model-Selection-with-Penalized-Regression\" data-toc-modified-id=\"Problem-4:-Model-Selection-with-Penalized-Regression-4\"><span class=\"toc-item-num\">4&nbsp;&nbsp;</span>Problem 4: Model Selection with Penalized Regression</a></span></li><li><span><a href=\"#Problem-5:-Model-Selection-with-K-Nearest-Neighbors\" data-toc-modified-id=\"Problem-5:-Model-Selection-with-K-Nearest-Neighbors-5\"><span class=\"toc-item-num\">5&nbsp;&nbsp;</span>Problem 5: Model Selection with K-Nearest Neighbors</a></span></li></ul></div>"
   ]
  },
  {
   "cell_type": "markdown",
   "metadata": {},
   "source": [
    "## Problem 1: Thinking about validation\n",
    "\n",
    "### What level of K would you choose? \n",
    "\n",
    "We choose K so that the error is minimized. Therefore, we choose k=10 (approximately)\n",
    "\n",
    "### When will the error rate be robust and give similar results as AUC?\n",
    "\n",
    "Recall from homework 1 that accuracy was not helpful for the medical testing application because the dataset was not balanced (i.e., there were many more negative cases than positive cases). AUC is more robust than accuracy because AUC performs well even when the dataset is imbalanced. \n",
    "\n",
    "So, if the developer chooses to use error rate (accuracy) instead of AUC, then he or she must ensure that the dataset is balanced (i.e., all classes are represented equally). \n",
    "\n",
    "### Consider the following analysis:\n",
    "\n",
    "1. Screen the predictors: find a subset of “good” predictors that show fairly strong (univariate) correlation with the class labels\n",
    "2. Split the data into a training and validation set\n",
    "3. Using just this subset of predictors, build a multivariate classifier.\n",
    "4. Use validation error to estimate the unknown tuning parameters and to estimate the prediction error of the final model.\n",
    "\n",
    "#### How would you correct it?\n",
    "\n",
    "In this approach, the validation performance would not generalize to the population because the predictors are screened before the data are split into training and validation sets. The purpose of splitting the data into training and validation sets (and also of using cross-validation) is to obtain parameter estimates that generalize to the population. The proper approach would be:\n",
    "\n",
    "1. split the data into a training and validation set\n",
    "2. find a subset of \"good\" predictors   \n",
    "3. build a multivariate classifier   \n",
    "4. use validation error to estimate the tuning parameters and to estimate the prediction error of the final model"
   ]
  },
  {
   "cell_type": "markdown",
   "metadata": {},
   "source": [
    "## Problem 2: How does scaling affect penalized regression? \n",
    "\n",
    "$L_1=(y-xb)^{2}+\\lambda b^2$ and $\\frac{d L_1}{d b}=-2xy+2x^2b+2\\lambda b$\n",
    "\n",
    "$L_2=a^2(y-xb)^{2}+\\lambda ^* b^2$ and $\\frac{d L_2}{d b}=-2a^2xy+2a^2x^2b+2\\lambda^* b$\n",
    "\n",
    "from $\\frac{d L_1}{d b}=0$ we get: $b=\\frac{xy}{\\lambda + x^2}$ and from $\\frac{d L_2}{d b}=0$ we get: $b=\\frac{xy}{\\lambda^* a^{-2} + x^2}$\n",
    "\n",
    "In order to find the value of $\\lambda^*$ that gives the same answer for both regression solutions, we must set both cases equal to one another.\n",
    "\n",
    "$\\frac{xy}{\\lambda + x^2} = \\frac{xy}{\\lambda^* a^{-2} + x^2}$\n",
    "\n",
    "doing the algebra, we find that\n",
    "\n",
    "$\\lambda^*=a^2\\lambda$\n",
    "\n",
    "We see that scaling the data by $a$ can have a significant effect on the penalization behavior of $\\lambda$. \n",
    "\n",
    "Specifically,\n",
    "\n",
    "$L_1=(y-xb)^{2}+\\lambda b^2$  \n",
    "$L_2=a^2(y-xb)^{2}+a^2\\lambda b^2$ or $L_2=a^2L_1$"
   ]
  },
  {
   "cell_type": "markdown",
   "metadata": {},
   "source": [
    "## Problem 3: Model selection in the Diabetes Data Set"
   ]
  },
  {
   "cell_type": "markdown",
   "metadata": {},
   "source": [
    "### (a) Plot the training and validation mean square error as a function of the strength of the penalty (ridge and lasso)"
   ]
  },
  {
   "cell_type": "code",
   "execution_count": 1,
   "metadata": {
    "collapsed": true
   },
   "outputs": [],
   "source": [
    "import numpy as np\n",
    "\n",
    " # To plot pretty figures\n",
    "import matplotlib.pyplot as plt\n",
    "%matplotlib inline \n",
    "# This command figures show up in the notebook.  It's a \"magic\" command...\n",
    "# Typically, this now happens by default so it is often an unnecessary command, but is good for standardization.\n",
    "plt.rcParams['axes.labelsize'] = 14\n",
    "plt.rcParams['xtick.labelsize'] = 12\n",
    "plt.rcParams['ytick.labelsize'] = 12\n",
    "\n",
    "import pandas as pd"
   ]
  },
  {
   "cell_type": "code",
   "execution_count": 2,
   "metadata": {
    "collapsed": true
   },
   "outputs": [],
   "source": [
    "from sklearn import model_selection\n",
    "from sklearn import preprocessing\n",
    "from sklearn import datasets\n",
    "\n",
    "diabetes=datasets.load_diabetes(return_X_y=False)\n",
    "X_train,X_valid,y_train,y_valid=\\\n",
    "    model_selection.train_test_split(diabetes['data'],diabetes['target'],random_state=42)"
   ]
  },
  {
   "cell_type": "code",
   "execution_count": 3,
   "metadata": {
    "collapsed": true
   },
   "outputs": [],
   "source": [
    " # Import relevant functions\n",
    "from sklearn.metrics import mean_squared_error\n",
    "from sklearn import linear_model"
   ]
  },
  {
   "cell_type": "code",
   "execution_count": 4,
   "metadata": {
    "collapsed": true
   },
   "outputs": [],
   "source": [
    "# Ridge regularization\n",
    "n_alphas = 200\n",
    "alphas = np.logspace(-4, 1, n_alphas)\n",
    "\n",
    "coefs = []\n",
    "mse_valid=[]\n",
    "mse_train=[]\n",
    "for a in alphas:\n",
    "    ridge=linear_model.Ridge(alpha=a)\n",
    "    ridge.fit(X_train, y_train)\n",
    "    coefs.append(ridge.coef_)\n",
    "    mse_valid.append(\\\n",
    "            mean_squared_error(y_true=y_valid,y_pred=ridge.predict(X_valid)))\n",
    "    mse_train.append(\\\n",
    "            mean_squared_error(y_true=y_train,y_pred=ridge.predict(X_train)))"
   ]
  },
  {
   "cell_type": "code",
   "execution_count": 5,
   "metadata": {},
   "outputs": [
    {
     "data": {
      "image/png": "[encoded data removed]",
      "text/plain": [
       "<matplotlib.figure.Figure at 0x10c2025f8>"
      ]
     },
     "metadata": {},
     "output_type": "display_data"
    }
   ],
   "source": [
    "fig=plt.figure(figsize=[6,4])\n",
    "ax = plt.gca()\n",
    "plt.plot(alphas, mse_train, label='train')\n",
    "plt.plot(alphas, mse_valid, label='valid')\n",
    "\n",
    "ax.set_xscale('log')\n",
    "#ax.set_xlim(ax.get_xlim()[::-1])  # reverse axis\n",
    "plt.xlabel('alpha')\n",
    "plt.ylabel('MSE')\n",
    "plt.title('MSE as a function of ridge regularization')\n",
    "plt.axis('tight')\n",
    "plt.legend()\n",
    "plt.show()"
   ]
  },
  {
   "cell_type": "code",
   "execution_count": 6,
   "metadata": {},
   "outputs": [
    {
     "name": "stdout",
     "output_type": "stream",
     "text": [
      "The lowest MSE is: 2807.78\n"
     ]
    }
   ],
   "source": [
    "# find the lowest validation MSE\n",
    "print('The lowest MSE is: {:.2f}'.format(np.amin(mse_valid)))"
   ]
  },
  {
   "cell_type": "code",
   "execution_count": 7,
   "metadata": {
    "collapsed": true
   },
   "outputs": [],
   "source": [
    "# lasso regularization\n",
    "n_alphas = 200\n",
    "alphas = np.logspace(-4, .5, n_alphas)\n",
    "\n",
    "coefs = []\n",
    "mse_valid=[]\n",
    "mse_train=[]\n",
    "for a in alphas:\n",
    "    ridge=linear_model.Lasso(alpha=a)\n",
    "    ridge.fit(X_train, y_train)\n",
    "    coefs.append(ridge.coef_)\n",
    "    mse_valid.append(\\\n",
    "            mean_squared_error(y_true=y_valid,y_pred=ridge.predict(X_valid)))\n",
    "    mse_train.append(\\\n",
    "            mean_squared_error(y_true=y_train,y_pred=ridge.predict(X_train)))"
   ]
  },
  {
   "cell_type": "code",
   "execution_count": 8,
   "metadata": {},
   "outputs": [
    {
     "data": {
      "image/png": "[encoded data removed]",
      "text/plain": [
       "<matplotlib.figure.Figure at 0x10df58ef0>"
      ]
     },
     "metadata": {},
     "output_type": "display_data"
    }
   ],
   "source": [
    "fig=plt.figure(figsize=[6,4])\n",
    "ax = plt.gca()\n",
    "plt.plot(alphas, mse_train, label='train')\n",
    "plt.plot(alphas, mse_valid, label='valid')\n",
    "\n",
    "ax.set_xscale('log')\n",
    "#ax.set_xlim(ax.get_xlim()[::-1])  # reverse axis\n",
    "plt.xlabel('alpha')\n",
    "plt.ylabel('MSE')\n",
    "plt.title('MSE as a function of lasso regularization')\n",
    "plt.axis('tight')\n",
    "plt.legend()\n",
    "plt.show()"
   ]
  },
  {
   "cell_type": "code",
   "execution_count": 9,
   "metadata": {},
   "outputs": [
    {
     "name": "stdout",
     "output_type": "stream",
     "text": [
      "The lowest MSE is: 2753.89\n"
     ]
    }
   ],
   "source": [
    "# find the lowest validation MSE\n",
    "print('The lowest MSE is: {:.2f}'.format(np.amin(mse_valid)))"
   ]
  },
  {
   "cell_type": "markdown",
   "metadata": {},
   "source": [
    "### (b) Determine a good setting of $\\alpha$\n",
    "\n",
    "We want to choose $\\alpha$ so that the MSE is as low as possible. Let's find the value of $\\alpha$ that corresponds to the lowest MSE. "
   ]
  },
  {
   "cell_type": "code",
   "execution_count": 10,
   "metadata": {},
   "outputs": [
    {
     "name": "stdout",
     "output_type": "stream",
     "text": [
      "The best alpha is: 0.10\n"
     ]
    }
   ],
   "source": [
    "# find alpha that corresponds to the lowest validation MSE\n",
    "print('The best alpha is: {:.2f}'.format(alphas[np.argmin(mse_valid)]))"
   ]
  },
  {
   "cell_type": "markdown",
   "metadata": {},
   "source": [
    "### (c) Do you prefer Ridge or Lasso here?\n",
    "\n",
    "We prefer the model with the lowest validation MSE. In this case, we prefer lasso. "
   ]
  },
  {
   "cell_type": "markdown",
   "metadata": {},
   "source": [
    "### Next, consider using the Elastic Net here, which requires tuning over 2 settings simultaneously (“alpha” and “l1_ratio”).\n",
    "\n",
    "### (d) Visualize the validation mean square error as a function of these settings"
   ]
  },
  {
   "cell_type": "code",
   "execution_count": 11,
   "metadata": {
    "collapsed": true
   },
   "outputs": [],
   "source": [
    "# elastic net\n",
    "n_alphas = 100\n",
    "alphas = np.logspace(-4, .5, n_alphas)\n",
    "l1_ratio = np.linspace(0.01,1,n_alphas)\n",
    "\n",
    "df = pd.DataFrame([])\n",
    "for a in alphas:\n",
    "    for b in l1_ratio:\n",
    "        enet=linear_model.ElasticNet(alpha=a, l1_ratio=b)\n",
    "        enet.fit(X_train[:100,:], y_train[:100])\n",
    "        df = df.append(pd.DataFrame({'alpha': a, 'l1_ratio': b, 'mse': mean_squared_error(y_true=y_valid,y_pred=enet.predict(X_valid))}, index=[0]))"
   ]
  },
  {
   "cell_type": "code",
   "execution_count": 12,
   "metadata": {},
   "outputs": [
    {
     "data": {
      "image/png": "[encoded data removed]",
      "text/plain": [
       "<matplotlib.figure.Figure at 0x10e3dd518>"
      ]
     },
     "metadata": {},
     "output_type": "display_data"
    }
   ],
   "source": [
    "# visualize alphas, l1_ratio, and corresponding MSE\n",
    "import seaborn as sns\n",
    "dd = df.round(6)\n",
    "dd = dd.pivot('alpha', 'l1_ratio', 'mse')\n",
    "ax = sns.heatmap(dd)\n"
   ]
  },
  {
   "cell_type": "markdown",
   "metadata": {},
   "source": [
    "### (e) Determine a good setting for the parameters and defend your choice."
   ]
  },
  {
   "cell_type": "code",
   "execution_count": 13,
   "metadata": {},
   "outputs": [
    {
     "data": {
      "text/html": [
       "<div>\n",
       "<style>\n",
       "    .dataframe thead tr:only-child th {\n",
       "        text-align: right;\n",
       "    }\n",
       "\n",
       "    .dataframe thead th {\n",
       "        text-align: left;\n",
       "    }\n",
       "\n",
       "    .dataframe tbody tr th {\n",
       "        vertical-align: top;\n",
       "    }\n",
       "</style>\n",
       "<table border=\"1\" class=\"dataframe\">\n",
       "  <thead>\n",
       "    <tr style=\"text-align: right;\">\n",
       "      <th></th>\n",
       "      <th>alpha</th>\n",
       "      <th>l1_ratio</th>\n",
       "      <th>mse</th>\n",
       "    </tr>\n",
       "  </thead>\n",
       "  <tbody>\n",
       "    <tr>\n",
       "      <th>0</th>\n",
       "      <td>0.480638</td>\n",
       "      <td>1.0</td>\n",
       "      <td>2886.604871</td>\n",
       "    </tr>\n",
       "  </tbody>\n",
       "</table>\n",
       "</div>"
      ],
      "text/plain": [
       "      alpha  l1_ratio          mse\n",
       "0  0.480638       1.0  2886.604871"
      ]
     },
     "execution_count": 13,
     "metadata": {},
     "output_type": "execute_result"
    }
   ],
   "source": [
    "# print the row of the dataframe that corresponds to the lowest MSE\n",
    "df[df['mse'] == np.amin(df['mse'])]"
   ]
  },
  {
   "cell_type": "markdown",
   "metadata": {},
   "source": [
    "Based on the table above, I would choose alpha = 0.48 and l1_ratio = 1 because these parameter values correspond to the lowest validation MSE. "
   ]
  },
  {
   "cell_type": "markdown",
   "metadata": {},
   "source": [
    "## Problem 4: Model Selection with Penalized Regression "
   ]
  },
  {
   "cell_type": "code",
   "execution_count": 14,
   "metadata": {
    "collapsed": true
   },
   "outputs": [],
   "source": [
    "# load the data\n",
    "X = pd.read_csv('hw2_hw2_problem_4_X.csv')\n",
    "X = X.drop(X.columns[[0]], axis=1) # drop the first column\n",
    "y = pd.read_csv('hw2_hw2_problem_4_y.csv')\n",
    "y = y.drop(y.columns[[0]], axis=1)\n",
    "X_blind = pd.read_csv('hw2_hw2_problem_4_X_blind.csv')\n",
    "X_blind = X_blind.drop(X_blind.columns[[0]], axis=1)"
   ]
  },
  {
   "cell_type": "code",
   "execution_count": 15,
   "metadata": {
    "collapsed": true
   },
   "outputs": [],
   "source": [
    "# split into train/validation sets\n",
    "X_train,X_valid,y_train,y_valid=\\\n",
    "    model_selection.train_test_split(X,y,random_state=42)"
   ]
  },
  {
   "cell_type": "code",
   "execution_count": 16,
   "metadata": {
    "collapsed": true
   },
   "outputs": [],
   "source": [
    "# load scalers\n",
    "std_scaler = preprocessing.StandardScaler()\n",
    "minmax_scaler = preprocessing.MinMaxScaler()\n",
    "maxabs_scaler = preprocessing.MaxAbsScaler()"
   ]
  },
  {
   "cell_type": "code",
   "execution_count": 17,
   "metadata": {},
   "outputs": [
    {
     "name": "stderr",
     "output_type": "stream",
     "text": [
      "/Users/Jon/anaconda3/lib/python3.6/site-packages/sklearn/linear_model/coordinate_descent.py:491: ConvergenceWarning: Objective did not converge. You might want to increase the number of iterations. Fitting data with very small alpha may cause precision problems.\n",
      "  ConvergenceWarning)\n"
     ]
    }
   ],
   "source": [
    "# optimize model parameters and scalers\n",
    "n_alphas = 200\n",
    "alphas = np.logspace(-4, 1, n_alphas)\n",
    "scalers = [std_scaler, minmax_scaler, maxabs_scaler]\n",
    "scaler_name = ['standard', 'minmax', 'maxabs']\n",
    "models = [linear_model.Ridge, linear_model.Lasso]\n",
    "model_name = ['ridge', 'lasso']\n",
    "\n",
    "df = pd.DataFrame([]) # make an empty dataframe\n",
    "\n",
    "for s in range(3): # loop through the different scalers\n",
    "    name_scaler = scaler_name[s]\n",
    "    scaler = scalers[s] \n",
    "    scaler.fit(X_train)\n",
    "    X_train_rescaled = scaler.transform(X_train)\n",
    "    X_valid_rescaled = scaler.transform(X_valid)\n",
    "    \n",
    "    for m in range(2): # loop through the different models\n",
    "        name_model = model_name[m]\n",
    "        for a in alphas: # loop through the different alphas\n",
    "            model = models[m](alpha=a)\n",
    "            model.fit(X_train_rescaled, y_train)\n",
    "            mse = mean_squared_error(y_true=y_valid,y_pred=model.predict(X_valid_rescaled))\n",
    "            df = df.append(pd.DataFrame({'scaler': name_scaler, \n",
    "                                         'model': name_model, \n",
    "                                         'alpha' : a,\n",
    "                                         'mse' : mse}, index=[0]))"
   ]
  },
  {
   "cell_type": "code",
   "execution_count": 18,
   "metadata": {},
   "outputs": [
    {
     "data": {
      "text/html": [
       "<div>\n",
       "<style>\n",
       "    .dataframe thead tr:only-child th {\n",
       "        text-align: right;\n",
       "    }\n",
       "\n",
       "    .dataframe thead th {\n",
       "        text-align: left;\n",
       "    }\n",
       "\n",
       "    .dataframe tbody tr th {\n",
       "        vertical-align: top;\n",
       "    }\n",
       "</style>\n",
       "<table border=\"1\" class=\"dataframe\">\n",
       "  <thead>\n",
       "    <tr style=\"text-align: right;\">\n",
       "      <th></th>\n",
       "      <th>alpha</th>\n",
       "      <th>model</th>\n",
       "      <th>mse</th>\n",
       "      <th>scaler</th>\n",
       "    </tr>\n",
       "  </thead>\n",
       "  <tbody>\n",
       "    <tr>\n",
       "      <th>0</th>\n",
       "      <td>0.024374</td>\n",
       "      <td>lasso</td>\n",
       "      <td>1.568097</td>\n",
       "      <td>minmax</td>\n",
       "    </tr>\n",
       "  </tbody>\n",
       "</table>\n",
       "</div>"
      ],
      "text/plain": [
       "      alpha  model       mse  scaler\n",
       "0  0.024374  lasso  1.568097  minmax"
      ]
     },
     "execution_count": 18,
     "metadata": {},
     "output_type": "execute_result"
    }
   ],
   "source": [
    "# print the row of the dataframe that corresponds to the lowest MSE\n",
    "df[df['mse'] == np.amin(df['mse'])]"
   ]
  },
  {
   "cell_type": "markdown",
   "metadata": {},
   "source": [
    "According to this result, we would choose the minmax scaler, lasso model, and alpha=0.024"
   ]
  },
  {
   "cell_type": "code",
   "execution_count": 19,
   "metadata": {
    "collapsed": true
   },
   "outputs": [],
   "source": [
    "# make prediction and save\n",
    "\n",
    "# rescale the data\n",
    "scaler = minmax_scaler\n",
    "scaler.fit(X_train) \n",
    "X_train_rescaled = scaler.transform(X_train)\n",
    "X_blind_rescaled = scaler.transform(X_blind) # don't forget to scale the blind data\n",
    "\n",
    "# predict using best model\n",
    "model = linear_model.Lasso(alpha = 0.024)\n",
    "model.fit(X_train_rescaled, y_train)\n",
    "prediction = pd.DataFrame(model.predict(X_blind_rescaled))\n",
    "\n",
    "# save to excel\n",
    "prediction.to_excel('hw2_problem4_prediction.xlsx')"
   ]
  },
  {
   "cell_type": "code",
   "execution_count": 20,
   "metadata": {},
   "outputs": [
    {
     "name": "stdout",
     "output_type": "stream",
     "text": [
      "The blind MSE is: 1.08\n"
     ]
    }
   ],
   "source": [
    "# check the MSE\n",
    "y_blind = pd.read_csv('hw2_hw2_problem_4_y_blind.csv')\n",
    "y_blind = y_blind.drop(y_blind.columns[[0]], axis=1)\n",
    "print('The blind MSE is: {:.2f}'.format(mean_squared_error(y_true=y_blind,y_pred=prediction)))"
   ]
  },
  {
   "cell_type": "markdown",
   "metadata": {},
   "source": [
    "## Problem 5: Model Selection with K-Nearest Neighbors "
   ]
  },
  {
   "cell_type": "code",
   "execution_count": 21,
   "metadata": {
    "collapsed": true
   },
   "outputs": [],
   "source": [
    "# load the data\n",
    "X = pd.read_csv('hw2_hw2_problem_5_X.csv')\n",
    "X = X.drop(X.columns[[0]], axis=1)\n",
    "y = pd.read_csv('hw2_hw2_problem_5_y.csv')\n",
    "y = y.drop(y.columns[[0]], axis=1)\n",
    "X_blind = pd.read_csv('hw2_hw2_problem_5_X_blind.csv')\n",
    "X_blind = X_blind.drop(X_blind.columns[[0]], axis=1)"
   ]
  },
  {
   "cell_type": "code",
   "execution_count": 22,
   "metadata": {
    "collapsed": true
   },
   "outputs": [],
   "source": [
    "# split into train/validation sets\n",
    "X_train,X_valid,y_train,y_valid=\\\n",
    "    model_selection.train_test_split(X,y,random_state=41)"
   ]
  },
  {
   "cell_type": "code",
   "execution_count": 23,
   "metadata": {},
   "outputs": [
    {
     "name": "stderr",
     "output_type": "stream",
     "text": [
      "/Users/Jon/anaconda3/lib/python3.6/site-packages/sklearn/utils/validation.py:547: DataConversionWarning: A column-vector y was passed when a 1d array was expected. Please change the shape of y to (n_samples, ), for example using ravel().\n",
      "  y = column_or_1d(y, warn=True)\n",
      "/Users/Jon/anaconda3/lib/python3.6/site-packages/sklearn/utils/__init__.py:93: FutureWarning: Conversion of the second argument of issubdtype from `int` to `np.signedinteger` is deprecated. In future, it will be treated as `np.int64 == np.dtype(int).type`.\n",
      "  if np.issubdtype(mask.dtype, np.int):\n",
      "/Users/Jon/anaconda3/lib/python3.6/site-packages/ipykernel_launcher.py:18: DataConversionWarning: A column-vector y was passed when a 1d array was expected. Please change the shape of y to (n_samples, ), for example using ravel().\n"
     ]
    }
   ],
   "source": [
    "# optimize neighbors and K best features\n",
    "from sklearn.feature_selection import SelectKBest, f_classif\n",
    "from sklearn import neighbors\n",
    "from sklearn import metrics\n",
    "\n",
    "num_features = 20 # maximum features to try\n",
    "num_neighbors = 100 # maximum neighbors to try\n",
    "\n",
    "df = pd.DataFrame([]) # make an empty dataframe\n",
    "\n",
    "for k in range(1,num_features):\n",
    "    K_best = SelectKBest(f_classif, k=k).fit(X_train, y_train)\n",
    "    X_train_new = K_best.transform(X_train)\n",
    "    X_valid_new = K_best.transform(X_valid) # don't forget to transform the validation set, too!\n",
    "    \n",
    "    for n in range(1,num_neighbors):\n",
    "        NNclassifier = neighbors.KNeighborsClassifier(n_neighbors=n)\n",
    "        NNclassifier.fit(X_train_new, y_train)\n",
    "        y_pred = NNclassifier.predict_proba(X_valid_new)[:,1]\n",
    "        fpr, tpr, _ = metrics.roc_curve(y_valid, y_pred)\n",
    "        roc_auc = metrics.auc(fpr, tpr)\n",
    "        \n",
    "        df = df.append(pd.DataFrame({'k': k, \n",
    "                                     'n': n, \n",
    "                                     'AUC' : roc_auc}, index=[0]))\n",
    "        "
   ]
  },
  {
   "cell_type": "code",
   "execution_count": 24,
   "metadata": {},
   "outputs": [
    {
     "data": {
      "text/html": [
       "<div>\n",
       "<style>\n",
       "    .dataframe thead tr:only-child th {\n",
       "        text-align: right;\n",
       "    }\n",
       "\n",
       "    .dataframe thead th {\n",
       "        text-align: left;\n",
       "    }\n",
       "\n",
       "    .dataframe tbody tr th {\n",
       "        vertical-align: top;\n",
       "    }\n",
       "</style>\n",
       "<table border=\"1\" class=\"dataframe\">\n",
       "  <thead>\n",
       "    <tr style=\"text-align: right;\">\n",
       "      <th></th>\n",
       "      <th>AUC</th>\n",
       "      <th>k</th>\n",
       "      <th>n</th>\n",
       "    </tr>\n",
       "  </thead>\n",
       "  <tbody>\n",
       "    <tr>\n",
       "      <th>0</th>\n",
       "      <td>0.928496</td>\n",
       "      <td>2</td>\n",
       "      <td>16</td>\n",
       "    </tr>\n",
       "  </tbody>\n",
       "</table>\n",
       "</div>"
      ],
      "text/plain": [
       "        AUC  k   n\n",
       "0  0.928496  2  16"
      ]
     },
     "execution_count": 24,
     "metadata": {},
     "output_type": "execute_result"
    }
   ],
   "source": [
    "# print the row of the dataframe that corresponds to the highest AUC\n",
    "df[df['AUC'] == np.amax(df['AUC'])]"
   ]
  },
  {
   "cell_type": "markdown",
   "metadata": {},
   "source": [
    " According to this result, we should choose k=2 features and n=16 neighbors"
   ]
  },
  {
   "cell_type": "code",
   "execution_count": 25,
   "metadata": {},
   "outputs": [
    {
     "name": "stderr",
     "output_type": "stream",
     "text": [
      "/Users/Jon/anaconda3/lib/python3.6/site-packages/sklearn/utils/validation.py:547: DataConversionWarning: A column-vector y was passed when a 1d array was expected. Please change the shape of y to (n_samples, ), for example using ravel().\n",
      "  y = column_or_1d(y, warn=True)\n",
      "/Users/Jon/anaconda3/lib/python3.6/site-packages/sklearn/utils/__init__.py:93: FutureWarning: Conversion of the second argument of issubdtype from `int` to `np.signedinteger` is deprecated. In future, it will be treated as `np.int64 == np.dtype(int).type`.\n",
      "  if np.issubdtype(mask.dtype, np.int):\n",
      "/Users/Jon/anaconda3/lib/python3.6/site-packages/ipykernel_launcher.py:10: DataConversionWarning: A column-vector y was passed when a 1d array was expected. Please change the shape of y to (n_samples, ), for example using ravel().\n",
      "  # Remove the CWD from sys.path while we load stuff.\n"
     ]
    }
   ],
   "source": [
    "# make prediction and save\n",
    "\n",
    "# select k best features\n",
    "K_best = SelectKBest(f_classif, k=2).fit(X_train, y_train)\n",
    "X_train_new = K_best.transform(X_train)\n",
    "X_blind_new = K_best.transform(X_blind) \n",
    "\n",
    "# predict using best model\n",
    "model = neighbors.KNeighborsClassifier(n_neighbors=16)\n",
    "NNclassifier.fit(X_train_new, y_train)\n",
    "prediction = pd.DataFrame(NNclassifier.predict_proba(X_blind_new)[:,1])\n",
    "\n",
    "# save to excel\n",
    "prediction.to_excel('hw2_problem5_prediction.xlsx')"
   ]
  },
  {
   "cell_type": "code",
   "execution_count": 26,
   "metadata": {},
   "outputs": [
    {
     "name": "stdout",
     "output_type": "stream",
     "text": [
      "The blind AUC is: 0.90\n"
     ]
    }
   ],
   "source": [
    "# check the AUC\n",
    "y_blind = pd.read_csv('hw2_hw2_problem_5_y_blind.csv')\n",
    "y_blind = y_blind.drop(y_blind.columns[[0]], axis=1)\n",
    "fpr, tpr, _ = metrics.roc_curve(y_blind, prediction)\n",
    "print('The blind AUC is: {:.2f}'.format(metrics.auc(fpr, tpr)))"
   ]
  },
  {
   "cell_type": "code",
   "execution_count": null,
   "metadata": {
    "collapsed": true
   },
   "outputs": [],
   "source": []
  }
 ],
 "metadata": {
  "kernelspec": {
   "display_name": "Python 3",
   "language": "python",
   "name": "python3"
  },
  "language_info": {
   "codemirror_mode": {
    "name": "ipython",
    "version": 3
   },
   "file_extension": ".py",
   "mimetype": "text/x-python",
   "name": "python",
   "nbconvert_exporter": "python",
   "pygments_lexer": "ipython3",
   "version": "3.6.8"
  },
  "toc": {
   "base_numbering": 1,
   "nav_menu": {},
   "number_sections": true,
   "sideBar": true,
   "skip_h1_title": false,
   "title_cell": "Table of Contents",
   "title_sidebar": "Contents",
   "toc_cell": true,
   "toc_position": {},
   "toc_section_display": true,
   "toc_window_display": false
  }
 },
 "nbformat": 4,
 "nbformat_minor": 2
}
